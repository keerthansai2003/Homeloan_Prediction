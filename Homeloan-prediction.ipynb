{
  "cells": [
    {
      "cell_type": "markdown",
      "metadata": {
        "id": "oiqAwJHsYVT1"
      },
      "source": [
        "#**IMPORTING LIBRARIES**"
      ]
    },
    {
      "cell_type": "code",
      "execution_count": null,
      "metadata": {
        "id": "WbSHPDU4OWTy"
      },
      "outputs": [],
      "source": [
        "import numpy as np\n",
        "import pandas as pd\n",
        "import matplotlib.pyplot as plt\n",
        "import seaborn as sns\n",
        "from sklearn.preprocessing import LabelEncoder\n",
        "from scipy import stats\n",
        "from sklearn.preprocessing import StandardScaler"
      ]
    },
    {
      "cell_type": "code",
      "execution_count": null,
      "metadata": {
        "colab": {
          "base_uri": "https://localhost:8080/"
        },
        "id": "hhXXTHXn9-yx",
        "outputId": "fee46ba2-6842-446b-8532-0075805c4b10"
      },
      "outputs": [
        {
          "output_type": "stream",
          "name": "stdout",
          "text": [
            "Mounted at /content/drive\n"
          ]
        }
      ],
      "source": [
        "from google.colab import drive\n",
        "drive.mount('/content/drive')"
      ]
    },
    {
      "cell_type": "markdown",
      "metadata": {
        "id": "aTZtGxEWYZeq"
      },
      "source": [
        "#**IMPORTING DATA SET**"
      ]
    },
    {
      "cell_type": "code",
      "execution_count": null,
      "metadata": {
        "id": "Ov-5k6JKQRtm"
      },
      "outputs": [],
      "source": [
        "train_data = pd.read_csv(\"/content/drive/MyDrive/ML_AS2/Q1/train_data.csv\")\n",
        "test_data = pd.read_csv(\"/content/drive/MyDrive/ML_Project/test_data.csv\")"
      ]
    },
    {
      "cell_type": "markdown",
      "metadata": {
        "id": "KXbnmOBWwC9S"
      },
      "source": [
        "#**OVERVIEW OF TRAIN DATA**"
      ]
    },
    {
      "cell_type": "markdown",
      "metadata": {
        "id": "84OgVdMiYfyq"
      },
      "source": [
        "SIZE OF DATASET"
      ]
    },
    {
      "cell_type": "code",
      "execution_count": null,
      "metadata": {
        "colab": {
          "base_uri": "https://localhost:8080/",
          "height": 35
        },
        "id": "fBXQKXjBQd9c",
        "outputId": "f57a94b0-794b-41fa-e7f6-bf7d093b0ee8"
      },
      "outputs": [
        {
          "output_type": "execute_result",
          "data": {
            "text/plain": [
              "'(184506, 122)'"
            ],
            "application/vnd.google.colaboratory.intrinsic+json": {
              "type": "string"
            }
          },
          "metadata": {},
          "execution_count": 4
        }
      ],
      "source": [
        "format(train_data.shape)"
      ]
    },
    {
      "cell_type": "markdown",
      "metadata": {
        "id": "0fOTH4_YYlAp"
      },
      "source": [
        "DESCRIPTION OF DATA"
      ]
    },
    {
      "cell_type": "code",
      "execution_count": null,
      "metadata": {
        "colab": {
          "base_uri": "https://localhost:8080/",
          "height": 394
        },
        "id": "6ueCPKExQlmt",
        "outputId": "6b604ff5-6194-4ede-d05a-e52e1255f154"
      },
      "outputs": [
        {
          "output_type": "execute_result",
          "data": {
            "text/plain": [
              "          SK_ID_CURR   CNT_CHILDREN  AMT_INCOME_TOTAL    AMT_CREDIT  \\\n",
              "count  184506.000000  184506.000000      1.845060e+05  1.845060e+05   \n",
              "mean   278031.658488       0.416463      1.689985e+05  5.992854e+05   \n",
              "std    102789.553650       0.719614      2.942453e+05  4.021982e+05   \n",
              "min    100003.000000       0.000000      2.610000e+04  4.500000e+04   \n",
              "25%    188904.250000       0.000000      1.125000e+05  2.700000e+05   \n",
              "50%    277948.500000       0.000000      1.485000e+05  5.155290e+05   \n",
              "75%    367083.250000       1.000000      2.025000e+05  8.086500e+05   \n",
              "max    456254.000000      19.000000      1.170000e+08  4.050000e+06   \n",
              "\n",
              "         AMT_ANNUITY  AMT_GOODS_PRICE  REGION_POPULATION_RELATIVE  \\\n",
              "count  184500.000000     1.843390e+05               184506.000000   \n",
              "mean    27114.455805     5.386926e+05                    0.020868   \n",
              "std     14468.652072     3.692263e+05                    0.013818   \n",
              "min      1615.500000     4.050000e+04                    0.000290   \n",
              "25%     16555.500000     2.385000e+05                    0.010006   \n",
              "50%     24939.000000     4.500000e+05                    0.018850   \n",
              "75%     34596.000000     6.795000e+05                    0.028663   \n",
              "max    258025.500000     4.050000e+06                    0.072508   \n",
              "\n",
              "          DAYS_BIRTH  DAYS_EMPLOYED  DAYS_REGISTRATION  ...  FLAG_DOCUMENT_19  \\\n",
              "count  184506.000000  184506.000000       184506.00000  ...     184506.000000   \n",
              "mean   -16036.718307   63838.583271        -4984.89506  ...          0.000629   \n",
              "std      4361.484692  141295.297588         3524.99741  ...          0.025066   \n",
              "min    -25201.000000  -17912.000000       -23416.00000  ...          0.000000   \n",
              "25%    -19677.000000   -2757.000000        -7486.00000  ...          0.000000   \n",
              "50%    -15747.000000   -1211.000000        -4506.00000  ...          0.000000   \n",
              "75%    -12416.000000    -289.000000        -2000.00000  ...          0.000000   \n",
              "max     -7489.000000  365243.000000            0.00000  ...          1.000000   \n",
              "\n",
              "       FLAG_DOCUMENT_20  FLAG_DOCUMENT_21  AMT_REQ_CREDIT_BUREAU_HOUR  \\\n",
              "count     184506.000000     184506.000000               159508.000000   \n",
              "mean           0.000553          0.000325                    0.006338   \n",
              "std            0.023506          0.018030                    0.083743   \n",
              "min            0.000000          0.000000                    0.000000   \n",
              "25%            0.000000          0.000000                    0.000000   \n",
              "50%            0.000000          0.000000                    0.000000   \n",
              "75%            0.000000          0.000000                    0.000000   \n",
              "max            1.000000          1.000000                    4.000000   \n",
              "\n",
              "       AMT_REQ_CREDIT_BUREAU_DAY  AMT_REQ_CREDIT_BUREAU_WEEK  \\\n",
              "count              159508.000000               159508.000000   \n",
              "mean                    0.007335                    0.034400   \n",
              "std                     0.114671                    0.204187   \n",
              "min                     0.000000                    0.000000   \n",
              "25%                     0.000000                    0.000000   \n",
              "50%                     0.000000                    0.000000   \n",
              "75%                     0.000000                    0.000000   \n",
              "max                     9.000000                    7.000000   \n",
              "\n",
              "       AMT_REQ_CREDIT_BUREAU_MON  AMT_REQ_CREDIT_BUREAU_QRT  \\\n",
              "count              159508.000000              159508.000000   \n",
              "mean                    0.267247                   0.266770   \n",
              "std                     0.919465                   0.894563   \n",
              "min                     0.000000                   0.000000   \n",
              "25%                     0.000000                   0.000000   \n",
              "50%                     0.000000                   0.000000   \n",
              "75%                     0.000000                   0.000000   \n",
              "max                    24.000000                 261.000000   \n",
              "\n",
              "       AMT_REQ_CREDIT_BUREAU_YEAR         TARGET  \n",
              "count               159508.000000  184506.000000  \n",
              "mean                     1.897504       0.080729  \n",
              "std                      1.864439       0.272419  \n",
              "min                      0.000000       0.000000  \n",
              "25%                      0.000000       0.000000  \n",
              "50%                      1.000000       0.000000  \n",
              "75%                      3.000000       0.000000  \n",
              "max                     25.000000       1.000000  \n",
              "\n",
              "[8 rows x 106 columns]"
            ],
            "text/html": [
              "\n",
              "  <div id=\"df-a07a66c6-315e-400f-8a6d-c948a64e1ebb\">\n",
              "    <div class=\"colab-df-container\">\n",
              "      <div>\n",
              "<style scoped>\n",
              "    .dataframe tbody tr th:only-of-type {\n",
              "        vertical-align: middle;\n",
              "    }\n",
              "\n",
              "    .dataframe tbody tr th {\n",
              "        vertical-align: top;\n",
              "    }\n",
              "\n",
              "    .dataframe thead th {\n",
              "        text-align: right;\n",
              "    }\n",
              "</style>\n",
              "<table border=\"1\" class=\"dataframe\">\n",
              "  <thead>\n",
              "    <tr style=\"text-align: right;\">\n",
              "      <th></th>\n",
              "      <th>SK_ID_CURR</th>\n",
              "      <th>CNT_CHILDREN</th>\n",
              "      <th>AMT_INCOME_TOTAL</th>\n",
              "      <th>AMT_CREDIT</th>\n",
              "      <th>AMT_ANNUITY</th>\n",
              "      <th>AMT_GOODS_PRICE</th>\n",
              "      <th>REGION_POPULATION_RELATIVE</th>\n",
              "      <th>DAYS_BIRTH</th>\n",
              "      <th>DAYS_EMPLOYED</th>\n",
              "      <th>DAYS_REGISTRATION</th>\n",
              "      <th>...</th>\n",
              "      <th>FLAG_DOCUMENT_19</th>\n",
              "      <th>FLAG_DOCUMENT_20</th>\n",
              "      <th>FLAG_DOCUMENT_21</th>\n",
              "      <th>AMT_REQ_CREDIT_BUREAU_HOUR</th>\n",
              "      <th>AMT_REQ_CREDIT_BUREAU_DAY</th>\n",
              "      <th>AMT_REQ_CREDIT_BUREAU_WEEK</th>\n",
              "      <th>AMT_REQ_CREDIT_BUREAU_MON</th>\n",
              "      <th>AMT_REQ_CREDIT_BUREAU_QRT</th>\n",
              "      <th>AMT_REQ_CREDIT_BUREAU_YEAR</th>\n",
              "      <th>TARGET</th>\n",
              "    </tr>\n",
              "  </thead>\n",
              "  <tbody>\n",
              "    <tr>\n",
              "      <th>count</th>\n",
              "      <td>184506.000000</td>\n",
              "      <td>184506.000000</td>\n",
              "      <td>1.845060e+05</td>\n",
              "      <td>1.845060e+05</td>\n",
              "      <td>184500.000000</td>\n",
              "      <td>1.843390e+05</td>\n",
              "      <td>184506.000000</td>\n",
              "      <td>184506.000000</td>\n",
              "      <td>184506.000000</td>\n",
              "      <td>184506.00000</td>\n",
              "      <td>...</td>\n",
              "      <td>184506.000000</td>\n",
              "      <td>184506.000000</td>\n",
              "      <td>184506.000000</td>\n",
              "      <td>159508.000000</td>\n",
              "      <td>159508.000000</td>\n",
              "      <td>159508.000000</td>\n",
              "      <td>159508.000000</td>\n",
              "      <td>159508.000000</td>\n",
              "      <td>159508.000000</td>\n",
              "      <td>184506.000000</td>\n",
              "    </tr>\n",
              "    <tr>\n",
              "      <th>mean</th>\n",
              "      <td>278031.658488</td>\n",
              "      <td>0.416463</td>\n",
              "      <td>1.689985e+05</td>\n",
              "      <td>5.992854e+05</td>\n",
              "      <td>27114.455805</td>\n",
              "      <td>5.386926e+05</td>\n",
              "      <td>0.020868</td>\n",
              "      <td>-16036.718307</td>\n",
              "      <td>63838.583271</td>\n",
              "      <td>-4984.89506</td>\n",
              "      <td>...</td>\n",
              "      <td>0.000629</td>\n",
              "      <td>0.000553</td>\n",
              "      <td>0.000325</td>\n",
              "      <td>0.006338</td>\n",
              "      <td>0.007335</td>\n",
              "      <td>0.034400</td>\n",
              "      <td>0.267247</td>\n",
              "      <td>0.266770</td>\n",
              "      <td>1.897504</td>\n",
              "      <td>0.080729</td>\n",
              "    </tr>\n",
              "    <tr>\n",
              "      <th>std</th>\n",
              "      <td>102789.553650</td>\n",
              "      <td>0.719614</td>\n",
              "      <td>2.942453e+05</td>\n",
              "      <td>4.021982e+05</td>\n",
              "      <td>14468.652072</td>\n",
              "      <td>3.692263e+05</td>\n",
              "      <td>0.013818</td>\n",
              "      <td>4361.484692</td>\n",
              "      <td>141295.297588</td>\n",
              "      <td>3524.99741</td>\n",
              "      <td>...</td>\n",
              "      <td>0.025066</td>\n",
              "      <td>0.023506</td>\n",
              "      <td>0.018030</td>\n",
              "      <td>0.083743</td>\n",
              "      <td>0.114671</td>\n",
              "      <td>0.204187</td>\n",
              "      <td>0.919465</td>\n",
              "      <td>0.894563</td>\n",
              "      <td>1.864439</td>\n",
              "      <td>0.272419</td>\n",
              "    </tr>\n",
              "    <tr>\n",
              "      <th>min</th>\n",
              "      <td>100003.000000</td>\n",
              "      <td>0.000000</td>\n",
              "      <td>2.610000e+04</td>\n",
              "      <td>4.500000e+04</td>\n",
              "      <td>1615.500000</td>\n",
              "      <td>4.050000e+04</td>\n",
              "      <td>0.000290</td>\n",
              "      <td>-25201.000000</td>\n",
              "      <td>-17912.000000</td>\n",
              "      <td>-23416.00000</td>\n",
              "      <td>...</td>\n",
              "      <td>0.000000</td>\n",
              "      <td>0.000000</td>\n",
              "      <td>0.000000</td>\n",
              "      <td>0.000000</td>\n",
              "      <td>0.000000</td>\n",
              "      <td>0.000000</td>\n",
              "      <td>0.000000</td>\n",
              "      <td>0.000000</td>\n",
              "      <td>0.000000</td>\n",
              "      <td>0.000000</td>\n",
              "    </tr>\n",
              "    <tr>\n",
              "      <th>25%</th>\n",
              "      <td>188904.250000</td>\n",
              "      <td>0.000000</td>\n",
              "      <td>1.125000e+05</td>\n",
              "      <td>2.700000e+05</td>\n",
              "      <td>16555.500000</td>\n",
              "      <td>2.385000e+05</td>\n",
              "      <td>0.010006</td>\n",
              "      <td>-19677.000000</td>\n",
              "      <td>-2757.000000</td>\n",
              "      <td>-7486.00000</td>\n",
              "      <td>...</td>\n",
              "      <td>0.000000</td>\n",
              "      <td>0.000000</td>\n",
              "      <td>0.000000</td>\n",
              "      <td>0.000000</td>\n",
              "      <td>0.000000</td>\n",
              "      <td>0.000000</td>\n",
              "      <td>0.000000</td>\n",
              "      <td>0.000000</td>\n",
              "      <td>0.000000</td>\n",
              "      <td>0.000000</td>\n",
              "    </tr>\n",
              "    <tr>\n",
              "      <th>50%</th>\n",
              "      <td>277948.500000</td>\n",
              "      <td>0.000000</td>\n",
              "      <td>1.485000e+05</td>\n",
              "      <td>5.155290e+05</td>\n",
              "      <td>24939.000000</td>\n",
              "      <td>4.500000e+05</td>\n",
              "      <td>0.018850</td>\n",
              "      <td>-15747.000000</td>\n",
              "      <td>-1211.000000</td>\n",
              "      <td>-4506.00000</td>\n",
              "      <td>...</td>\n",
              "      <td>0.000000</td>\n",
              "      <td>0.000000</td>\n",
              "      <td>0.000000</td>\n",
              "      <td>0.000000</td>\n",
              "      <td>0.000000</td>\n",
              "      <td>0.000000</td>\n",
              "      <td>0.000000</td>\n",
              "      <td>0.000000</td>\n",
              "      <td>1.000000</td>\n",
              "      <td>0.000000</td>\n",
              "    </tr>\n",
              "    <tr>\n",
              "      <th>75%</th>\n",
              "      <td>367083.250000</td>\n",
              "      <td>1.000000</td>\n",
              "      <td>2.025000e+05</td>\n",
              "      <td>8.086500e+05</td>\n",
              "      <td>34596.000000</td>\n",
              "      <td>6.795000e+05</td>\n",
              "      <td>0.028663</td>\n",
              "      <td>-12416.000000</td>\n",
              "      <td>-289.000000</td>\n",
              "      <td>-2000.00000</td>\n",
              "      <td>...</td>\n",
              "      <td>0.000000</td>\n",
              "      <td>0.000000</td>\n",
              "      <td>0.000000</td>\n",
              "      <td>0.000000</td>\n",
              "      <td>0.000000</td>\n",
              "      <td>0.000000</td>\n",
              "      <td>0.000000</td>\n",
              "      <td>0.000000</td>\n",
              "      <td>3.000000</td>\n",
              "      <td>0.000000</td>\n",
              "    </tr>\n",
              "    <tr>\n",
              "      <th>max</th>\n",
              "      <td>456254.000000</td>\n",
              "      <td>19.000000</td>\n",
              "      <td>1.170000e+08</td>\n",
              "      <td>4.050000e+06</td>\n",
              "      <td>258025.500000</td>\n",
              "      <td>4.050000e+06</td>\n",
              "      <td>0.072508</td>\n",
              "      <td>-7489.000000</td>\n",
              "      <td>365243.000000</td>\n",
              "      <td>0.00000</td>\n",
              "      <td>...</td>\n",
              "      <td>1.000000</td>\n",
              "      <td>1.000000</td>\n",
              "      <td>1.000000</td>\n",
              "      <td>4.000000</td>\n",
              "      <td>9.000000</td>\n",
              "      <td>7.000000</td>\n",
              "      <td>24.000000</td>\n",
              "      <td>261.000000</td>\n",
              "      <td>25.000000</td>\n",
              "      <td>1.000000</td>\n",
              "    </tr>\n",
              "  </tbody>\n",
              "</table>\n",
              "<p>8 rows × 106 columns</p>\n",
              "</div>\n",
              "      <button class=\"colab-df-convert\" onclick=\"convertToInteractive('df-a07a66c6-315e-400f-8a6d-c948a64e1ebb')\"\n",
              "              title=\"Convert this dataframe to an interactive table.\"\n",
              "              style=\"display:none;\">\n",
              "        \n",
              "  <svg xmlns=\"http://www.w3.org/2000/svg\" height=\"24px\"viewBox=\"0 0 24 24\"\n",
              "       width=\"24px\">\n",
              "    <path d=\"M0 0h24v24H0V0z\" fill=\"none\"/>\n",
              "    <path d=\"M18.56 5.44l.94 2.06.94-2.06 2.06-.94-2.06-.94-.94-2.06-.94 2.06-2.06.94zm-11 1L8.5 8.5l.94-2.06 2.06-.94-2.06-.94L8.5 2.5l-.94 2.06-2.06.94zm10 10l.94 2.06.94-2.06 2.06-.94-2.06-.94-.94-2.06-.94 2.06-2.06.94z\"/><path d=\"M17.41 7.96l-1.37-1.37c-.4-.4-.92-.59-1.43-.59-.52 0-1.04.2-1.43.59L10.3 9.45l-7.72 7.72c-.78.78-.78 2.05 0 2.83L4 21.41c.39.39.9.59 1.41.59.51 0 1.02-.2 1.41-.59l7.78-7.78 2.81-2.81c.8-.78.8-2.07 0-2.86zM5.41 20L4 18.59l7.72-7.72 1.47 1.35L5.41 20z\"/>\n",
              "  </svg>\n",
              "      </button>\n",
              "      \n",
              "  <style>\n",
              "    .colab-df-container {\n",
              "      display:flex;\n",
              "      flex-wrap:wrap;\n",
              "      gap: 12px;\n",
              "    }\n",
              "\n",
              "    .colab-df-convert {\n",
              "      background-color: #E8F0FE;\n",
              "      border: none;\n",
              "      border-radius: 50%;\n",
              "      cursor: pointer;\n",
              "      display: none;\n",
              "      fill: #1967D2;\n",
              "      height: 32px;\n",
              "      padding: 0 0 0 0;\n",
              "      width: 32px;\n",
              "    }\n",
              "\n",
              "    .colab-df-convert:hover {\n",
              "      background-color: #E2EBFA;\n",
              "      box-shadow: 0px 1px 2px rgba(60, 64, 67, 0.3), 0px 1px 3px 1px rgba(60, 64, 67, 0.15);\n",
              "      fill: #174EA6;\n",
              "    }\n",
              "\n",
              "    [theme=dark] .colab-df-convert {\n",
              "      background-color: #3B4455;\n",
              "      fill: #D2E3FC;\n",
              "    }\n",
              "\n",
              "    [theme=dark] .colab-df-convert:hover {\n",
              "      background-color: #434B5C;\n",
              "      box-shadow: 0px 1px 3px 1px rgba(0, 0, 0, 0.15);\n",
              "      filter: drop-shadow(0px 1px 2px rgba(0, 0, 0, 0.3));\n",
              "      fill: #FFFFFF;\n",
              "    }\n",
              "  </style>\n",
              "\n",
              "      <script>\n",
              "        const buttonEl =\n",
              "          document.querySelector('#df-a07a66c6-315e-400f-8a6d-c948a64e1ebb button.colab-df-convert');\n",
              "        buttonEl.style.display =\n",
              "          google.colab.kernel.accessAllowed ? 'block' : 'none';\n",
              "\n",
              "        async function convertToInteractive(key) {\n",
              "          const element = document.querySelector('#df-a07a66c6-315e-400f-8a6d-c948a64e1ebb');\n",
              "          const dataTable =\n",
              "            await google.colab.kernel.invokeFunction('convertToInteractive',\n",
              "                                                     [key], {});\n",
              "          if (!dataTable) return;\n",
              "\n",
              "          const docLinkHtml = 'Like what you see? Visit the ' +\n",
              "            '<a target=\"_blank\" href=https://colab.research.google.com/notebooks/data_table.ipynb>data table notebook</a>'\n",
              "            + ' to learn more about interactive tables.';\n",
              "          element.innerHTML = '';\n",
              "          dataTable['output_type'] = 'display_data';\n",
              "          await google.colab.output.renderOutput(dataTable, element);\n",
              "          const docLink = document.createElement('div');\n",
              "          docLink.innerHTML = docLinkHtml;\n",
              "          element.appendChild(docLink);\n",
              "        }\n",
              "      </script>\n",
              "    </div>\n",
              "  </div>\n",
              "  "
            ]
          },
          "metadata": {},
          "execution_count": 5
        }
      ],
      "source": [
        "train_data.describe()"
      ]
    },
    {
      "cell_type": "markdown",
      "metadata": {
        "id": "8csjwXd2vsEA"
      },
      "source": [
        "ROWS OF DATA"
      ]
    },
    {
      "cell_type": "code",
      "execution_count": null,
      "metadata": {
        "colab": {
          "base_uri": "https://localhost:8080/"
        },
        "id": "d3H8I7e_Qul4",
        "outputId": "81ab66f5-eba9-43c6-da16-8209c513c4ab"
      },
      "outputs": [
        {
          "output_type": "stream",
          "name": "stdout",
          "text": [
            "<class 'pandas.core.frame.DataFrame'>\n",
            "RangeIndex: 184506 entries, 0 to 184505\n",
            "Columns: 122 entries, SK_ID_CURR to TARGET\n",
            "dtypes: float64(65), int64(41), object(16)\n",
            "memory usage: 171.7+ MB\n"
          ]
        }
      ],
      "source": [
        "train_data.info()"
      ]
    },
    {
      "cell_type": "markdown",
      "metadata": {
        "id": "89Pbq8n-Y5e3"
      },
      "source": [
        "COLUMNS OF DATA"
      ]
    },
    {
      "cell_type": "code",
      "execution_count": null,
      "metadata": {
        "colab": {
          "base_uri": "https://localhost:8080/"
        },
        "id": "CvR6ketfQ03k",
        "outputId": "2b7fe476-730d-47db-a5ae-4fcd401cbee1"
      },
      "outputs": [
        {
          "output_type": "execute_result",
          "data": {
            "text/plain": [
              "Index(['SK_ID_CURR', 'NAME_CONTRACT_TYPE', 'CODE_GENDER', 'FLAG_OWN_CAR',\n",
              "       'FLAG_OWN_REALTY', 'CNT_CHILDREN', 'AMT_INCOME_TOTAL', 'AMT_CREDIT',\n",
              "       'AMT_ANNUITY', 'AMT_GOODS_PRICE',\n",
              "       ...\n",
              "       'FLAG_DOCUMENT_19', 'FLAG_DOCUMENT_20', 'FLAG_DOCUMENT_21',\n",
              "       'AMT_REQ_CREDIT_BUREAU_HOUR', 'AMT_REQ_CREDIT_BUREAU_DAY',\n",
              "       'AMT_REQ_CREDIT_BUREAU_WEEK', 'AMT_REQ_CREDIT_BUREAU_MON',\n",
              "       'AMT_REQ_CREDIT_BUREAU_QRT', 'AMT_REQ_CREDIT_BUREAU_YEAR', 'TARGET'],\n",
              "      dtype='object', length=122)"
            ]
          },
          "metadata": {},
          "execution_count": 7
        }
      ],
      "source": [
        "train_data.columns"
      ]
    },
    {
      "cell_type": "markdown",
      "metadata": {
        "id": "j2faCw1KZBtR"
      },
      "source": [
        "FIRST FIVE ROWS OF DATA"
      ]
    },
    {
      "cell_type": "code",
      "execution_count": null,
      "metadata": {
        "colab": {
          "base_uri": "https://localhost:8080/",
          "height": 300
        },
        "id": "34YzM_D8Q-3b",
        "outputId": "ba515207-ff3b-43be-cf7b-532ddb3b57a4"
      },
      "outputs": [
        {
          "output_type": "execute_result",
          "data": {
            "text/plain": [
              "   SK_ID_CURR NAME_CONTRACT_TYPE CODE_GENDER FLAG_OWN_CAR FLAG_OWN_REALTY  \\\n",
              "0      450407         Cash loans           F            N               Y   \n",
              "1      271298         Cash loans           M            Y               Y   \n",
              "2      122238         Cash loans           M            Y               Y   \n",
              "3      305311         Cash loans           M            N               N   \n",
              "4      414121         Cash loans           F            N               Y   \n",
              "\n",
              "   CNT_CHILDREN  AMT_INCOME_TOTAL  AMT_CREDIT  AMT_ANNUITY  AMT_GOODS_PRICE  \\\n",
              "0             1           67500.0    227520.0      11065.5         180000.0   \n",
              "1             1          247500.0   1882372.5      65560.5        1719000.0   \n",
              "2             1          180000.0    101880.0      10827.0          90000.0   \n",
              "3             0           81000.0    405000.0      20677.5         405000.0   \n",
              "4             0          157500.0    888840.0      29506.5         675000.0   \n",
              "\n",
              "   ... FLAG_DOCUMENT_19 FLAG_DOCUMENT_20 FLAG_DOCUMENT_21  \\\n",
              "0  ...                0                0                0   \n",
              "1  ...                0                0                0   \n",
              "2  ...                0                0                0   \n",
              "3  ...                0                0                0   \n",
              "4  ...                0                0                0   \n",
              "\n",
              "  AMT_REQ_CREDIT_BUREAU_HOUR AMT_REQ_CREDIT_BUREAU_DAY  \\\n",
              "0                        0.0                       0.0   \n",
              "1                        0.0                       0.0   \n",
              "2                        0.0                       0.0   \n",
              "3                        0.0                       0.0   \n",
              "4                        0.0                       0.0   \n",
              "\n",
              "   AMT_REQ_CREDIT_BUREAU_WEEK  AMT_REQ_CREDIT_BUREAU_MON  \\\n",
              "0                         0.0                        1.0   \n",
              "1                         0.0                        0.0   \n",
              "2                         0.0                        2.0   \n",
              "3                         0.0                        0.0   \n",
              "4                         0.0                        0.0   \n",
              "\n",
              "   AMT_REQ_CREDIT_BUREAU_QRT  AMT_REQ_CREDIT_BUREAU_YEAR  TARGET  \n",
              "0                        0.0                         2.0       0  \n",
              "1                        1.0                         3.0       0  \n",
              "2                        0.0                         1.0       0  \n",
              "3                        0.0                         2.0       0  \n",
              "4                        0.0                         2.0       0  \n",
              "\n",
              "[5 rows x 122 columns]"
            ],
            "text/html": [
              "\n",
              "  <div id=\"df-34472a20-2d15-43e1-b3da-91d91ba28f93\">\n",
              "    <div class=\"colab-df-container\">\n",
              "      <div>\n",
              "<style scoped>\n",
              "    .dataframe tbody tr th:only-of-type {\n",
              "        vertical-align: middle;\n",
              "    }\n",
              "\n",
              "    .dataframe tbody tr th {\n",
              "        vertical-align: top;\n",
              "    }\n",
              "\n",
              "    .dataframe thead th {\n",
              "        text-align: right;\n",
              "    }\n",
              "</style>\n",
              "<table border=\"1\" class=\"dataframe\">\n",
              "  <thead>\n",
              "    <tr style=\"text-align: right;\">\n",
              "      <th></th>\n",
              "      <th>SK_ID_CURR</th>\n",
              "      <th>NAME_CONTRACT_TYPE</th>\n",
              "      <th>CODE_GENDER</th>\n",
              "      <th>FLAG_OWN_CAR</th>\n",
              "      <th>FLAG_OWN_REALTY</th>\n",
              "      <th>CNT_CHILDREN</th>\n",
              "      <th>AMT_INCOME_TOTAL</th>\n",
              "      <th>AMT_CREDIT</th>\n",
              "      <th>AMT_ANNUITY</th>\n",
              "      <th>AMT_GOODS_PRICE</th>\n",
              "      <th>...</th>\n",
              "      <th>FLAG_DOCUMENT_19</th>\n",
              "      <th>FLAG_DOCUMENT_20</th>\n",
              "      <th>FLAG_DOCUMENT_21</th>\n",
              "      <th>AMT_REQ_CREDIT_BUREAU_HOUR</th>\n",
              "      <th>AMT_REQ_CREDIT_BUREAU_DAY</th>\n",
              "      <th>AMT_REQ_CREDIT_BUREAU_WEEK</th>\n",
              "      <th>AMT_REQ_CREDIT_BUREAU_MON</th>\n",
              "      <th>AMT_REQ_CREDIT_BUREAU_QRT</th>\n",
              "      <th>AMT_REQ_CREDIT_BUREAU_YEAR</th>\n",
              "      <th>TARGET</th>\n",
              "    </tr>\n",
              "  </thead>\n",
              "  <tbody>\n",
              "    <tr>\n",
              "      <th>0</th>\n",
              "      <td>450407</td>\n",
              "      <td>Cash loans</td>\n",
              "      <td>F</td>\n",
              "      <td>N</td>\n",
              "      <td>Y</td>\n",
              "      <td>1</td>\n",
              "      <td>67500.0</td>\n",
              "      <td>227520.0</td>\n",
              "      <td>11065.5</td>\n",
              "      <td>180000.0</td>\n",
              "      <td>...</td>\n",
              "      <td>0</td>\n",
              "      <td>0</td>\n",
              "      <td>0</td>\n",
              "      <td>0.0</td>\n",
              "      <td>0.0</td>\n",
              "      <td>0.0</td>\n",
              "      <td>1.0</td>\n",
              "      <td>0.0</td>\n",
              "      <td>2.0</td>\n",
              "      <td>0</td>\n",
              "    </tr>\n",
              "    <tr>\n",
              "      <th>1</th>\n",
              "      <td>271298</td>\n",
              "      <td>Cash loans</td>\n",
              "      <td>M</td>\n",
              "      <td>Y</td>\n",
              "      <td>Y</td>\n",
              "      <td>1</td>\n",
              "      <td>247500.0</td>\n",
              "      <td>1882372.5</td>\n",
              "      <td>65560.5</td>\n",
              "      <td>1719000.0</td>\n",
              "      <td>...</td>\n",
              "      <td>0</td>\n",
              "      <td>0</td>\n",
              "      <td>0</td>\n",
              "      <td>0.0</td>\n",
              "      <td>0.0</td>\n",
              "      <td>0.0</td>\n",
              "      <td>0.0</td>\n",
              "      <td>1.0</td>\n",
              "      <td>3.0</td>\n",
              "      <td>0</td>\n",
              "    </tr>\n",
              "    <tr>\n",
              "      <th>2</th>\n",
              "      <td>122238</td>\n",
              "      <td>Cash loans</td>\n",
              "      <td>M</td>\n",
              "      <td>Y</td>\n",
              "      <td>Y</td>\n",
              "      <td>1</td>\n",
              "      <td>180000.0</td>\n",
              "      <td>101880.0</td>\n",
              "      <td>10827.0</td>\n",
              "      <td>90000.0</td>\n",
              "      <td>...</td>\n",
              "      <td>0</td>\n",
              "      <td>0</td>\n",
              "      <td>0</td>\n",
              "      <td>0.0</td>\n",
              "      <td>0.0</td>\n",
              "      <td>0.0</td>\n",
              "      <td>2.0</td>\n",
              "      <td>0.0</td>\n",
              "      <td>1.0</td>\n",
              "      <td>0</td>\n",
              "    </tr>\n",
              "    <tr>\n",
              "      <th>3</th>\n",
              "      <td>305311</td>\n",
              "      <td>Cash loans</td>\n",
              "      <td>M</td>\n",
              "      <td>N</td>\n",
              "      <td>N</td>\n",
              "      <td>0</td>\n",
              "      <td>81000.0</td>\n",
              "      <td>405000.0</td>\n",
              "      <td>20677.5</td>\n",
              "      <td>405000.0</td>\n",
              "      <td>...</td>\n",
              "      <td>0</td>\n",
              "      <td>0</td>\n",
              "      <td>0</td>\n",
              "      <td>0.0</td>\n",
              "      <td>0.0</td>\n",
              "      <td>0.0</td>\n",
              "      <td>0.0</td>\n",
              "      <td>0.0</td>\n",
              "      <td>2.0</td>\n",
              "      <td>0</td>\n",
              "    </tr>\n",
              "    <tr>\n",
              "      <th>4</th>\n",
              "      <td>414121</td>\n",
              "      <td>Cash loans</td>\n",
              "      <td>F</td>\n",
              "      <td>N</td>\n",
              "      <td>Y</td>\n",
              "      <td>0</td>\n",
              "      <td>157500.0</td>\n",
              "      <td>888840.0</td>\n",
              "      <td>29506.5</td>\n",
              "      <td>675000.0</td>\n",
              "      <td>...</td>\n",
              "      <td>0</td>\n",
              "      <td>0</td>\n",
              "      <td>0</td>\n",
              "      <td>0.0</td>\n",
              "      <td>0.0</td>\n",
              "      <td>0.0</td>\n",
              "      <td>0.0</td>\n",
              "      <td>0.0</td>\n",
              "      <td>2.0</td>\n",
              "      <td>0</td>\n",
              "    </tr>\n",
              "  </tbody>\n",
              "</table>\n",
              "<p>5 rows × 122 columns</p>\n",
              "</div>\n",
              "      <button class=\"colab-df-convert\" onclick=\"convertToInteractive('df-34472a20-2d15-43e1-b3da-91d91ba28f93')\"\n",
              "              title=\"Convert this dataframe to an interactive table.\"\n",
              "              style=\"display:none;\">\n",
              "        \n",
              "  <svg xmlns=\"http://www.w3.org/2000/svg\" height=\"24px\"viewBox=\"0 0 24 24\"\n",
              "       width=\"24px\">\n",
              "    <path d=\"M0 0h24v24H0V0z\" fill=\"none\"/>\n",
              "    <path d=\"M18.56 5.44l.94 2.06.94-2.06 2.06-.94-2.06-.94-.94-2.06-.94 2.06-2.06.94zm-11 1L8.5 8.5l.94-2.06 2.06-.94-2.06-.94L8.5 2.5l-.94 2.06-2.06.94zm10 10l.94 2.06.94-2.06 2.06-.94-2.06-.94-.94-2.06-.94 2.06-2.06.94z\"/><path d=\"M17.41 7.96l-1.37-1.37c-.4-.4-.92-.59-1.43-.59-.52 0-1.04.2-1.43.59L10.3 9.45l-7.72 7.72c-.78.78-.78 2.05 0 2.83L4 21.41c.39.39.9.59 1.41.59.51 0 1.02-.2 1.41-.59l7.78-7.78 2.81-2.81c.8-.78.8-2.07 0-2.86zM5.41 20L4 18.59l7.72-7.72 1.47 1.35L5.41 20z\"/>\n",
              "  </svg>\n",
              "      </button>\n",
              "      \n",
              "  <style>\n",
              "    .colab-df-container {\n",
              "      display:flex;\n",
              "      flex-wrap:wrap;\n",
              "      gap: 12px;\n",
              "    }\n",
              "\n",
              "    .colab-df-convert {\n",
              "      background-color: #E8F0FE;\n",
              "      border: none;\n",
              "      border-radius: 50%;\n",
              "      cursor: pointer;\n",
              "      display: none;\n",
              "      fill: #1967D2;\n",
              "      height: 32px;\n",
              "      padding: 0 0 0 0;\n",
              "      width: 32px;\n",
              "    }\n",
              "\n",
              "    .colab-df-convert:hover {\n",
              "      background-color: #E2EBFA;\n",
              "      box-shadow: 0px 1px 2px rgba(60, 64, 67, 0.3), 0px 1px 3px 1px rgba(60, 64, 67, 0.15);\n",
              "      fill: #174EA6;\n",
              "    }\n",
              "\n",
              "    [theme=dark] .colab-df-convert {\n",
              "      background-color: #3B4455;\n",
              "      fill: #D2E3FC;\n",
              "    }\n",
              "\n",
              "    [theme=dark] .colab-df-convert:hover {\n",
              "      background-color: #434B5C;\n",
              "      box-shadow: 0px 1px 3px 1px rgba(0, 0, 0, 0.15);\n",
              "      filter: drop-shadow(0px 1px 2px rgba(0, 0, 0, 0.3));\n",
              "      fill: #FFFFFF;\n",
              "    }\n",
              "  </style>\n",
              "\n",
              "      <script>\n",
              "        const buttonEl =\n",
              "          document.querySelector('#df-34472a20-2d15-43e1-b3da-91d91ba28f93 button.colab-df-convert');\n",
              "        buttonEl.style.display =\n",
              "          google.colab.kernel.accessAllowed ? 'block' : 'none';\n",
              "\n",
              "        async function convertToInteractive(key) {\n",
              "          const element = document.querySelector('#df-34472a20-2d15-43e1-b3da-91d91ba28f93');\n",
              "          const dataTable =\n",
              "            await google.colab.kernel.invokeFunction('convertToInteractive',\n",
              "                                                     [key], {});\n",
              "          if (!dataTable) return;\n",
              "\n",
              "          const docLinkHtml = 'Like what you see? Visit the ' +\n",
              "            '<a target=\"_blank\" href=https://colab.research.google.com/notebooks/data_table.ipynb>data table notebook</a>'\n",
              "            + ' to learn more about interactive tables.';\n",
              "          element.innerHTML = '';\n",
              "          dataTable['output_type'] = 'display_data';\n",
              "          await google.colab.output.renderOutput(dataTable, element);\n",
              "          const docLink = document.createElement('div');\n",
              "          docLink.innerHTML = docLinkHtml;\n",
              "          element.appendChild(docLink);\n",
              "        }\n",
              "      </script>\n",
              "    </div>\n",
              "  </div>\n",
              "  "
            ]
          },
          "metadata": {},
          "execution_count": 8
        }
      ],
      "source": [
        "train_data.head()\n"
      ]
    },
    {
      "cell_type": "code",
      "execution_count": null,
      "metadata": {
        "id": "M6IYX2QqjpiX"
      },
      "outputs": [],
      "source": [
        "train=train_data.drop(columns=['SK_ID_CURR'])"
      ]
    },
    {
      "cell_type": "markdown",
      "metadata": {
        "id": "ftBHt5MOjz1G"
      },
      "source": [
        "Column which shows ID is not at all relevant in our model. So dropping that column."
      ]
    },
    {
      "cell_type": "code",
      "execution_count": null,
      "metadata": {
        "colab": {
          "base_uri": "https://localhost:8080/",
          "height": 300
        },
        "id": "BSsDPPRN4RkE",
        "outputId": "cdca56ea-3bfe-4e8f-d9ce-9858c425b295"
      },
      "outputs": [
        {
          "output_type": "execute_result",
          "data": {
            "text/plain": [
              "  NAME_CONTRACT_TYPE CODE_GENDER FLAG_OWN_CAR FLAG_OWN_REALTY  CNT_CHILDREN  \\\n",
              "0         Cash loans           F            N               Y             1   \n",
              "1         Cash loans           M            Y               Y             1   \n",
              "2         Cash loans           M            Y               Y             1   \n",
              "3         Cash loans           M            N               N             0   \n",
              "4         Cash loans           F            N               Y             0   \n",
              "\n",
              "   AMT_INCOME_TOTAL  AMT_CREDIT  AMT_ANNUITY  AMT_GOODS_PRICE  \\\n",
              "0           67500.0    227520.0      11065.5         180000.0   \n",
              "1          247500.0   1882372.5      65560.5        1719000.0   \n",
              "2          180000.0    101880.0      10827.0          90000.0   \n",
              "3           81000.0    405000.0      20677.5         405000.0   \n",
              "4          157500.0    888840.0      29506.5         675000.0   \n",
              "\n",
              "   NAME_TYPE_SUITE  ... FLAG_DOCUMENT_19 FLAG_DOCUMENT_20 FLAG_DOCUMENT_21  \\\n",
              "0           Family  ...                0                0                0   \n",
              "1    Unaccompanied  ...                0                0                0   \n",
              "2  Spouse, partner  ...                0                0                0   \n",
              "3    Unaccompanied  ...                0                0                0   \n",
              "4    Unaccompanied  ...                0                0                0   \n",
              "\n",
              "  AMT_REQ_CREDIT_BUREAU_HOUR  AMT_REQ_CREDIT_BUREAU_DAY  \\\n",
              "0                        0.0                        0.0   \n",
              "1                        0.0                        0.0   \n",
              "2                        0.0                        0.0   \n",
              "3                        0.0                        0.0   \n",
              "4                        0.0                        0.0   \n",
              "\n",
              "   AMT_REQ_CREDIT_BUREAU_WEEK  AMT_REQ_CREDIT_BUREAU_MON  \\\n",
              "0                         0.0                        1.0   \n",
              "1                         0.0                        0.0   \n",
              "2                         0.0                        2.0   \n",
              "3                         0.0                        0.0   \n",
              "4                         0.0                        0.0   \n",
              "\n",
              "   AMT_REQ_CREDIT_BUREAU_QRT  AMT_REQ_CREDIT_BUREAU_YEAR  TARGET  \n",
              "0                        0.0                         2.0       0  \n",
              "1                        1.0                         3.0       0  \n",
              "2                        0.0                         1.0       0  \n",
              "3                        0.0                         2.0       0  \n",
              "4                        0.0                         2.0       0  \n",
              "\n",
              "[5 rows x 121 columns]"
            ],
            "text/html": [
              "\n",
              "  <div id=\"df-f0471b5b-c876-4167-ac3b-e4c574151bc4\">\n",
              "    <div class=\"colab-df-container\">\n",
              "      <div>\n",
              "<style scoped>\n",
              "    .dataframe tbody tr th:only-of-type {\n",
              "        vertical-align: middle;\n",
              "    }\n",
              "\n",
              "    .dataframe tbody tr th {\n",
              "        vertical-align: top;\n",
              "    }\n",
              "\n",
              "    .dataframe thead th {\n",
              "        text-align: right;\n",
              "    }\n",
              "</style>\n",
              "<table border=\"1\" class=\"dataframe\">\n",
              "  <thead>\n",
              "    <tr style=\"text-align: right;\">\n",
              "      <th></th>\n",
              "      <th>NAME_CONTRACT_TYPE</th>\n",
              "      <th>CODE_GENDER</th>\n",
              "      <th>FLAG_OWN_CAR</th>\n",
              "      <th>FLAG_OWN_REALTY</th>\n",
              "      <th>CNT_CHILDREN</th>\n",
              "      <th>AMT_INCOME_TOTAL</th>\n",
              "      <th>AMT_CREDIT</th>\n",
              "      <th>AMT_ANNUITY</th>\n",
              "      <th>AMT_GOODS_PRICE</th>\n",
              "      <th>NAME_TYPE_SUITE</th>\n",
              "      <th>...</th>\n",
              "      <th>FLAG_DOCUMENT_19</th>\n",
              "      <th>FLAG_DOCUMENT_20</th>\n",
              "      <th>FLAG_DOCUMENT_21</th>\n",
              "      <th>AMT_REQ_CREDIT_BUREAU_HOUR</th>\n",
              "      <th>AMT_REQ_CREDIT_BUREAU_DAY</th>\n",
              "      <th>AMT_REQ_CREDIT_BUREAU_WEEK</th>\n",
              "      <th>AMT_REQ_CREDIT_BUREAU_MON</th>\n",
              "      <th>AMT_REQ_CREDIT_BUREAU_QRT</th>\n",
              "      <th>AMT_REQ_CREDIT_BUREAU_YEAR</th>\n",
              "      <th>TARGET</th>\n",
              "    </tr>\n",
              "  </thead>\n",
              "  <tbody>\n",
              "    <tr>\n",
              "      <th>0</th>\n",
              "      <td>Cash loans</td>\n",
              "      <td>F</td>\n",
              "      <td>N</td>\n",
              "      <td>Y</td>\n",
              "      <td>1</td>\n",
              "      <td>67500.0</td>\n",
              "      <td>227520.0</td>\n",
              "      <td>11065.5</td>\n",
              "      <td>180000.0</td>\n",
              "      <td>Family</td>\n",
              "      <td>...</td>\n",
              "      <td>0</td>\n",
              "      <td>0</td>\n",
              "      <td>0</td>\n",
              "      <td>0.0</td>\n",
              "      <td>0.0</td>\n",
              "      <td>0.0</td>\n",
              "      <td>1.0</td>\n",
              "      <td>0.0</td>\n",
              "      <td>2.0</td>\n",
              "      <td>0</td>\n",
              "    </tr>\n",
              "    <tr>\n",
              "      <th>1</th>\n",
              "      <td>Cash loans</td>\n",
              "      <td>M</td>\n",
              "      <td>Y</td>\n",
              "      <td>Y</td>\n",
              "      <td>1</td>\n",
              "      <td>247500.0</td>\n",
              "      <td>1882372.5</td>\n",
              "      <td>65560.5</td>\n",
              "      <td>1719000.0</td>\n",
              "      <td>Unaccompanied</td>\n",
              "      <td>...</td>\n",
              "      <td>0</td>\n",
              "      <td>0</td>\n",
              "      <td>0</td>\n",
              "      <td>0.0</td>\n",
              "      <td>0.0</td>\n",
              "      <td>0.0</td>\n",
              "      <td>0.0</td>\n",
              "      <td>1.0</td>\n",
              "      <td>3.0</td>\n",
              "      <td>0</td>\n",
              "    </tr>\n",
              "    <tr>\n",
              "      <th>2</th>\n",
              "      <td>Cash loans</td>\n",
              "      <td>M</td>\n",
              "      <td>Y</td>\n",
              "      <td>Y</td>\n",
              "      <td>1</td>\n",
              "      <td>180000.0</td>\n",
              "      <td>101880.0</td>\n",
              "      <td>10827.0</td>\n",
              "      <td>90000.0</td>\n",
              "      <td>Spouse, partner</td>\n",
              "      <td>...</td>\n",
              "      <td>0</td>\n",
              "      <td>0</td>\n",
              "      <td>0</td>\n",
              "      <td>0.0</td>\n",
              "      <td>0.0</td>\n",
              "      <td>0.0</td>\n",
              "      <td>2.0</td>\n",
              "      <td>0.0</td>\n",
              "      <td>1.0</td>\n",
              "      <td>0</td>\n",
              "    </tr>\n",
              "    <tr>\n",
              "      <th>3</th>\n",
              "      <td>Cash loans</td>\n",
              "      <td>M</td>\n",
              "      <td>N</td>\n",
              "      <td>N</td>\n",
              "      <td>0</td>\n",
              "      <td>81000.0</td>\n",
              "      <td>405000.0</td>\n",
              "      <td>20677.5</td>\n",
              "      <td>405000.0</td>\n",
              "      <td>Unaccompanied</td>\n",
              "      <td>...</td>\n",
              "      <td>0</td>\n",
              "      <td>0</td>\n",
              "      <td>0</td>\n",
              "      <td>0.0</td>\n",
              "      <td>0.0</td>\n",
              "      <td>0.0</td>\n",
              "      <td>0.0</td>\n",
              "      <td>0.0</td>\n",
              "      <td>2.0</td>\n",
              "      <td>0</td>\n",
              "    </tr>\n",
              "    <tr>\n",
              "      <th>4</th>\n",
              "      <td>Cash loans</td>\n",
              "      <td>F</td>\n",
              "      <td>N</td>\n",
              "      <td>Y</td>\n",
              "      <td>0</td>\n",
              "      <td>157500.0</td>\n",
              "      <td>888840.0</td>\n",
              "      <td>29506.5</td>\n",
              "      <td>675000.0</td>\n",
              "      <td>Unaccompanied</td>\n",
              "      <td>...</td>\n",
              "      <td>0</td>\n",
              "      <td>0</td>\n",
              "      <td>0</td>\n",
              "      <td>0.0</td>\n",
              "      <td>0.0</td>\n",
              "      <td>0.0</td>\n",
              "      <td>0.0</td>\n",
              "      <td>0.0</td>\n",
              "      <td>2.0</td>\n",
              "      <td>0</td>\n",
              "    </tr>\n",
              "  </tbody>\n",
              "</table>\n",
              "<p>5 rows × 121 columns</p>\n",
              "</div>\n",
              "      <button class=\"colab-df-convert\" onclick=\"convertToInteractive('df-f0471b5b-c876-4167-ac3b-e4c574151bc4')\"\n",
              "              title=\"Convert this dataframe to an interactive table.\"\n",
              "              style=\"display:none;\">\n",
              "        \n",
              "  <svg xmlns=\"http://www.w3.org/2000/svg\" height=\"24px\"viewBox=\"0 0 24 24\"\n",
              "       width=\"24px\">\n",
              "    <path d=\"M0 0h24v24H0V0z\" fill=\"none\"/>\n",
              "    <path d=\"M18.56 5.44l.94 2.06.94-2.06 2.06-.94-2.06-.94-.94-2.06-.94 2.06-2.06.94zm-11 1L8.5 8.5l.94-2.06 2.06-.94-2.06-.94L8.5 2.5l-.94 2.06-2.06.94zm10 10l.94 2.06.94-2.06 2.06-.94-2.06-.94-.94-2.06-.94 2.06-2.06.94z\"/><path d=\"M17.41 7.96l-1.37-1.37c-.4-.4-.92-.59-1.43-.59-.52 0-1.04.2-1.43.59L10.3 9.45l-7.72 7.72c-.78.78-.78 2.05 0 2.83L4 21.41c.39.39.9.59 1.41.59.51 0 1.02-.2 1.41-.59l7.78-7.78 2.81-2.81c.8-.78.8-2.07 0-2.86zM5.41 20L4 18.59l7.72-7.72 1.47 1.35L5.41 20z\"/>\n",
              "  </svg>\n",
              "      </button>\n",
              "      \n",
              "  <style>\n",
              "    .colab-df-container {\n",
              "      display:flex;\n",
              "      flex-wrap:wrap;\n",
              "      gap: 12px;\n",
              "    }\n",
              "\n",
              "    .colab-df-convert {\n",
              "      background-color: #E8F0FE;\n",
              "      border: none;\n",
              "      border-radius: 50%;\n",
              "      cursor: pointer;\n",
              "      display: none;\n",
              "      fill: #1967D2;\n",
              "      height: 32px;\n",
              "      padding: 0 0 0 0;\n",
              "      width: 32px;\n",
              "    }\n",
              "\n",
              "    .colab-df-convert:hover {\n",
              "      background-color: #E2EBFA;\n",
              "      box-shadow: 0px 1px 2px rgba(60, 64, 67, 0.3), 0px 1px 3px 1px rgba(60, 64, 67, 0.15);\n",
              "      fill: #174EA6;\n",
              "    }\n",
              "\n",
              "    [theme=dark] .colab-df-convert {\n",
              "      background-color: #3B4455;\n",
              "      fill: #D2E3FC;\n",
              "    }\n",
              "\n",
              "    [theme=dark] .colab-df-convert:hover {\n",
              "      background-color: #434B5C;\n",
              "      box-shadow: 0px 1px 3px 1px rgba(0, 0, 0, 0.15);\n",
              "      filter: drop-shadow(0px 1px 2px rgba(0, 0, 0, 0.3));\n",
              "      fill: #FFFFFF;\n",
              "    }\n",
              "  </style>\n",
              "\n",
              "      <script>\n",
              "        const buttonEl =\n",
              "          document.querySelector('#df-f0471b5b-c876-4167-ac3b-e4c574151bc4 button.colab-df-convert');\n",
              "        buttonEl.style.display =\n",
              "          google.colab.kernel.accessAllowed ? 'block' : 'none';\n",
              "\n",
              "        async function convertToInteractive(key) {\n",
              "          const element = document.querySelector('#df-f0471b5b-c876-4167-ac3b-e4c574151bc4');\n",
              "          const dataTable =\n",
              "            await google.colab.kernel.invokeFunction('convertToInteractive',\n",
              "                                                     [key], {});\n",
              "          if (!dataTable) return;\n",
              "\n",
              "          const docLinkHtml = 'Like what you see? Visit the ' +\n",
              "            '<a target=\"_blank\" href=https://colab.research.google.com/notebooks/data_table.ipynb>data table notebook</a>'\n",
              "            + ' to learn more about interactive tables.';\n",
              "          element.innerHTML = '';\n",
              "          dataTable['output_type'] = 'display_data';\n",
              "          await google.colab.output.renderOutput(dataTable, element);\n",
              "          const docLink = document.createElement('div');\n",
              "          docLink.innerHTML = docLinkHtml;\n",
              "          element.appendChild(docLink);\n",
              "        }\n",
              "      </script>\n",
              "    </div>\n",
              "  </div>\n",
              "  "
            ]
          },
          "metadata": {},
          "execution_count": 10
        }
      ],
      "source": [
        "train.head()"
      ]
    },
    {
      "cell_type": "markdown",
      "metadata": {
        "id": "Sm3f7tPCIV9G"
      },
      "source": [
        "#**OVERVIEW OF TEST DATA**"
      ]
    },
    {
      "cell_type": "markdown",
      "metadata": {
        "id": "trhycT-PIV9H"
      },
      "source": [
        "SIZE OF DATASET"
      ]
    },
    {
      "cell_type": "code",
      "execution_count": null,
      "metadata": {
        "id": "JpdyLXyNIV9H",
        "colab": {
          "base_uri": "https://localhost:8080/",
          "height": 35
        },
        "outputId": "dc7d54dd-900c-4292-c73a-e3f74a0f420a"
      },
      "outputs": [
        {
          "output_type": "execute_result",
          "data": {
            "text/plain": [
              "'(123005, 121)'"
            ],
            "application/vnd.google.colaboratory.intrinsic+json": {
              "type": "string"
            }
          },
          "metadata": {},
          "execution_count": 11
        }
      ],
      "source": [
        "format(test_data.shape)"
      ]
    },
    {
      "cell_type": "markdown",
      "metadata": {
        "id": "BMf9k1l-IV9H"
      },
      "source": [
        "DESCRIPTION OF DATA"
      ]
    },
    {
      "cell_type": "code",
      "execution_count": null,
      "metadata": {
        "id": "HvDmrq1PIV9H",
        "colab": {
          "base_uri": "https://localhost:8080/",
          "height": 394
        },
        "outputId": "d4a32401-c5aa-410e-d81d-6d791d7a40e0"
      },
      "outputs": [
        {
          "output_type": "execute_result",
          "data": {
            "text/plain": [
              "          SK_ID_CURR   CNT_CHILDREN  AMT_INCOME_TOTAL    AMT_CREDIT  \\\n",
              "count  123005.000000  123005.000000      1.230050e+05  1.230050e+05   \n",
              "mean   278403.806894       0.417934      1.684971e+05  5.986369e+05   \n",
              "std    102791.121509       0.725868      1.034338e+05  4.029306e+05   \n",
              "min    100002.000000       0.000000      2.565000e+04  4.500000e+04   \n",
              "25%    189484.000000       0.000000      1.125000e+05  2.700000e+05   \n",
              "50%    278586.000000       0.000000      1.440000e+05  5.123385e+05   \n",
              "75%    367253.000000       1.000000      2.025000e+05  8.086500e+05   \n",
              "max    456255.000000      19.000000      6.750000e+06  4.050000e+06   \n",
              "\n",
              "         AMT_ANNUITY  AMT_GOODS_PRICE  REGION_POPULATION_RELATIVE  \\\n",
              "count  122999.000000     1.228940e+05               123005.000000   \n",
              "mean    27099.750994     5.379516e+05                    0.020868   \n",
              "std     14531.338692     3.697775e+05                    0.013852   \n",
              "min      1980.000000     4.500000e+04                    0.000290   \n",
              "25%     16501.500000     2.385000e+05                    0.010006   \n",
              "50%     24853.500000     4.500000e+05                    0.018850   \n",
              "75%     34596.000000     6.795000e+05                    0.028663   \n",
              "max    230161.500000     4.050000e+06                    0.072508   \n",
              "\n",
              "          DAYS_BIRTH  DAYS_EMPLOYED  DAYS_REGISTRATION  ...  FLAG_DOCUMENT_18  \\\n",
              "count  123005.000000  123005.000000      123005.000000  ...      123005.00000   \n",
              "mean   -16037.410203   63779.740141       -4987.958213  ...           0.00852   \n",
              "std      4367.759521  141247.032047        3519.730864  ...           0.09191   \n",
              "min    -25229.000000  -17546.000000      -24672.000000  ...           0.00000   \n",
              "25%    -19689.000000   -2764.000000       -7471.000000  ...           0.00000   \n",
              "50%    -15753.000000   -1218.000000       -4501.000000  ...           0.00000   \n",
              "75%    -12409.000000    -290.000000       -2028.000000  ...           0.00000   \n",
              "max     -7676.000000  365243.000000           0.000000  ...           1.00000   \n",
              "\n",
              "       FLAG_DOCUMENT_19  FLAG_DOCUMENT_20  FLAG_DOCUMENT_21  \\\n",
              "count     123005.000000     123005.000000     123005.000000   \n",
              "mean           0.000545          0.000439          0.000350   \n",
              "std            0.023332          0.020948          0.018694   \n",
              "min            0.000000          0.000000          0.000000   \n",
              "25%            0.000000          0.000000          0.000000   \n",
              "50%            0.000000          0.000000          0.000000   \n",
              "75%            0.000000          0.000000          0.000000   \n",
              "max            1.000000          1.000000          1.000000   \n",
              "\n",
              "       AMT_REQ_CREDIT_BUREAU_HOUR  AMT_REQ_CREDIT_BUREAU_DAY  \\\n",
              "count               106484.000000              106484.000000   \n",
              "mean                     0.006499                   0.006499   \n",
              "std                      0.084009                   0.104620   \n",
              "min                      0.000000                   0.000000   \n",
              "25%                      0.000000                   0.000000   \n",
              "50%                      0.000000                   0.000000   \n",
              "75%                      0.000000                   0.000000   \n",
              "max                      3.000000                   9.000000   \n",
              "\n",
              "       AMT_REQ_CREDIT_BUREAU_WEEK  AMT_REQ_CREDIT_BUREAU_MON  \\\n",
              "count               106484.000000              106484.000000   \n",
              "mean                     0.034306                   0.267618   \n",
              "std                      0.205429                   0.910795   \n",
              "min                      0.000000                   0.000000   \n",
              "25%                      0.000000                   0.000000   \n",
              "50%                      0.000000                   0.000000   \n",
              "75%                      0.000000                   0.000000   \n",
              "max                      8.000000                  27.000000   \n",
              "\n",
              "       AMT_REQ_CREDIT_BUREAU_QRT  AMT_REQ_CREDIT_BUREAU_YEAR  \n",
              "count              106484.000000               106484.000000  \n",
              "mean                    0.263533                    1.903676  \n",
              "std                     0.613427                    1.876549  \n",
              "min                     0.000000                    0.000000  \n",
              "25%                     0.000000                    0.000000  \n",
              "50%                     0.000000                    1.000000  \n",
              "75%                     0.000000                    3.000000  \n",
              "max                     8.000000                   22.000000  \n",
              "\n",
              "[8 rows x 105 columns]"
            ],
            "text/html": [
              "\n",
              "  <div id=\"df-00ea801a-ef7a-4968-a320-cc28204a8d6f\">\n",
              "    <div class=\"colab-df-container\">\n",
              "      <div>\n",
              "<style scoped>\n",
              "    .dataframe tbody tr th:only-of-type {\n",
              "        vertical-align: middle;\n",
              "    }\n",
              "\n",
              "    .dataframe tbody tr th {\n",
              "        vertical-align: top;\n",
              "    }\n",
              "\n",
              "    .dataframe thead th {\n",
              "        text-align: right;\n",
              "    }\n",
              "</style>\n",
              "<table border=\"1\" class=\"dataframe\">\n",
              "  <thead>\n",
              "    <tr style=\"text-align: right;\">\n",
              "      <th></th>\n",
              "      <th>SK_ID_CURR</th>\n",
              "      <th>CNT_CHILDREN</th>\n",
              "      <th>AMT_INCOME_TOTAL</th>\n",
              "      <th>AMT_CREDIT</th>\n",
              "      <th>AMT_ANNUITY</th>\n",
              "      <th>AMT_GOODS_PRICE</th>\n",
              "      <th>REGION_POPULATION_RELATIVE</th>\n",
              "      <th>DAYS_BIRTH</th>\n",
              "      <th>DAYS_EMPLOYED</th>\n",
              "      <th>DAYS_REGISTRATION</th>\n",
              "      <th>...</th>\n",
              "      <th>FLAG_DOCUMENT_18</th>\n",
              "      <th>FLAG_DOCUMENT_19</th>\n",
              "      <th>FLAG_DOCUMENT_20</th>\n",
              "      <th>FLAG_DOCUMENT_21</th>\n",
              "      <th>AMT_REQ_CREDIT_BUREAU_HOUR</th>\n",
              "      <th>AMT_REQ_CREDIT_BUREAU_DAY</th>\n",
              "      <th>AMT_REQ_CREDIT_BUREAU_WEEK</th>\n",
              "      <th>AMT_REQ_CREDIT_BUREAU_MON</th>\n",
              "      <th>AMT_REQ_CREDIT_BUREAU_QRT</th>\n",
              "      <th>AMT_REQ_CREDIT_BUREAU_YEAR</th>\n",
              "    </tr>\n",
              "  </thead>\n",
              "  <tbody>\n",
              "    <tr>\n",
              "      <th>count</th>\n",
              "      <td>123005.000000</td>\n",
              "      <td>123005.000000</td>\n",
              "      <td>1.230050e+05</td>\n",
              "      <td>1.230050e+05</td>\n",
              "      <td>122999.000000</td>\n",
              "      <td>1.228940e+05</td>\n",
              "      <td>123005.000000</td>\n",
              "      <td>123005.000000</td>\n",
              "      <td>123005.000000</td>\n",
              "      <td>123005.000000</td>\n",
              "      <td>...</td>\n",
              "      <td>123005.00000</td>\n",
              "      <td>123005.000000</td>\n",
              "      <td>123005.000000</td>\n",
              "      <td>123005.000000</td>\n",
              "      <td>106484.000000</td>\n",
              "      <td>106484.000000</td>\n",
              "      <td>106484.000000</td>\n",
              "      <td>106484.000000</td>\n",
              "      <td>106484.000000</td>\n",
              "      <td>106484.000000</td>\n",
              "    </tr>\n",
              "    <tr>\n",
              "      <th>mean</th>\n",
              "      <td>278403.806894</td>\n",
              "      <td>0.417934</td>\n",
              "      <td>1.684971e+05</td>\n",
              "      <td>5.986369e+05</td>\n",
              "      <td>27099.750994</td>\n",
              "      <td>5.379516e+05</td>\n",
              "      <td>0.020868</td>\n",
              "      <td>-16037.410203</td>\n",
              "      <td>63779.740141</td>\n",
              "      <td>-4987.958213</td>\n",
              "      <td>...</td>\n",
              "      <td>0.00852</td>\n",
              "      <td>0.000545</td>\n",
              "      <td>0.000439</td>\n",
              "      <td>0.000350</td>\n",
              "      <td>0.006499</td>\n",
              "      <td>0.006499</td>\n",
              "      <td>0.034306</td>\n",
              "      <td>0.267618</td>\n",
              "      <td>0.263533</td>\n",
              "      <td>1.903676</td>\n",
              "    </tr>\n",
              "    <tr>\n",
              "      <th>std</th>\n",
              "      <td>102791.121509</td>\n",
              "      <td>0.725868</td>\n",
              "      <td>1.034338e+05</td>\n",
              "      <td>4.029306e+05</td>\n",
              "      <td>14531.338692</td>\n",
              "      <td>3.697775e+05</td>\n",
              "      <td>0.013852</td>\n",
              "      <td>4367.759521</td>\n",
              "      <td>141247.032047</td>\n",
              "      <td>3519.730864</td>\n",
              "      <td>...</td>\n",
              "      <td>0.09191</td>\n",
              "      <td>0.023332</td>\n",
              "      <td>0.020948</td>\n",
              "      <td>0.018694</td>\n",
              "      <td>0.084009</td>\n",
              "      <td>0.104620</td>\n",
              "      <td>0.205429</td>\n",
              "      <td>0.910795</td>\n",
              "      <td>0.613427</td>\n",
              "      <td>1.876549</td>\n",
              "    </tr>\n",
              "    <tr>\n",
              "      <th>min</th>\n",
              "      <td>100002.000000</td>\n",
              "      <td>0.000000</td>\n",
              "      <td>2.565000e+04</td>\n",
              "      <td>4.500000e+04</td>\n",
              "      <td>1980.000000</td>\n",
              "      <td>4.500000e+04</td>\n",
              "      <td>0.000290</td>\n",
              "      <td>-25229.000000</td>\n",
              "      <td>-17546.000000</td>\n",
              "      <td>-24672.000000</td>\n",
              "      <td>...</td>\n",
              "      <td>0.00000</td>\n",
              "      <td>0.000000</td>\n",
              "      <td>0.000000</td>\n",
              "      <td>0.000000</td>\n",
              "      <td>0.000000</td>\n",
              "      <td>0.000000</td>\n",
              "      <td>0.000000</td>\n",
              "      <td>0.000000</td>\n",
              "      <td>0.000000</td>\n",
              "      <td>0.000000</td>\n",
              "    </tr>\n",
              "    <tr>\n",
              "      <th>25%</th>\n",
              "      <td>189484.000000</td>\n",
              "      <td>0.000000</td>\n",
              "      <td>1.125000e+05</td>\n",
              "      <td>2.700000e+05</td>\n",
              "      <td>16501.500000</td>\n",
              "      <td>2.385000e+05</td>\n",
              "      <td>0.010006</td>\n",
              "      <td>-19689.000000</td>\n",
              "      <td>-2764.000000</td>\n",
              "      <td>-7471.000000</td>\n",
              "      <td>...</td>\n",
              "      <td>0.00000</td>\n",
              "      <td>0.000000</td>\n",
              "      <td>0.000000</td>\n",
              "      <td>0.000000</td>\n",
              "      <td>0.000000</td>\n",
              "      <td>0.000000</td>\n",
              "      <td>0.000000</td>\n",
              "      <td>0.000000</td>\n",
              "      <td>0.000000</td>\n",
              "      <td>0.000000</td>\n",
              "    </tr>\n",
              "    <tr>\n",
              "      <th>50%</th>\n",
              "      <td>278586.000000</td>\n",
              "      <td>0.000000</td>\n",
              "      <td>1.440000e+05</td>\n",
              "      <td>5.123385e+05</td>\n",
              "      <td>24853.500000</td>\n",
              "      <td>4.500000e+05</td>\n",
              "      <td>0.018850</td>\n",
              "      <td>-15753.000000</td>\n",
              "      <td>-1218.000000</td>\n",
              "      <td>-4501.000000</td>\n",
              "      <td>...</td>\n",
              "      <td>0.00000</td>\n",
              "      <td>0.000000</td>\n",
              "      <td>0.000000</td>\n",
              "      <td>0.000000</td>\n",
              "      <td>0.000000</td>\n",
              "      <td>0.000000</td>\n",
              "      <td>0.000000</td>\n",
              "      <td>0.000000</td>\n",
              "      <td>0.000000</td>\n",
              "      <td>1.000000</td>\n",
              "    </tr>\n",
              "    <tr>\n",
              "      <th>75%</th>\n",
              "      <td>367253.000000</td>\n",
              "      <td>1.000000</td>\n",
              "      <td>2.025000e+05</td>\n",
              "      <td>8.086500e+05</td>\n",
              "      <td>34596.000000</td>\n",
              "      <td>6.795000e+05</td>\n",
              "      <td>0.028663</td>\n",
              "      <td>-12409.000000</td>\n",
              "      <td>-290.000000</td>\n",
              "      <td>-2028.000000</td>\n",
              "      <td>...</td>\n",
              "      <td>0.00000</td>\n",
              "      <td>0.000000</td>\n",
              "      <td>0.000000</td>\n",
              "      <td>0.000000</td>\n",
              "      <td>0.000000</td>\n",
              "      <td>0.000000</td>\n",
              "      <td>0.000000</td>\n",
              "      <td>0.000000</td>\n",
              "      <td>0.000000</td>\n",
              "      <td>3.000000</td>\n",
              "    </tr>\n",
              "    <tr>\n",
              "      <th>max</th>\n",
              "      <td>456255.000000</td>\n",
              "      <td>19.000000</td>\n",
              "      <td>6.750000e+06</td>\n",
              "      <td>4.050000e+06</td>\n",
              "      <td>230161.500000</td>\n",
              "      <td>4.050000e+06</td>\n",
              "      <td>0.072508</td>\n",
              "      <td>-7676.000000</td>\n",
              "      <td>365243.000000</td>\n",
              "      <td>0.000000</td>\n",
              "      <td>...</td>\n",
              "      <td>1.00000</td>\n",
              "      <td>1.000000</td>\n",
              "      <td>1.000000</td>\n",
              "      <td>1.000000</td>\n",
              "      <td>3.000000</td>\n",
              "      <td>9.000000</td>\n",
              "      <td>8.000000</td>\n",
              "      <td>27.000000</td>\n",
              "      <td>8.000000</td>\n",
              "      <td>22.000000</td>\n",
              "    </tr>\n",
              "  </tbody>\n",
              "</table>\n",
              "<p>8 rows × 105 columns</p>\n",
              "</div>\n",
              "      <button class=\"colab-df-convert\" onclick=\"convertToInteractive('df-00ea801a-ef7a-4968-a320-cc28204a8d6f')\"\n",
              "              title=\"Convert this dataframe to an interactive table.\"\n",
              "              style=\"display:none;\">\n",
              "        \n",
              "  <svg xmlns=\"http://www.w3.org/2000/svg\" height=\"24px\"viewBox=\"0 0 24 24\"\n",
              "       width=\"24px\">\n",
              "    <path d=\"M0 0h24v24H0V0z\" fill=\"none\"/>\n",
              "    <path d=\"M18.56 5.44l.94 2.06.94-2.06 2.06-.94-2.06-.94-.94-2.06-.94 2.06-2.06.94zm-11 1L8.5 8.5l.94-2.06 2.06-.94-2.06-.94L8.5 2.5l-.94 2.06-2.06.94zm10 10l.94 2.06.94-2.06 2.06-.94-2.06-.94-.94-2.06-.94 2.06-2.06.94z\"/><path d=\"M17.41 7.96l-1.37-1.37c-.4-.4-.92-.59-1.43-.59-.52 0-1.04.2-1.43.59L10.3 9.45l-7.72 7.72c-.78.78-.78 2.05 0 2.83L4 21.41c.39.39.9.59 1.41.59.51 0 1.02-.2 1.41-.59l7.78-7.78 2.81-2.81c.8-.78.8-2.07 0-2.86zM5.41 20L4 18.59l7.72-7.72 1.47 1.35L5.41 20z\"/>\n",
              "  </svg>\n",
              "      </button>\n",
              "      \n",
              "  <style>\n",
              "    .colab-df-container {\n",
              "      display:flex;\n",
              "      flex-wrap:wrap;\n",
              "      gap: 12px;\n",
              "    }\n",
              "\n",
              "    .colab-df-convert {\n",
              "      background-color: #E8F0FE;\n",
              "      border: none;\n",
              "      border-radius: 50%;\n",
              "      cursor: pointer;\n",
              "      display: none;\n",
              "      fill: #1967D2;\n",
              "      height: 32px;\n",
              "      padding: 0 0 0 0;\n",
              "      width: 32px;\n",
              "    }\n",
              "\n",
              "    .colab-df-convert:hover {\n",
              "      background-color: #E2EBFA;\n",
              "      box-shadow: 0px 1px 2px rgba(60, 64, 67, 0.3), 0px 1px 3px 1px rgba(60, 64, 67, 0.15);\n",
              "      fill: #174EA6;\n",
              "    }\n",
              "\n",
              "    [theme=dark] .colab-df-convert {\n",
              "      background-color: #3B4455;\n",
              "      fill: #D2E3FC;\n",
              "    }\n",
              "\n",
              "    [theme=dark] .colab-df-convert:hover {\n",
              "      background-color: #434B5C;\n",
              "      box-shadow: 0px 1px 3px 1px rgba(0, 0, 0, 0.15);\n",
              "      filter: drop-shadow(0px 1px 2px rgba(0, 0, 0, 0.3));\n",
              "      fill: #FFFFFF;\n",
              "    }\n",
              "  </style>\n",
              "\n",
              "      <script>\n",
              "        const buttonEl =\n",
              "          document.querySelector('#df-00ea801a-ef7a-4968-a320-cc28204a8d6f button.colab-df-convert');\n",
              "        buttonEl.style.display =\n",
              "          google.colab.kernel.accessAllowed ? 'block' : 'none';\n",
              "\n",
              "        async function convertToInteractive(key) {\n",
              "          const element = document.querySelector('#df-00ea801a-ef7a-4968-a320-cc28204a8d6f');\n",
              "          const dataTable =\n",
              "            await google.colab.kernel.invokeFunction('convertToInteractive',\n",
              "                                                     [key], {});\n",
              "          if (!dataTable) return;\n",
              "\n",
              "          const docLinkHtml = 'Like what you see? Visit the ' +\n",
              "            '<a target=\"_blank\" href=https://colab.research.google.com/notebooks/data_table.ipynb>data table notebook</a>'\n",
              "            + ' to learn more about interactive tables.';\n",
              "          element.innerHTML = '';\n",
              "          dataTable['output_type'] = 'display_data';\n",
              "          await google.colab.output.renderOutput(dataTable, element);\n",
              "          const docLink = document.createElement('div');\n",
              "          docLink.innerHTML = docLinkHtml;\n",
              "          element.appendChild(docLink);\n",
              "        }\n",
              "      </script>\n",
              "    </div>\n",
              "  </div>\n",
              "  "
            ]
          },
          "metadata": {},
          "execution_count": 12
        }
      ],
      "source": [
        "test_data.describe()"
      ]
    },
    {
      "cell_type": "markdown",
      "metadata": {
        "id": "4thfZGYzIV9H"
      },
      "source": [
        "ROWS OF DATA"
      ]
    },
    {
      "cell_type": "code",
      "execution_count": null,
      "metadata": {
        "id": "VN-F6DjgIV9H",
        "colab": {
          "base_uri": "https://localhost:8080/"
        },
        "outputId": "50c708c0-d319-4ec7-ef43-29042cccd566"
      },
      "outputs": [
        {
          "output_type": "stream",
          "name": "stdout",
          "text": [
            "<class 'pandas.core.frame.DataFrame'>\n",
            "RangeIndex: 123005 entries, 0 to 123004\n",
            "Columns: 121 entries, SK_ID_CURR to AMT_REQ_CREDIT_BUREAU_YEAR\n",
            "dtypes: float64(65), int64(40), object(16)\n",
            "memory usage: 113.6+ MB\n"
          ]
        }
      ],
      "source": [
        "test_data.info()"
      ]
    },
    {
      "cell_type": "markdown",
      "metadata": {
        "id": "A4TF2UvxIV9I"
      },
      "source": [
        "COLUMNS OF DATA"
      ]
    },
    {
      "cell_type": "code",
      "execution_count": null,
      "metadata": {
        "id": "MBcAhQr0IV9I",
        "colab": {
          "base_uri": "https://localhost:8080/"
        },
        "outputId": "9a84d26b-f184-45a8-bc13-cf0bcc506d96"
      },
      "outputs": [
        {
          "output_type": "execute_result",
          "data": {
            "text/plain": [
              "Index(['SK_ID_CURR', 'NAME_CONTRACT_TYPE', 'CODE_GENDER', 'FLAG_OWN_CAR',\n",
              "       'FLAG_OWN_REALTY', 'CNT_CHILDREN', 'AMT_INCOME_TOTAL', 'AMT_CREDIT',\n",
              "       'AMT_ANNUITY', 'AMT_GOODS_PRICE',\n",
              "       ...\n",
              "       'FLAG_DOCUMENT_18', 'FLAG_DOCUMENT_19', 'FLAG_DOCUMENT_20',\n",
              "       'FLAG_DOCUMENT_21', 'AMT_REQ_CREDIT_BUREAU_HOUR',\n",
              "       'AMT_REQ_CREDIT_BUREAU_DAY', 'AMT_REQ_CREDIT_BUREAU_WEEK',\n",
              "       'AMT_REQ_CREDIT_BUREAU_MON', 'AMT_REQ_CREDIT_BUREAU_QRT',\n",
              "       'AMT_REQ_CREDIT_BUREAU_YEAR'],\n",
              "      dtype='object', length=121)"
            ]
          },
          "metadata": {},
          "execution_count": 14
        }
      ],
      "source": [
        "test_data.columns"
      ]
    },
    {
      "cell_type": "markdown",
      "metadata": {
        "id": "HyNIOWSWIV9I"
      },
      "source": [
        "FIRST FIVE ROWS OF DATA"
      ]
    },
    {
      "cell_type": "code",
      "execution_count": null,
      "metadata": {
        "id": "W2q-DWSHIV9I",
        "colab": {
          "base_uri": "https://localhost:8080/",
          "height": 300
        },
        "outputId": "714df733-215c-4dec-bac9-5c7e9e80f16b"
      },
      "outputs": [
        {
          "output_type": "execute_result",
          "data": {
            "text/plain": [
              "   SK_ID_CURR NAME_CONTRACT_TYPE CODE_GENDER FLAG_OWN_CAR FLAG_OWN_REALTY  \\\n",
              "0      367294         Cash loans           F            N               Y   \n",
              "1      439847         Cash loans           F            N               Y   \n",
              "2      380562         Cash loans           M            Y               N   \n",
              "3      407238         Cash loans           F            N               Y   \n",
              "4      239910         Cash loans           F            N               Y   \n",
              "\n",
              "   CNT_CHILDREN  AMT_INCOME_TOTAL  AMT_CREDIT  AMT_ANNUITY  AMT_GOODS_PRICE  \\\n",
              "0             0          180000.0    265306.5      25317.0         252000.0   \n",
              "1             0          202500.0    346500.0      21069.0         346500.0   \n",
              "2             0          360000.0    545040.0      36553.5         450000.0   \n",
              "3             0          135000.0    307557.0      20682.0         265500.0   \n",
              "4             0          157500.0   1056447.0      31018.5         922500.0   \n",
              "\n",
              "   ... FLAG_DOCUMENT_18 FLAG_DOCUMENT_19 FLAG_DOCUMENT_20 FLAG_DOCUMENT_21  \\\n",
              "0  ...                0                0                0                0   \n",
              "1  ...                0                0                0                0   \n",
              "2  ...                0                0                0                0   \n",
              "3  ...                0                0                0                0   \n",
              "4  ...                0                0                0                0   \n",
              "\n",
              "  AMT_REQ_CREDIT_BUREAU_HOUR  AMT_REQ_CREDIT_BUREAU_DAY  \\\n",
              "0                        0.0                        0.0   \n",
              "1                        0.0                        0.0   \n",
              "2                        0.0                        0.0   \n",
              "3                        0.0                        0.0   \n",
              "4                        NaN                        NaN   \n",
              "\n",
              "   AMT_REQ_CREDIT_BUREAU_WEEK  AMT_REQ_CREDIT_BUREAU_MON  \\\n",
              "0                         0.0                        1.0   \n",
              "1                         0.0                        0.0   \n",
              "2                         0.0                        0.0   \n",
              "3                         1.0                        0.0   \n",
              "4                         NaN                        NaN   \n",
              "\n",
              "   AMT_REQ_CREDIT_BUREAU_QRT  AMT_REQ_CREDIT_BUREAU_YEAR  \n",
              "0                        2.0                         5.0  \n",
              "1                        0.0                         5.0  \n",
              "2                        1.0                         5.0  \n",
              "3                        1.0                         2.0  \n",
              "4                        NaN                         NaN  \n",
              "\n",
              "[5 rows x 121 columns]"
            ],
            "text/html": [
              "\n",
              "  <div id=\"df-a99ac438-d1da-44f9-9b28-ca10706d77c0\">\n",
              "    <div class=\"colab-df-container\">\n",
              "      <div>\n",
              "<style scoped>\n",
              "    .dataframe tbody tr th:only-of-type {\n",
              "        vertical-align: middle;\n",
              "    }\n",
              "\n",
              "    .dataframe tbody tr th {\n",
              "        vertical-align: top;\n",
              "    }\n",
              "\n",
              "    .dataframe thead th {\n",
              "        text-align: right;\n",
              "    }\n",
              "</style>\n",
              "<table border=\"1\" class=\"dataframe\">\n",
              "  <thead>\n",
              "    <tr style=\"text-align: right;\">\n",
              "      <th></th>\n",
              "      <th>SK_ID_CURR</th>\n",
              "      <th>NAME_CONTRACT_TYPE</th>\n",
              "      <th>CODE_GENDER</th>\n",
              "      <th>FLAG_OWN_CAR</th>\n",
              "      <th>FLAG_OWN_REALTY</th>\n",
              "      <th>CNT_CHILDREN</th>\n",
              "      <th>AMT_INCOME_TOTAL</th>\n",
              "      <th>AMT_CREDIT</th>\n",
              "      <th>AMT_ANNUITY</th>\n",
              "      <th>AMT_GOODS_PRICE</th>\n",
              "      <th>...</th>\n",
              "      <th>FLAG_DOCUMENT_18</th>\n",
              "      <th>FLAG_DOCUMENT_19</th>\n",
              "      <th>FLAG_DOCUMENT_20</th>\n",
              "      <th>FLAG_DOCUMENT_21</th>\n",
              "      <th>AMT_REQ_CREDIT_BUREAU_HOUR</th>\n",
              "      <th>AMT_REQ_CREDIT_BUREAU_DAY</th>\n",
              "      <th>AMT_REQ_CREDIT_BUREAU_WEEK</th>\n",
              "      <th>AMT_REQ_CREDIT_BUREAU_MON</th>\n",
              "      <th>AMT_REQ_CREDIT_BUREAU_QRT</th>\n",
              "      <th>AMT_REQ_CREDIT_BUREAU_YEAR</th>\n",
              "    </tr>\n",
              "  </thead>\n",
              "  <tbody>\n",
              "    <tr>\n",
              "      <th>0</th>\n",
              "      <td>367294</td>\n",
              "      <td>Cash loans</td>\n",
              "      <td>F</td>\n",
              "      <td>N</td>\n",
              "      <td>Y</td>\n",
              "      <td>0</td>\n",
              "      <td>180000.0</td>\n",
              "      <td>265306.5</td>\n",
              "      <td>25317.0</td>\n",
              "      <td>252000.0</td>\n",
              "      <td>...</td>\n",
              "      <td>0</td>\n",
              "      <td>0</td>\n",
              "      <td>0</td>\n",
              "      <td>0</td>\n",
              "      <td>0.0</td>\n",
              "      <td>0.0</td>\n",
              "      <td>0.0</td>\n",
              "      <td>1.0</td>\n",
              "      <td>2.0</td>\n",
              "      <td>5.0</td>\n",
              "    </tr>\n",
              "    <tr>\n",
              "      <th>1</th>\n",
              "      <td>439847</td>\n",
              "      <td>Cash loans</td>\n",
              "      <td>F</td>\n",
              "      <td>N</td>\n",
              "      <td>Y</td>\n",
              "      <td>0</td>\n",
              "      <td>202500.0</td>\n",
              "      <td>346500.0</td>\n",
              "      <td>21069.0</td>\n",
              "      <td>346500.0</td>\n",
              "      <td>...</td>\n",
              "      <td>0</td>\n",
              "      <td>0</td>\n",
              "      <td>0</td>\n",
              "      <td>0</td>\n",
              "      <td>0.0</td>\n",
              "      <td>0.0</td>\n",
              "      <td>0.0</td>\n",
              "      <td>0.0</td>\n",
              "      <td>0.0</td>\n",
              "      <td>5.0</td>\n",
              "    </tr>\n",
              "    <tr>\n",
              "      <th>2</th>\n",
              "      <td>380562</td>\n",
              "      <td>Cash loans</td>\n",
              "      <td>M</td>\n",
              "      <td>Y</td>\n",
              "      <td>N</td>\n",
              "      <td>0</td>\n",
              "      <td>360000.0</td>\n",
              "      <td>545040.0</td>\n",
              "      <td>36553.5</td>\n",
              "      <td>450000.0</td>\n",
              "      <td>...</td>\n",
              "      <td>0</td>\n",
              "      <td>0</td>\n",
              "      <td>0</td>\n",
              "      <td>0</td>\n",
              "      <td>0.0</td>\n",
              "      <td>0.0</td>\n",
              "      <td>0.0</td>\n",
              "      <td>0.0</td>\n",
              "      <td>1.0</td>\n",
              "      <td>5.0</td>\n",
              "    </tr>\n",
              "    <tr>\n",
              "      <th>3</th>\n",
              "      <td>407238</td>\n",
              "      <td>Cash loans</td>\n",
              "      <td>F</td>\n",
              "      <td>N</td>\n",
              "      <td>Y</td>\n",
              "      <td>0</td>\n",
              "      <td>135000.0</td>\n",
              "      <td>307557.0</td>\n",
              "      <td>20682.0</td>\n",
              "      <td>265500.0</td>\n",
              "      <td>...</td>\n",
              "      <td>0</td>\n",
              "      <td>0</td>\n",
              "      <td>0</td>\n",
              "      <td>0</td>\n",
              "      <td>0.0</td>\n",
              "      <td>0.0</td>\n",
              "      <td>1.0</td>\n",
              "      <td>0.0</td>\n",
              "      <td>1.0</td>\n",
              "      <td>2.0</td>\n",
              "    </tr>\n",
              "    <tr>\n",
              "      <th>4</th>\n",
              "      <td>239910</td>\n",
              "      <td>Cash loans</td>\n",
              "      <td>F</td>\n",
              "      <td>N</td>\n",
              "      <td>Y</td>\n",
              "      <td>0</td>\n",
              "      <td>157500.0</td>\n",
              "      <td>1056447.0</td>\n",
              "      <td>31018.5</td>\n",
              "      <td>922500.0</td>\n",
              "      <td>...</td>\n",
              "      <td>0</td>\n",
              "      <td>0</td>\n",
              "      <td>0</td>\n",
              "      <td>0</td>\n",
              "      <td>NaN</td>\n",
              "      <td>NaN</td>\n",
              "      <td>NaN</td>\n",
              "      <td>NaN</td>\n",
              "      <td>NaN</td>\n",
              "      <td>NaN</td>\n",
              "    </tr>\n",
              "  </tbody>\n",
              "</table>\n",
              "<p>5 rows × 121 columns</p>\n",
              "</div>\n",
              "      <button class=\"colab-df-convert\" onclick=\"convertToInteractive('df-a99ac438-d1da-44f9-9b28-ca10706d77c0')\"\n",
              "              title=\"Convert this dataframe to an interactive table.\"\n",
              "              style=\"display:none;\">\n",
              "        \n",
              "  <svg xmlns=\"http://www.w3.org/2000/svg\" height=\"24px\"viewBox=\"0 0 24 24\"\n",
              "       width=\"24px\">\n",
              "    <path d=\"M0 0h24v24H0V0z\" fill=\"none\"/>\n",
              "    <path d=\"M18.56 5.44l.94 2.06.94-2.06 2.06-.94-2.06-.94-.94-2.06-.94 2.06-2.06.94zm-11 1L8.5 8.5l.94-2.06 2.06-.94-2.06-.94L8.5 2.5l-.94 2.06-2.06.94zm10 10l.94 2.06.94-2.06 2.06-.94-2.06-.94-.94-2.06-.94 2.06-2.06.94z\"/><path d=\"M17.41 7.96l-1.37-1.37c-.4-.4-.92-.59-1.43-.59-.52 0-1.04.2-1.43.59L10.3 9.45l-7.72 7.72c-.78.78-.78 2.05 0 2.83L4 21.41c.39.39.9.59 1.41.59.51 0 1.02-.2 1.41-.59l7.78-7.78 2.81-2.81c.8-.78.8-2.07 0-2.86zM5.41 20L4 18.59l7.72-7.72 1.47 1.35L5.41 20z\"/>\n",
              "  </svg>\n",
              "      </button>\n",
              "      \n",
              "  <style>\n",
              "    .colab-df-container {\n",
              "      display:flex;\n",
              "      flex-wrap:wrap;\n",
              "      gap: 12px;\n",
              "    }\n",
              "\n",
              "    .colab-df-convert {\n",
              "      background-color: #E8F0FE;\n",
              "      border: none;\n",
              "      border-radius: 50%;\n",
              "      cursor: pointer;\n",
              "      display: none;\n",
              "      fill: #1967D2;\n",
              "      height: 32px;\n",
              "      padding: 0 0 0 0;\n",
              "      width: 32px;\n",
              "    }\n",
              "\n",
              "    .colab-df-convert:hover {\n",
              "      background-color: #E2EBFA;\n",
              "      box-shadow: 0px 1px 2px rgba(60, 64, 67, 0.3), 0px 1px 3px 1px rgba(60, 64, 67, 0.15);\n",
              "      fill: #174EA6;\n",
              "    }\n",
              "\n",
              "    [theme=dark] .colab-df-convert {\n",
              "      background-color: #3B4455;\n",
              "      fill: #D2E3FC;\n",
              "    }\n",
              "\n",
              "    [theme=dark] .colab-df-convert:hover {\n",
              "      background-color: #434B5C;\n",
              "      box-shadow: 0px 1px 3px 1px rgba(0, 0, 0, 0.15);\n",
              "      filter: drop-shadow(0px 1px 2px rgba(0, 0, 0, 0.3));\n",
              "      fill: #FFFFFF;\n",
              "    }\n",
              "  </style>\n",
              "\n",
              "      <script>\n",
              "        const buttonEl =\n",
              "          document.querySelector('#df-a99ac438-d1da-44f9-9b28-ca10706d77c0 button.colab-df-convert');\n",
              "        buttonEl.style.display =\n",
              "          google.colab.kernel.accessAllowed ? 'block' : 'none';\n",
              "\n",
              "        async function convertToInteractive(key) {\n",
              "          const element = document.querySelector('#df-a99ac438-d1da-44f9-9b28-ca10706d77c0');\n",
              "          const dataTable =\n",
              "            await google.colab.kernel.invokeFunction('convertToInteractive',\n",
              "                                                     [key], {});\n",
              "          if (!dataTable) return;\n",
              "\n",
              "          const docLinkHtml = 'Like what you see? Visit the ' +\n",
              "            '<a target=\"_blank\" href=https://colab.research.google.com/notebooks/data_table.ipynb>data table notebook</a>'\n",
              "            + ' to learn more about interactive tables.';\n",
              "          element.innerHTML = '';\n",
              "          dataTable['output_type'] = 'display_data';\n",
              "          await google.colab.output.renderOutput(dataTable, element);\n",
              "          const docLink = document.createElement('div');\n",
              "          docLink.innerHTML = docLinkHtml;\n",
              "          element.appendChild(docLink);\n",
              "        }\n",
              "      </script>\n",
              "    </div>\n",
              "  </div>\n",
              "  "
            ]
          },
          "metadata": {},
          "execution_count": 15
        }
      ],
      "source": [
        "test_data.head()\n"
      ]
    },
    {
      "cell_type": "code",
      "execution_count": null,
      "metadata": {
        "id": "FOmo5r8sIV9I"
      },
      "outputs": [],
      "source": [
        "test=test_data.drop(columns=['SK_ID_CURR'])"
      ]
    },
    {
      "cell_type": "markdown",
      "metadata": {
        "id": "qR_BpSTfIV9I"
      },
      "source": [
        "Column which shows ID is not at all relevant in our model. So dropping that column."
      ]
    },
    {
      "cell_type": "code",
      "execution_count": null,
      "metadata": {
        "id": "Q7tSEeNzIV9I",
        "colab": {
          "base_uri": "https://localhost:8080/",
          "height": 300
        },
        "outputId": "c12aeb01-b6d4-451d-c251-693943c67648"
      },
      "outputs": [
        {
          "output_type": "execute_result",
          "data": {
            "text/plain": [
              "  NAME_CONTRACT_TYPE CODE_GENDER FLAG_OWN_CAR FLAG_OWN_REALTY  CNT_CHILDREN  \\\n",
              "0         Cash loans           F            N               Y             0   \n",
              "1         Cash loans           F            N               Y             0   \n",
              "2         Cash loans           M            Y               N             0   \n",
              "3         Cash loans           F            N               Y             0   \n",
              "4         Cash loans           F            N               Y             0   \n",
              "\n",
              "   AMT_INCOME_TOTAL  AMT_CREDIT  AMT_ANNUITY  AMT_GOODS_PRICE NAME_TYPE_SUITE  \\\n",
              "0          180000.0    265306.5      25317.0         252000.0   Unaccompanied   \n",
              "1          202500.0    346500.0      21069.0         346500.0   Unaccompanied   \n",
              "2          360000.0    545040.0      36553.5         450000.0   Unaccompanied   \n",
              "3          135000.0    307557.0      20682.0         265500.0   Unaccompanied   \n",
              "4          157500.0   1056447.0      31018.5         922500.0          Family   \n",
              "\n",
              "   ... FLAG_DOCUMENT_18 FLAG_DOCUMENT_19 FLAG_DOCUMENT_20 FLAG_DOCUMENT_21  \\\n",
              "0  ...                0                0                0                0   \n",
              "1  ...                0                0                0                0   \n",
              "2  ...                0                0                0                0   \n",
              "3  ...                0                0                0                0   \n",
              "4  ...                0                0                0                0   \n",
              "\n",
              "   AMT_REQ_CREDIT_BUREAU_HOUR  AMT_REQ_CREDIT_BUREAU_DAY  \\\n",
              "0                         0.0                        0.0   \n",
              "1                         0.0                        0.0   \n",
              "2                         0.0                        0.0   \n",
              "3                         0.0                        0.0   \n",
              "4                         NaN                        NaN   \n",
              "\n",
              "   AMT_REQ_CREDIT_BUREAU_WEEK  AMT_REQ_CREDIT_BUREAU_MON  \\\n",
              "0                         0.0                        1.0   \n",
              "1                         0.0                        0.0   \n",
              "2                         0.0                        0.0   \n",
              "3                         1.0                        0.0   \n",
              "4                         NaN                        NaN   \n",
              "\n",
              "   AMT_REQ_CREDIT_BUREAU_QRT  AMT_REQ_CREDIT_BUREAU_YEAR  \n",
              "0                        2.0                         5.0  \n",
              "1                        0.0                         5.0  \n",
              "2                        1.0                         5.0  \n",
              "3                        1.0                         2.0  \n",
              "4                        NaN                         NaN  \n",
              "\n",
              "[5 rows x 120 columns]"
            ],
            "text/html": [
              "\n",
              "  <div id=\"df-4e02096b-0003-4f94-b668-71d58f7bf505\">\n",
              "    <div class=\"colab-df-container\">\n",
              "      <div>\n",
              "<style scoped>\n",
              "    .dataframe tbody tr th:only-of-type {\n",
              "        vertical-align: middle;\n",
              "    }\n",
              "\n",
              "    .dataframe tbody tr th {\n",
              "        vertical-align: top;\n",
              "    }\n",
              "\n",
              "    .dataframe thead th {\n",
              "        text-align: right;\n",
              "    }\n",
              "</style>\n",
              "<table border=\"1\" class=\"dataframe\">\n",
              "  <thead>\n",
              "    <tr style=\"text-align: right;\">\n",
              "      <th></th>\n",
              "      <th>NAME_CONTRACT_TYPE</th>\n",
              "      <th>CODE_GENDER</th>\n",
              "      <th>FLAG_OWN_CAR</th>\n",
              "      <th>FLAG_OWN_REALTY</th>\n",
              "      <th>CNT_CHILDREN</th>\n",
              "      <th>AMT_INCOME_TOTAL</th>\n",
              "      <th>AMT_CREDIT</th>\n",
              "      <th>AMT_ANNUITY</th>\n",
              "      <th>AMT_GOODS_PRICE</th>\n",
              "      <th>NAME_TYPE_SUITE</th>\n",
              "      <th>...</th>\n",
              "      <th>FLAG_DOCUMENT_18</th>\n",
              "      <th>FLAG_DOCUMENT_19</th>\n",
              "      <th>FLAG_DOCUMENT_20</th>\n",
              "      <th>FLAG_DOCUMENT_21</th>\n",
              "      <th>AMT_REQ_CREDIT_BUREAU_HOUR</th>\n",
              "      <th>AMT_REQ_CREDIT_BUREAU_DAY</th>\n",
              "      <th>AMT_REQ_CREDIT_BUREAU_WEEK</th>\n",
              "      <th>AMT_REQ_CREDIT_BUREAU_MON</th>\n",
              "      <th>AMT_REQ_CREDIT_BUREAU_QRT</th>\n",
              "      <th>AMT_REQ_CREDIT_BUREAU_YEAR</th>\n",
              "    </tr>\n",
              "  </thead>\n",
              "  <tbody>\n",
              "    <tr>\n",
              "      <th>0</th>\n",
              "      <td>Cash loans</td>\n",
              "      <td>F</td>\n",
              "      <td>N</td>\n",
              "      <td>Y</td>\n",
              "      <td>0</td>\n",
              "      <td>180000.0</td>\n",
              "      <td>265306.5</td>\n",
              "      <td>25317.0</td>\n",
              "      <td>252000.0</td>\n",
              "      <td>Unaccompanied</td>\n",
              "      <td>...</td>\n",
              "      <td>0</td>\n",
              "      <td>0</td>\n",
              "      <td>0</td>\n",
              "      <td>0</td>\n",
              "      <td>0.0</td>\n",
              "      <td>0.0</td>\n",
              "      <td>0.0</td>\n",
              "      <td>1.0</td>\n",
              "      <td>2.0</td>\n",
              "      <td>5.0</td>\n",
              "    </tr>\n",
              "    <tr>\n",
              "      <th>1</th>\n",
              "      <td>Cash loans</td>\n",
              "      <td>F</td>\n",
              "      <td>N</td>\n",
              "      <td>Y</td>\n",
              "      <td>0</td>\n",
              "      <td>202500.0</td>\n",
              "      <td>346500.0</td>\n",
              "      <td>21069.0</td>\n",
              "      <td>346500.0</td>\n",
              "      <td>Unaccompanied</td>\n",
              "      <td>...</td>\n",
              "      <td>0</td>\n",
              "      <td>0</td>\n",
              "      <td>0</td>\n",
              "      <td>0</td>\n",
              "      <td>0.0</td>\n",
              "      <td>0.0</td>\n",
              "      <td>0.0</td>\n",
              "      <td>0.0</td>\n",
              "      <td>0.0</td>\n",
              "      <td>5.0</td>\n",
              "    </tr>\n",
              "    <tr>\n",
              "      <th>2</th>\n",
              "      <td>Cash loans</td>\n",
              "      <td>M</td>\n",
              "      <td>Y</td>\n",
              "      <td>N</td>\n",
              "      <td>0</td>\n",
              "      <td>360000.0</td>\n",
              "      <td>545040.0</td>\n",
              "      <td>36553.5</td>\n",
              "      <td>450000.0</td>\n",
              "      <td>Unaccompanied</td>\n",
              "      <td>...</td>\n",
              "      <td>0</td>\n",
              "      <td>0</td>\n",
              "      <td>0</td>\n",
              "      <td>0</td>\n",
              "      <td>0.0</td>\n",
              "      <td>0.0</td>\n",
              "      <td>0.0</td>\n",
              "      <td>0.0</td>\n",
              "      <td>1.0</td>\n",
              "      <td>5.0</td>\n",
              "    </tr>\n",
              "    <tr>\n",
              "      <th>3</th>\n",
              "      <td>Cash loans</td>\n",
              "      <td>F</td>\n",
              "      <td>N</td>\n",
              "      <td>Y</td>\n",
              "      <td>0</td>\n",
              "      <td>135000.0</td>\n",
              "      <td>307557.0</td>\n",
              "      <td>20682.0</td>\n",
              "      <td>265500.0</td>\n",
              "      <td>Unaccompanied</td>\n",
              "      <td>...</td>\n",
              "      <td>0</td>\n",
              "      <td>0</td>\n",
              "      <td>0</td>\n",
              "      <td>0</td>\n",
              "      <td>0.0</td>\n",
              "      <td>0.0</td>\n",
              "      <td>1.0</td>\n",
              "      <td>0.0</td>\n",
              "      <td>1.0</td>\n",
              "      <td>2.0</td>\n",
              "    </tr>\n",
              "    <tr>\n",
              "      <th>4</th>\n",
              "      <td>Cash loans</td>\n",
              "      <td>F</td>\n",
              "      <td>N</td>\n",
              "      <td>Y</td>\n",
              "      <td>0</td>\n",
              "      <td>157500.0</td>\n",
              "      <td>1056447.0</td>\n",
              "      <td>31018.5</td>\n",
              "      <td>922500.0</td>\n",
              "      <td>Family</td>\n",
              "      <td>...</td>\n",
              "      <td>0</td>\n",
              "      <td>0</td>\n",
              "      <td>0</td>\n",
              "      <td>0</td>\n",
              "      <td>NaN</td>\n",
              "      <td>NaN</td>\n",
              "      <td>NaN</td>\n",
              "      <td>NaN</td>\n",
              "      <td>NaN</td>\n",
              "      <td>NaN</td>\n",
              "    </tr>\n",
              "  </tbody>\n",
              "</table>\n",
              "<p>5 rows × 120 columns</p>\n",
              "</div>\n",
              "      <button class=\"colab-df-convert\" onclick=\"convertToInteractive('df-4e02096b-0003-4f94-b668-71d58f7bf505')\"\n",
              "              title=\"Convert this dataframe to an interactive table.\"\n",
              "              style=\"display:none;\">\n",
              "        \n",
              "  <svg xmlns=\"http://www.w3.org/2000/svg\" height=\"24px\"viewBox=\"0 0 24 24\"\n",
              "       width=\"24px\">\n",
              "    <path d=\"M0 0h24v24H0V0z\" fill=\"none\"/>\n",
              "    <path d=\"M18.56 5.44l.94 2.06.94-2.06 2.06-.94-2.06-.94-.94-2.06-.94 2.06-2.06.94zm-11 1L8.5 8.5l.94-2.06 2.06-.94-2.06-.94L8.5 2.5l-.94 2.06-2.06.94zm10 10l.94 2.06.94-2.06 2.06-.94-2.06-.94-.94-2.06-.94 2.06-2.06.94z\"/><path d=\"M17.41 7.96l-1.37-1.37c-.4-.4-.92-.59-1.43-.59-.52 0-1.04.2-1.43.59L10.3 9.45l-7.72 7.72c-.78.78-.78 2.05 0 2.83L4 21.41c.39.39.9.59 1.41.59.51 0 1.02-.2 1.41-.59l7.78-7.78 2.81-2.81c.8-.78.8-2.07 0-2.86zM5.41 20L4 18.59l7.72-7.72 1.47 1.35L5.41 20z\"/>\n",
              "  </svg>\n",
              "      </button>\n",
              "      \n",
              "  <style>\n",
              "    .colab-df-container {\n",
              "      display:flex;\n",
              "      flex-wrap:wrap;\n",
              "      gap: 12px;\n",
              "    }\n",
              "\n",
              "    .colab-df-convert {\n",
              "      background-color: #E8F0FE;\n",
              "      border: none;\n",
              "      border-radius: 50%;\n",
              "      cursor: pointer;\n",
              "      display: none;\n",
              "      fill: #1967D2;\n",
              "      height: 32px;\n",
              "      padding: 0 0 0 0;\n",
              "      width: 32px;\n",
              "    }\n",
              "\n",
              "    .colab-df-convert:hover {\n",
              "      background-color: #E2EBFA;\n",
              "      box-shadow: 0px 1px 2px rgba(60, 64, 67, 0.3), 0px 1px 3px 1px rgba(60, 64, 67, 0.15);\n",
              "      fill: #174EA6;\n",
              "    }\n",
              "\n",
              "    [theme=dark] .colab-df-convert {\n",
              "      background-color: #3B4455;\n",
              "      fill: #D2E3FC;\n",
              "    }\n",
              "\n",
              "    [theme=dark] .colab-df-convert:hover {\n",
              "      background-color: #434B5C;\n",
              "      box-shadow: 0px 1px 3px 1px rgba(0, 0, 0, 0.15);\n",
              "      filter: drop-shadow(0px 1px 2px rgba(0, 0, 0, 0.3));\n",
              "      fill: #FFFFFF;\n",
              "    }\n",
              "  </style>\n",
              "\n",
              "      <script>\n",
              "        const buttonEl =\n",
              "          document.querySelector('#df-4e02096b-0003-4f94-b668-71d58f7bf505 button.colab-df-convert');\n",
              "        buttonEl.style.display =\n",
              "          google.colab.kernel.accessAllowed ? 'block' : 'none';\n",
              "\n",
              "        async function convertToInteractive(key) {\n",
              "          const element = document.querySelector('#df-4e02096b-0003-4f94-b668-71d58f7bf505');\n",
              "          const dataTable =\n",
              "            await google.colab.kernel.invokeFunction('convertToInteractive',\n",
              "                                                     [key], {});\n",
              "          if (!dataTable) return;\n",
              "\n",
              "          const docLinkHtml = 'Like what you see? Visit the ' +\n",
              "            '<a target=\"_blank\" href=https://colab.research.google.com/notebooks/data_table.ipynb>data table notebook</a>'\n",
              "            + ' to learn more about interactive tables.';\n",
              "          element.innerHTML = '';\n",
              "          dataTable['output_type'] = 'display_data';\n",
              "          await google.colab.output.renderOutput(dataTable, element);\n",
              "          const docLink = document.createElement('div');\n",
              "          docLink.innerHTML = docLinkHtml;\n",
              "          element.appendChild(docLink);\n",
              "        }\n",
              "      </script>\n",
              "    </div>\n",
              "  </div>\n",
              "  "
            ]
          },
          "metadata": {},
          "execution_count": 17
        }
      ],
      "source": [
        "test.head()"
      ]
    },
    {
      "cell_type": "markdown",
      "metadata": {
        "id": "l97m9Zs3ZnPA"
      },
      "source": [
        "#**TRAIN DATA ANALYSIS**"
      ]
    },
    {
      "cell_type": "markdown",
      "metadata": {
        "id": "tImZthQ9bnZd"
      },
      "source": [
        "PLOTTING TARGET LABEL\n",
        "(Did people return loan amount on time?)"
      ]
    },
    {
      "cell_type": "code",
      "execution_count": null,
      "metadata": {
        "id": "PbTv1cnJUwWX"
      },
      "outputs": [],
      "source": [
        "# plt.figure(figsize=(10,7))\n",
        "# ax=sns.countplot(x='TARGET',data=train)\n",
        "# for p in ax.patches:\n",
        "#         ax.annotate(p.get_height(), (p.get_x() + p.get_width() / 2., p.get_height()), ha = 'center', va = 'center', xytext = (0, 10), textcoords = 'offset points')\n",
        "# plt.show()"
      ]
    },
    {
      "cell_type": "markdown",
      "metadata": {
        "id": "bBibA8FgDozH"
      },
      "source": [
        "0 indicates people who repayed all the installments on time and 1 indicates people who repayed the installment late at least once"
      ]
    },
    {
      "cell_type": "markdown",
      "metadata": {
        "id": "piRPG34TiKGn"
      },
      "source": [
        "From the above graph, we can infer that a high percentage of people (91.93%) repayed the installments on time, so the target label is imbalanced."
      ]
    },
    {
      "cell_type": "markdown",
      "metadata": {
        "id": "uJI7KWNo3lUQ"
      },
      "source": [
        "PLOTTING COUNTS OF ALL THE COLUMNS"
      ]
    },
    {
      "cell_type": "code",
      "execution_count": null,
      "metadata": {
        "id": "38UARcYhX5Gz"
      },
      "outputs": [],
      "source": [
        "# for i in train:\n",
        "#     if (train[i].dtype=='object'):\n",
        "#         plt.figure(figsize=(12,7))\n",
        "#         ax=sns.countplot(data=train,x='TARGET',hue=i)\n",
        "#         for p in ax.patches:\n",
        "#               ax.annotate(p.get_height(), (p.get_x() + p.get_width() / 2., p.get_height()), ha = 'center', va = 'center', xytext = (0, 10), textcoords = 'offset points')\n",
        "#         plt.show()\n"
      ]
    },
    {
      "cell_type": "code",
      "execution_count": null,
      "metadata": {
        "id": "kY1LaCDXPr9o"
      },
      "outputs": [],
      "source": [
        "# for i in train:\n",
        "#     if (len(train[i].unique())>3 and train[i].dtype != 'object'):\n",
        "#         plt.figure(figsize=(10,7))\n",
        "#         sns.kdeplot(train.loc[train['TARGET'] == 0, i], label = 'target = 0')\n",
        "#         sns.kdeplot(train.loc[train['TARGET'] == 1, i], label = 'target = 1')\n",
        "#         plt.legend()\n",
        "#         plt.show()"
      ]
    },
    {
      "cell_type": "code",
      "execution_count": null,
      "metadata": {
        "id": "xGhwh96_8Ut3"
      },
      "outputs": [],
      "source": [
        "# for i in train:\n",
        "#     if (len(train[i].unique())<=3 and not train[i].dtype=='object'):\n",
        "#         plt.figure(figsize=(10,7))\n",
        "#         ax=sns.countplot(data=train,x='TARGET',hue=i)\n",
        "#         for p in ax.patches:\n",
        "#               ax.annotate(p.get_height(), (p.get_x() + p.get_width() / 2., p.get_height()), ha = 'center', va = 'center', xytext = (0, 10), textcoords = 'offset points')\n",
        "#         plt.show()"
      ]
    },
    {
      "cell_type": "markdown",
      "source": [
        "From the graphs, we observed, Rows with CODE_GENDER = XNA has only 2 Rows, and few XNA in ORGANIZATION_TYPE (This can be treated like an unknown value). So we are manipulating those values to NULL and later dealt, while dealing with null values"
      ],
      "metadata": {
        "id": "6dP8HGVhOOnX"
      }
    },
    {
      "cell_type": "code",
      "source": [
        "train = train.replace('XNA', np.nan)"
      ],
      "metadata": {
        "id": "_jVtpvslOOAL"
      },
      "execution_count": null,
      "outputs": []
    },
    {
      "cell_type": "markdown",
      "source": [
        "Also we found that FLAG_MOBIL has just 1 row with a zero, hence its pointless to have that column for training. So removing that column"
      ],
      "metadata": {
        "id": "FyTL8QUETAKn"
      }
    },
    {
      "cell_type": "code",
      "source": [
        "train = train.drop('FLAG_MOBIL', axis=1)"
      ],
      "metadata": {
        "id": "0-FARDsgTXrD"
      },
      "execution_count": null,
      "outputs": []
    },
    {
      "cell_type": "markdown",
      "metadata": {
        "id": "axj53LHbIV9J"
      },
      "source": [
        "#**TEST DATA ANALYSIS**"
      ]
    },
    {
      "cell_type": "code",
      "execution_count": null,
      "metadata": {
        "id": "6C6TWBdtJp0S",
        "colab": {
          "base_uri": "https://localhost:8080/"
        },
        "outputId": "526db44d-7787-4048-bcad-199d90a2e72c"
      },
      "outputs": [
        {
          "output_type": "execute_result",
          "data": {
            "text/plain": [
              "FLAG_MOBIL                1\n",
              "NAME_CONTRACT_TYPE        2\n",
              "FLAG_EMP_PHONE            2\n",
              "FLAG_WORK_PHONE           2\n",
              "FLAG_CONT_MOBILE          2\n",
              "                      ...  \n",
              "AMT_ANNUITY           11367\n",
              "DAYS_REGISTRATION     14447\n",
              "DAYS_BIRTH            17147\n",
              "EXT_SOURCE_1          50389\n",
              "EXT_SOURCE_2          75180\n",
              "Length: 120, dtype: int64"
            ]
          },
          "metadata": {},
          "execution_count": 24
        }
      ],
      "source": [
        "test.nunique().sort_values()"
      ]
    },
    {
      "cell_type": "markdown",
      "metadata": {
        "id": "0zl-YzGUJp0T"
      },
      "source": [
        "FINDING NULL VALUES (NaN)"
      ]
    },
    {
      "cell_type": "code",
      "execution_count": null,
      "metadata": {
        "id": "T5WIWJ_XJp0V",
        "colab": {
          "base_uri": "https://localhost:8080/"
        },
        "outputId": "12947a99-8d34-4d6d-d9fe-f38a53aec08e"
      },
      "outputs": [
        {
          "output_type": "execute_result",
          "data": {
            "text/plain": [
              "NAME_CONTRACT_TYPE                0\n",
              "CODE_GENDER                       0\n",
              "FLAG_OWN_CAR                      0\n",
              "FLAG_OWN_REALTY                   0\n",
              "CNT_CHILDREN                      0\n",
              "                              ...  \n",
              "AMT_REQ_CREDIT_BUREAU_DAY     16521\n",
              "AMT_REQ_CREDIT_BUREAU_WEEK    16521\n",
              "AMT_REQ_CREDIT_BUREAU_MON     16521\n",
              "AMT_REQ_CREDIT_BUREAU_QRT     16521\n",
              "AMT_REQ_CREDIT_BUREAU_YEAR    16521\n",
              "Length: 120, dtype: int64"
            ]
          },
          "metadata": {},
          "execution_count": 25
        }
      ],
      "source": [
        "test.isna().sum()"
      ]
    },
    {
      "cell_type": "markdown",
      "metadata": {
        "id": "KEP8EtTZJp0X"
      },
      "source": [
        "FINDING (?) IN DATASET"
      ]
    },
    {
      "cell_type": "code",
      "execution_count": null,
      "metadata": {
        "id": "UNN-cb9uJp0X",
        "colab": {
          "base_uri": "https://localhost:8080/"
        },
        "outputId": "d9da59cd-df0c-4e32-ff64-eec25b408eca"
      },
      "outputs": [
        {
          "output_type": "execute_result",
          "data": {
            "text/plain": [
              "NAME_CONTRACT_TYPE            0\n",
              "CODE_GENDER                   0\n",
              "FLAG_OWN_CAR                  0\n",
              "FLAG_OWN_REALTY               0\n",
              "CNT_CHILDREN                  0\n",
              "                             ..\n",
              "AMT_REQ_CREDIT_BUREAU_DAY     0\n",
              "AMT_REQ_CREDIT_BUREAU_WEEK    0\n",
              "AMT_REQ_CREDIT_BUREAU_MON     0\n",
              "AMT_REQ_CREDIT_BUREAU_QRT     0\n",
              "AMT_REQ_CREDIT_BUREAU_YEAR    0\n",
              "Length: 120, dtype: int64"
            ]
          },
          "metadata": {},
          "execution_count": 26
        }
      ],
      "source": [
        "(test == \"?\").sum()"
      ]
    },
    {
      "cell_type": "markdown",
      "metadata": {
        "id": "EBRIMQcsJp0Y"
      },
      "source": [
        "There are no (?) in the given dataset"
      ]
    },
    {
      "cell_type": "markdown",
      "metadata": {
        "id": "mqb2mT0aJp0Y"
      },
      "source": [
        "FINDING DUPLICATE ROWS"
      ]
    },
    {
      "cell_type": "code",
      "execution_count": null,
      "metadata": {
        "id": "21vcrnb4Jp0Y",
        "colab": {
          "base_uri": "https://localhost:8080/"
        },
        "outputId": "eb640fc9-2d29-4ea4-8819-6b4011bfcc6e"
      },
      "outputs": [
        {
          "output_type": "execute_result",
          "data": {
            "text/plain": [
              "0"
            ]
          },
          "metadata": {},
          "execution_count": 27
        }
      ],
      "source": [
        "test.duplicated().sum()"
      ]
    },
    {
      "cell_type": "markdown",
      "metadata": {
        "id": "Yiu-AWeHJp0Z"
      },
      "source": [
        "There are no duplicate rows which can be removed"
      ]
    },
    {
      "cell_type": "markdown",
      "metadata": {
        "id": "86IfGqzL69gC"
      },
      "source": [
        "#**DATA PREPROCESSING**"
      ]
    },
    {
      "cell_type": "markdown",
      "source": [
        "**BASIC PREPROCESSING FOR TRAIN DATA**"
      ],
      "metadata": {
        "id": "ykrb8lgPazJM"
      }
    },
    {
      "cell_type": "code",
      "execution_count": null,
      "metadata": {
        "id": "cfzDN0p7Chdt"
      },
      "outputs": [],
      "source": [
        "pd.set_option('display.max_rows',None)    #pd by default shows only 10 rows, this will change it to maximum possible rows"
      ]
    },
    {
      "cell_type": "markdown",
      "metadata": {
        "id": "Qaq24lWODlxU"
      },
      "source": [
        "UNIQUE VALUES"
      ]
    },
    {
      "cell_type": "code",
      "execution_count": null,
      "metadata": {
        "colab": {
          "base_uri": "https://localhost:8080/"
        },
        "id": "j2nOGw_eSPm7",
        "outputId": "bd9e408f-9aac-412c-fb57-8dcce3e77fbb"
      },
      "outputs": [
        {
          "output_type": "execute_result",
          "data": {
            "text/plain": [
              "FLAG_DOCUMENT_12                    1\n",
              "NAME_CONTRACT_TYPE                  2\n",
              "LIVE_REGION_NOT_WORK_REGION         2\n",
              "REG_CITY_NOT_LIVE_CITY              2\n",
              "REG_CITY_NOT_WORK_CITY              2\n",
              "LIVE_CITY_NOT_WORK_CITY             2\n",
              "EMERGENCYSTATE_MODE                 2\n",
              "FLAG_DOCUMENT_2                     2\n",
              "FLAG_DOCUMENT_3                     2\n",
              "FLAG_DOCUMENT_4                     2\n",
              "FLAG_DOCUMENT_5                     2\n",
              "FLAG_DOCUMENT_6                     2\n",
              "FLAG_DOCUMENT_7                     2\n",
              "FLAG_DOCUMENT_8                     2\n",
              "FLAG_DOCUMENT_9                     2\n",
              "FLAG_DOCUMENT_10                    2\n",
              "FLAG_DOCUMENT_11                    2\n",
              "FLAG_DOCUMENT_13                    2\n",
              "FLAG_DOCUMENT_14                    2\n",
              "FLAG_DOCUMENT_15                    2\n",
              "FLAG_DOCUMENT_16                    2\n",
              "FLAG_DOCUMENT_17                    2\n",
              "FLAG_DOCUMENT_18                    2\n",
              "FLAG_DOCUMENT_19                    2\n",
              "FLAG_DOCUMENT_20                    2\n",
              "FLAG_DOCUMENT_21                    2\n",
              "REG_REGION_NOT_WORK_REGION          2\n",
              "REG_REGION_NOT_LIVE_REGION          2\n",
              "TARGET                              2\n",
              "FLAG_WORK_PHONE                     2\n",
              "FLAG_OWN_CAR                        2\n",
              "CODE_GENDER                         2\n",
              "FLAG_EMP_PHONE                      2\n",
              "FLAG_OWN_REALTY                     2\n",
              "FLAG_EMAIL                          2\n",
              "FLAG_PHONE                          2\n",
              "FLAG_CONT_MOBILE                    2\n",
              "REGION_RATING_CLIENT_W_CITY         3\n",
              "HOUSETYPE_MODE                      3\n",
              "REGION_RATING_CLIENT                3\n",
              "FONDKAPREMONT_MODE                  4\n",
              "AMT_REQ_CREDIT_BUREAU_HOUR          5\n",
              "NAME_EDUCATION_TYPE                 5\n",
              "NAME_HOUSING_TYPE                   6\n",
              "NAME_FAMILY_STATUS                  6\n",
              "WALLSMATERIAL_MODE                  7\n",
              "WEEKDAY_APPR_PROCESS_START          7\n",
              "NAME_TYPE_SUITE                     7\n",
              "NAME_INCOME_TYPE                    8\n",
              "AMT_REQ_CREDIT_BUREAU_WEEK          8\n",
              "AMT_REQ_CREDIT_BUREAU_DAY           9\n",
              "DEF_60_CNT_SOCIAL_CIRCLE            9\n",
              "DEF_30_CNT_SOCIAL_CIRCLE           10\n",
              "AMT_REQ_CREDIT_BUREAU_QRT          11\n",
              "CNT_CHILDREN                       14\n",
              "CNT_FAM_MEMBERS                    15\n",
              "OCCUPATION_TYPE                    18\n",
              "AMT_REQ_CREDIT_BUREAU_MON          22\n",
              "AMT_REQ_CREDIT_BUREAU_YEAR         22\n",
              "HOUR_APPR_PROCESS_START            24\n",
              "FLOORSMAX_MODE                     25\n",
              "FLOORSMIN_MODE                     25\n",
              "ELEVATORS_MODE                     26\n",
              "ENTRANCES_MODE                     30\n",
              "OBS_60_CNT_SOCIAL_CIRCLE           30\n",
              "OBS_30_CNT_SOCIAL_CIRCLE           31\n",
              "ENTRANCES_MEDI                     46\n",
              "ELEVATORS_MEDI                     46\n",
              "FLOORSMIN_MEDI                     47\n",
              "FLOORSMAX_MEDI                     49\n",
              "ORGANIZATION_TYPE                  57\n",
              "OWN_CAR_AGE                        60\n",
              "REGION_POPULATION_RELATIVE         81\n",
              "YEARS_BUILD_AVG                   146\n",
              "YEARS_BUILD_MEDI                  147\n",
              "NONLIVINGAPARTMENTS_MODE          147\n",
              "YEARS_BUILD_MODE                  150\n",
              "NONLIVINGAPARTMENTS_MEDI          191\n",
              "YEARS_BEGINEXPLUATATION_MODE      209\n",
              "YEARS_BEGINEXPLUATATION_MEDI      229\n",
              "ELEVATORS_AVG                     236\n",
              "YEARS_BEGINEXPLUATATION_AVG       259\n",
              "ENTRANCES_AVG                     263\n",
              "FLOORSMIN_AVG                     270\n",
              "NONLIVINGAPARTMENTS_AVG           339\n",
              "FLOORSMAX_AVG                     352\n",
              "LIVINGAPARTMENTS_MODE             701\n",
              "APARTMENTS_MODE                   733\n",
              "EXT_SOURCE_3                      790\n",
              "AMT_GOODS_PRICE                   793\n",
              "LIVINGAPARTMENTS_MEDI            1037\n",
              "APARTMENTS_MEDI                  1106\n",
              "LIVINGAPARTMENTS_AVG             1705\n",
              "AMT_INCOME_TOTAL                 1768\n",
              "APARTMENTS_AVG                   2150\n",
              "COMMONAREA_MODE                  2775\n",
              "COMMONAREA_AVG                   2828\n",
              "COMMONAREA_MEDI                  2854\n",
              "NONLIVINGAREA_AVG                2937\n",
              "NONLIVINGAREA_MEDI               2960\n",
              "NONLIVINGAREA_MODE               2970\n",
              "LANDAREA_AVG                     3294\n",
              "LANDAREA_MODE                    3325\n",
              "LANDAREA_MEDI                    3330\n",
              "BASEMENTAREA_MEDI                3538\n",
              "BASEMENTAREA_AVG                 3545\n",
              "BASEMENTAREA_MODE                3614\n",
              "DAYS_LAST_PHONE_CHANGE           3682\n",
              "TOTALAREA_MODE                   4802\n",
              "AMT_CREDIT                       4855\n",
              "LIVINGAREA_AVG                   4861\n",
              "LIVINGAREA_MEDI                  4952\n",
              "LIVINGAREA_MODE                  4955\n",
              "DAYS_ID_PUBLISH                  6086\n",
              "DAYS_EMPLOYED                   11404\n",
              "AMT_ANNUITY                     12412\n",
              "DAYS_REGISTRATION               15002\n",
              "DAYS_BIRTH                      17334\n",
              "EXT_SOURCE_1                    73057\n",
              "EXT_SOURCE_2                    94605\n",
              "dtype: int64"
            ]
          },
          "metadata": {},
          "execution_count": 29
        }
      ],
      "source": [
        "train.nunique().sort_values()"
      ]
    },
    {
      "cell_type": "markdown",
      "metadata": {
        "id": "mbng2RoVZIO4"
      },
      "source": [
        "FINDING NULL VALUES (NaN)"
      ]
    },
    {
      "cell_type": "code",
      "execution_count": null,
      "metadata": {
        "colab": {
          "base_uri": "https://localhost:8080/"
        },
        "id": "Rg6CB7_OPB-b",
        "outputId": "d07fec60-4ed5-499c-a408-fccd3309d5c3"
      },
      "outputs": [
        {
          "output_type": "execute_result",
          "data": {
            "text/plain": [
              "NAME_CONTRACT_TYPE                   0\n",
              "CODE_GENDER                          2\n",
              "FLAG_OWN_CAR                         0\n",
              "FLAG_OWN_REALTY                      0\n",
              "CNT_CHILDREN                         0\n",
              "AMT_INCOME_TOTAL                     0\n",
              "AMT_CREDIT                           0\n",
              "AMT_ANNUITY                          6\n",
              "AMT_GOODS_PRICE                    167\n",
              "NAME_TYPE_SUITE                    770\n",
              "NAME_INCOME_TYPE                     0\n",
              "NAME_EDUCATION_TYPE                  0\n",
              "NAME_FAMILY_STATUS                   0\n",
              "NAME_HOUSING_TYPE                    0\n",
              "REGION_POPULATION_RELATIVE           0\n",
              "DAYS_BIRTH                           0\n",
              "DAYS_EMPLOYED                        0\n",
              "DAYS_REGISTRATION                    0\n",
              "DAYS_ID_PUBLISH                      0\n",
              "OWN_CAR_AGE                     121633\n",
              "FLAG_EMP_PHONE                       0\n",
              "FLAG_WORK_PHONE                      0\n",
              "FLAG_CONT_MOBILE                     0\n",
              "FLAG_PHONE                           0\n",
              "FLAG_EMAIL                           0\n",
              "OCCUPATION_TYPE                  57867\n",
              "CNT_FAM_MEMBERS                      1\n",
              "REGION_RATING_CLIENT                 0\n",
              "REGION_RATING_CLIENT_W_CITY          0\n",
              "WEEKDAY_APPR_PROCESS_START           0\n",
              "HOUR_APPR_PROCESS_START              0\n",
              "REG_REGION_NOT_LIVE_REGION           0\n",
              "REG_REGION_NOT_WORK_REGION           0\n",
              "LIVE_REGION_NOT_WORK_REGION          0\n",
              "REG_CITY_NOT_LIVE_CITY               0\n",
              "REG_CITY_NOT_WORK_CITY               0\n",
              "LIVE_CITY_NOT_WORK_CITY              0\n",
              "ORGANIZATION_TYPE                33236\n",
              "EXT_SOURCE_1                    104074\n",
              "EXT_SOURCE_2                       413\n",
              "EXT_SOURCE_3                     36656\n",
              "APARTMENTS_AVG                   93575\n",
              "BASEMENTAREA_AVG                107975\n",
              "YEARS_BEGINEXPLUATATION_AVG      89900\n",
              "YEARS_BUILD_AVG                 122757\n",
              "COMMONAREA_AVG                  128971\n",
              "ELEVATORS_AVG                    98320\n",
              "ENTRANCES_AVG                    92807\n",
              "FLOORSMAX_AVG                    91726\n",
              "FLOORSMIN_AVG                   125244\n",
              "LANDAREA_AVG                    109543\n",
              "LIVINGAPARTMENTS_AVG            126212\n",
              "LIVINGAREA_AVG                   92534\n",
              "NONLIVINGAPARTMENTS_AVG         128146\n",
              "NONLIVINGAREA_AVG               101788\n",
              "APARTMENTS_MODE                  93575\n",
              "BASEMENTAREA_MODE               107975\n",
              "YEARS_BEGINEXPLUATATION_MODE     89900\n",
              "YEARS_BUILD_MODE                122757\n",
              "COMMONAREA_MODE                 128971\n",
              "ELEVATORS_MODE                   98320\n",
              "ENTRANCES_MODE                   92807\n",
              "FLOORSMAX_MODE                   91726\n",
              "FLOORSMIN_MODE                  125244\n",
              "LANDAREA_MODE                   109543\n",
              "LIVINGAPARTMENTS_MODE           126212\n",
              "LIVINGAREA_MODE                  92534\n",
              "NONLIVINGAPARTMENTS_MODE        128146\n",
              "NONLIVINGAREA_MODE              101788\n",
              "APARTMENTS_MEDI                  93575\n",
              "BASEMENTAREA_MEDI               107975\n",
              "YEARS_BEGINEXPLUATATION_MEDI     89900\n",
              "YEARS_BUILD_MEDI                122757\n",
              "COMMONAREA_MEDI                 128971\n",
              "ELEVATORS_MEDI                   98320\n",
              "ENTRANCES_MEDI                   92807\n",
              "FLOORSMAX_MEDI                   91726\n",
              "FLOORSMIN_MEDI                  125244\n",
              "LANDAREA_MEDI                   109543\n",
              "LIVINGAPARTMENTS_MEDI           126212\n",
              "LIVINGAREA_MEDI                  92534\n",
              "NONLIVINGAPARTMENTS_MEDI        128146\n",
              "NONLIVINGAREA_MEDI              101788\n",
              "FONDKAPREMONT_MODE              126254\n",
              "HOUSETYPE_MODE                   92482\n",
              "TOTALAREA_MODE                   88948\n",
              "WALLSMATERIAL_MODE               93721\n",
              "EMERGENCYSTATE_MODE              87336\n",
              "OBS_30_CNT_SOCIAL_CIRCLE           639\n",
              "DEF_30_CNT_SOCIAL_CIRCLE           639\n",
              "OBS_60_CNT_SOCIAL_CIRCLE           639\n",
              "DEF_60_CNT_SOCIAL_CIRCLE           639\n",
              "DAYS_LAST_PHONE_CHANGE               1\n",
              "FLAG_DOCUMENT_2                      0\n",
              "FLAG_DOCUMENT_3                      0\n",
              "FLAG_DOCUMENT_4                      0\n",
              "FLAG_DOCUMENT_5                      0\n",
              "FLAG_DOCUMENT_6                      0\n",
              "FLAG_DOCUMENT_7                      0\n",
              "FLAG_DOCUMENT_8                      0\n",
              "FLAG_DOCUMENT_9                      0\n",
              "FLAG_DOCUMENT_10                     0\n",
              "FLAG_DOCUMENT_11                     0\n",
              "FLAG_DOCUMENT_12                     0\n",
              "FLAG_DOCUMENT_13                     0\n",
              "FLAG_DOCUMENT_14                     0\n",
              "FLAG_DOCUMENT_15                     0\n",
              "FLAG_DOCUMENT_16                     0\n",
              "FLAG_DOCUMENT_17                     0\n",
              "FLAG_DOCUMENT_18                     0\n",
              "FLAG_DOCUMENT_19                     0\n",
              "FLAG_DOCUMENT_20                     0\n",
              "FLAG_DOCUMENT_21                     0\n",
              "AMT_REQ_CREDIT_BUREAU_HOUR       24998\n",
              "AMT_REQ_CREDIT_BUREAU_DAY        24998\n",
              "AMT_REQ_CREDIT_BUREAU_WEEK       24998\n",
              "AMT_REQ_CREDIT_BUREAU_MON        24998\n",
              "AMT_REQ_CREDIT_BUREAU_QRT        24998\n",
              "AMT_REQ_CREDIT_BUREAU_YEAR       24998\n",
              "TARGET                               0\n",
              "dtype: int64"
            ]
          },
          "metadata": {},
          "execution_count": 30
        }
      ],
      "source": [
        "train.isna().sum()"
      ]
    },
    {
      "cell_type": "code",
      "execution_count": null,
      "metadata": {
        "colab": {
          "base_uri": "https://localhost:8080/"
        },
        "id": "EiHTQs2jR2L1",
        "outputId": "8d37284c-238b-4dac-db4c-429f6b472ec1"
      },
      "outputs": [
        {
          "output_type": "execute_result",
          "data": {
            "text/plain": [
              "NAME_CONTRACT_TYPE                   0\n",
              "REG_REGION_NOT_LIVE_REGION           0\n",
              "REG_REGION_NOT_WORK_REGION           0\n",
              "LIVE_REGION_NOT_WORK_REGION          0\n",
              "REG_CITY_NOT_LIVE_CITY               0\n",
              "REG_CITY_NOT_WORK_CITY               0\n",
              "LIVE_CITY_NOT_WORK_CITY              0\n",
              "FLAG_DOCUMENT_2                      0\n",
              "FLAG_DOCUMENT_3                      0\n",
              "FLAG_DOCUMENT_4                      0\n",
              "FLAG_DOCUMENT_5                      0\n",
              "FLAG_DOCUMENT_6                      0\n",
              "FLAG_DOCUMENT_7                      0\n",
              "HOUR_APPR_PROCESS_START              0\n",
              "FLAG_DOCUMENT_8                      0\n",
              "FLAG_DOCUMENT_10                     0\n",
              "FLAG_DOCUMENT_11                     0\n",
              "FLAG_DOCUMENT_12                     0\n",
              "FLAG_DOCUMENT_13                     0\n",
              "FLAG_DOCUMENT_14                     0\n",
              "FLAG_DOCUMENT_15                     0\n",
              "FLAG_DOCUMENT_16                     0\n",
              "FLAG_DOCUMENT_17                     0\n",
              "FLAG_DOCUMENT_18                     0\n",
              "FLAG_DOCUMENT_19                     0\n",
              "FLAG_DOCUMENT_20                     0\n",
              "FLAG_DOCUMENT_21                     0\n",
              "FLAG_DOCUMENT_9                      0\n",
              "WEEKDAY_APPR_PROCESS_START           0\n",
              "TARGET                               0\n",
              "REGION_RATING_CLIENT                 0\n",
              "AMT_CREDIT                           0\n",
              "NAME_INCOME_TYPE                     0\n",
              "AMT_INCOME_TOTAL                     0\n",
              "CNT_CHILDREN                         0\n",
              "NAME_EDUCATION_TYPE                  0\n",
              "FLAG_OWN_REALTY                      0\n",
              "FLAG_OWN_CAR                         0\n",
              "NAME_FAMILY_STATUS                   0\n",
              "NAME_HOUSING_TYPE                    0\n",
              "REGION_POPULATION_RELATIVE           0\n",
              "DAYS_BIRTH                           0\n",
              "REGION_RATING_CLIENT_W_CITY          0\n",
              "DAYS_EMPLOYED                        0\n",
              "DAYS_ID_PUBLISH                      0\n",
              "FLAG_EMP_PHONE                       0\n",
              "FLAG_WORK_PHONE                      0\n",
              "FLAG_CONT_MOBILE                     0\n",
              "FLAG_PHONE                           0\n",
              "FLAG_EMAIL                           0\n",
              "DAYS_REGISTRATION                    0\n",
              "DAYS_LAST_PHONE_CHANGE               1\n",
              "CNT_FAM_MEMBERS                      1\n",
              "CODE_GENDER                          2\n",
              "AMT_ANNUITY                          6\n",
              "AMT_GOODS_PRICE                    167\n",
              "EXT_SOURCE_2                       413\n",
              "DEF_60_CNT_SOCIAL_CIRCLE           639\n",
              "OBS_60_CNT_SOCIAL_CIRCLE           639\n",
              "DEF_30_CNT_SOCIAL_CIRCLE           639\n",
              "OBS_30_CNT_SOCIAL_CIRCLE           639\n",
              "NAME_TYPE_SUITE                    770\n",
              "AMT_REQ_CREDIT_BUREAU_YEAR       24998\n",
              "AMT_REQ_CREDIT_BUREAU_QRT        24998\n",
              "AMT_REQ_CREDIT_BUREAU_MON        24998\n",
              "AMT_REQ_CREDIT_BUREAU_HOUR       24998\n",
              "AMT_REQ_CREDIT_BUREAU_WEEK       24998\n",
              "AMT_REQ_CREDIT_BUREAU_DAY        24998\n",
              "ORGANIZATION_TYPE                33236\n",
              "EXT_SOURCE_3                     36656\n",
              "OCCUPATION_TYPE                  57867\n",
              "EMERGENCYSTATE_MODE              87336\n",
              "TOTALAREA_MODE                   88948\n",
              "YEARS_BEGINEXPLUATATION_MODE     89900\n",
              "YEARS_BEGINEXPLUATATION_MEDI     89900\n",
              "YEARS_BEGINEXPLUATATION_AVG      89900\n",
              "FLOORSMAX_MEDI                   91726\n",
              "FLOORSMAX_AVG                    91726\n",
              "FLOORSMAX_MODE                   91726\n",
              "HOUSETYPE_MODE                   92482\n",
              "LIVINGAREA_MEDI                  92534\n",
              "LIVINGAREA_MODE                  92534\n",
              "LIVINGAREA_AVG                   92534\n",
              "ENTRANCES_MEDI                   92807\n",
              "ENTRANCES_AVG                    92807\n",
              "ENTRANCES_MODE                   92807\n",
              "APARTMENTS_MEDI                  93575\n",
              "APARTMENTS_AVG                   93575\n",
              "APARTMENTS_MODE                  93575\n",
              "WALLSMATERIAL_MODE               93721\n",
              "ELEVATORS_MEDI                   98320\n",
              "ELEVATORS_MODE                   98320\n",
              "ELEVATORS_AVG                    98320\n",
              "NONLIVINGAREA_AVG               101788\n",
              "NONLIVINGAREA_MODE              101788\n",
              "NONLIVINGAREA_MEDI              101788\n",
              "EXT_SOURCE_1                    104074\n",
              "BASEMENTAREA_MODE               107975\n",
              "BASEMENTAREA_MEDI               107975\n",
              "BASEMENTAREA_AVG                107975\n",
              "LANDAREA_MODE                   109543\n",
              "LANDAREA_AVG                    109543\n",
              "LANDAREA_MEDI                   109543\n",
              "OWN_CAR_AGE                     121633\n",
              "YEARS_BUILD_MEDI                122757\n",
              "YEARS_BUILD_AVG                 122757\n",
              "YEARS_BUILD_MODE                122757\n",
              "FLOORSMIN_AVG                   125244\n",
              "FLOORSMIN_MEDI                  125244\n",
              "FLOORSMIN_MODE                  125244\n",
              "LIVINGAPARTMENTS_AVG            126212\n",
              "LIVINGAPARTMENTS_MODE           126212\n",
              "LIVINGAPARTMENTS_MEDI           126212\n",
              "FONDKAPREMONT_MODE              126254\n",
              "NONLIVINGAPARTMENTS_AVG         128146\n",
              "NONLIVINGAPARTMENTS_MEDI        128146\n",
              "NONLIVINGAPARTMENTS_MODE        128146\n",
              "COMMONAREA_AVG                  128971\n",
              "COMMONAREA_MEDI                 128971\n",
              "COMMONAREA_MODE                 128971\n",
              "dtype: int64"
            ]
          },
          "metadata": {},
          "execution_count": 31
        }
      ],
      "source": [
        "train.isna().sum().sort_values()"
      ]
    },
    {
      "cell_type": "code",
      "execution_count": null,
      "metadata": {
        "colab": {
          "base_uri": "https://localhost:8080/"
        },
        "id": "EE8C31NKCaNf",
        "outputId": "7f56890a-6dba-49a0-aad6-848e696838a3"
      },
      "outputs": [
        {
          "output_type": "execute_result",
          "data": {
            "text/plain": [
              "NAME_CONTRACT_TYPE               0.000000\n",
              "REG_REGION_NOT_LIVE_REGION       0.000000\n",
              "REG_REGION_NOT_WORK_REGION       0.000000\n",
              "LIVE_REGION_NOT_WORK_REGION      0.000000\n",
              "REG_CITY_NOT_LIVE_CITY           0.000000\n",
              "REG_CITY_NOT_WORK_CITY           0.000000\n",
              "LIVE_CITY_NOT_WORK_CITY          0.000000\n",
              "FLAG_DOCUMENT_2                  0.000000\n",
              "FLAG_DOCUMENT_3                  0.000000\n",
              "FLAG_DOCUMENT_4                  0.000000\n",
              "FLAG_DOCUMENT_5                  0.000000\n",
              "FLAG_DOCUMENT_6                  0.000000\n",
              "FLAG_DOCUMENT_7                  0.000000\n",
              "HOUR_APPR_PROCESS_START          0.000000\n",
              "FLAG_DOCUMENT_8                  0.000000\n",
              "FLAG_DOCUMENT_10                 0.000000\n",
              "FLAG_DOCUMENT_11                 0.000000\n",
              "FLAG_DOCUMENT_12                 0.000000\n",
              "FLAG_DOCUMENT_13                 0.000000\n",
              "FLAG_DOCUMENT_14                 0.000000\n",
              "FLAG_DOCUMENT_15                 0.000000\n",
              "FLAG_DOCUMENT_16                 0.000000\n",
              "FLAG_DOCUMENT_17                 0.000000\n",
              "FLAG_DOCUMENT_18                 0.000000\n",
              "FLAG_DOCUMENT_19                 0.000000\n",
              "FLAG_DOCUMENT_20                 0.000000\n",
              "FLAG_DOCUMENT_21                 0.000000\n",
              "FLAG_DOCUMENT_9                  0.000000\n",
              "WEEKDAY_APPR_PROCESS_START       0.000000\n",
              "TARGET                           0.000000\n",
              "REGION_RATING_CLIENT             0.000000\n",
              "AMT_CREDIT                       0.000000\n",
              "NAME_INCOME_TYPE                 0.000000\n",
              "AMT_INCOME_TOTAL                 0.000000\n",
              "CNT_CHILDREN                     0.000000\n",
              "NAME_EDUCATION_TYPE              0.000000\n",
              "FLAG_OWN_REALTY                  0.000000\n",
              "FLAG_OWN_CAR                     0.000000\n",
              "NAME_FAMILY_STATUS               0.000000\n",
              "NAME_HOUSING_TYPE                0.000000\n",
              "REGION_POPULATION_RELATIVE       0.000000\n",
              "DAYS_BIRTH                       0.000000\n",
              "REGION_RATING_CLIENT_W_CITY      0.000000\n",
              "DAYS_EMPLOYED                    0.000000\n",
              "DAYS_ID_PUBLISH                  0.000000\n",
              "FLAG_EMP_PHONE                   0.000000\n",
              "FLAG_WORK_PHONE                  0.000000\n",
              "FLAG_CONT_MOBILE                 0.000000\n",
              "FLAG_PHONE                       0.000000\n",
              "FLAG_EMAIL                       0.000000\n",
              "DAYS_REGISTRATION                0.000000\n",
              "DAYS_LAST_PHONE_CHANGE           0.000542\n",
              "CNT_FAM_MEMBERS                  0.000542\n",
              "CODE_GENDER                      0.001084\n",
              "AMT_ANNUITY                      0.003252\n",
              "AMT_GOODS_PRICE                  0.090512\n",
              "EXT_SOURCE_2                     0.223841\n",
              "DEF_60_CNT_SOCIAL_CIRCLE         0.346330\n",
              "OBS_60_CNT_SOCIAL_CIRCLE         0.346330\n",
              "DEF_30_CNT_SOCIAL_CIRCLE         0.346330\n",
              "OBS_30_CNT_SOCIAL_CIRCLE         0.346330\n",
              "NAME_TYPE_SUITE                  0.417331\n",
              "AMT_REQ_CREDIT_BUREAU_YEAR      13.548611\n",
              "AMT_REQ_CREDIT_BUREAU_QRT       13.548611\n",
              "AMT_REQ_CREDIT_BUREAU_MON       13.548611\n",
              "AMT_REQ_CREDIT_BUREAU_HOUR      13.548611\n",
              "AMT_REQ_CREDIT_BUREAU_WEEK      13.548611\n",
              "AMT_REQ_CREDIT_BUREAU_DAY       13.548611\n",
              "ORGANIZATION_TYPE               18.013506\n",
              "EXT_SOURCE_3                    19.867105\n",
              "OCCUPATION_TYPE                 31.363208\n",
              "EMERGENCYSTATE_MODE             47.335046\n",
              "TOTALAREA_MODE                  48.208730\n",
              "YEARS_BEGINEXPLUATATION_MODE    48.724703\n",
              "YEARS_BEGINEXPLUATATION_MEDI    48.724703\n",
              "YEARS_BEGINEXPLUATATION_AVG     48.724703\n",
              "FLOORSMAX_MEDI                  49.714372\n",
              "FLOORSMAX_AVG                   49.714372\n",
              "FLOORSMAX_MODE                  49.714372\n",
              "HOUSETYPE_MODE                  50.124115\n",
              "LIVINGAREA_MEDI                 50.152299\n",
              "LIVINGAREA_MODE                 50.152299\n",
              "LIVINGAREA_AVG                  50.152299\n",
              "ENTRANCES_MEDI                  50.300261\n",
              "ENTRANCES_AVG                   50.300261\n",
              "ENTRANCES_MODE                  50.300261\n",
              "APARTMENTS_MEDI                 50.716508\n",
              "APARTMENTS_AVG                  50.716508\n",
              "APARTMENTS_MODE                 50.716508\n",
              "WALLSMATERIAL_MODE              50.795638\n",
              "ELEVATORS_MEDI                  53.288240\n",
              "ELEVATORS_MODE                  53.288240\n",
              "ELEVATORS_AVG                   53.288240\n",
              "NONLIVINGAREA_AVG               55.167854\n",
              "NONLIVINGAREA_MODE              55.167854\n",
              "NONLIVINGAREA_MEDI              55.167854\n",
              "EXT_SOURCE_1                    56.406838\n",
              "BASEMENTAREA_MODE               58.521132\n",
              "BASEMENTAREA_MEDI               58.521132\n",
              "BASEMENTAREA_AVG                58.521132\n",
              "LANDAREA_MODE                   59.370969\n",
              "LANDAREA_AVG                    59.370969\n",
              "LANDAREA_MEDI                   59.370969\n",
              "OWN_CAR_AGE                     65.923601\n",
              "YEARS_BUILD_MEDI                66.532796\n",
              "YEARS_BUILD_AVG                 66.532796\n",
              "YEARS_BUILD_MODE                66.532796\n",
              "FLOORSMIN_AVG                   67.880719\n",
              "FLOORSMIN_MEDI                  67.880719\n",
              "FLOORSMIN_MODE                  67.880719\n",
              "LIVINGAPARTMENTS_AVG            68.405364\n",
              "LIVINGAPARTMENTS_MODE           68.405364\n",
              "LIVINGAPARTMENTS_MEDI           68.405364\n",
              "FONDKAPREMONT_MODE              68.428127\n",
              "NONLIVINGAPARTMENTS_AVG         69.453568\n",
              "NONLIVINGAPARTMENTS_MEDI        69.453568\n",
              "NONLIVINGAPARTMENTS_MODE        69.453568\n",
              "COMMONAREA_AVG                  69.900708\n",
              "COMMONAREA_MEDI                 69.900708\n",
              "COMMONAREA_MODE                 69.900708\n",
              "dtype: float64"
            ]
          },
          "metadata": {},
          "execution_count": 32
        }
      ],
      "source": [
        "null_perc_col=train.isna().sum().sort_values()/len(train)*100\n",
        "null_perc_col"
      ]
    },
    {
      "cell_type": "markdown",
      "source": [
        "**DROPPING COLUMNS WITH HIGH % OF NULL VALUES**"
      ],
      "metadata": {
        "id": "ViuQY66MieUM"
      }
    },
    {
      "cell_type": "code",
      "execution_count": null,
      "metadata": {
        "colab": {
          "base_uri": "https://localhost:8080/"
        },
        "id": "DswjSMMJWfWk",
        "outputId": "1b5fd992-16e5-4507-c529-3aea00b38a44"
      },
      "outputs": [
        {
          "output_type": "execute_result",
          "data": {
            "text/plain": [
              "['OWN_CAR_AGE',\n",
              " 'YEARS_BUILD_AVG',\n",
              " 'COMMONAREA_AVG',\n",
              " 'FLOORSMIN_AVG',\n",
              " 'LIVINGAPARTMENTS_AVG',\n",
              " 'NONLIVINGAPARTMENTS_AVG',\n",
              " 'YEARS_BUILD_MODE',\n",
              " 'COMMONAREA_MODE',\n",
              " 'FLOORSMIN_MODE',\n",
              " 'LIVINGAPARTMENTS_MODE',\n",
              " 'NONLIVINGAPARTMENTS_MODE',\n",
              " 'YEARS_BUILD_MEDI',\n",
              " 'COMMONAREA_MEDI',\n",
              " 'FLOORSMIN_MEDI',\n",
              " 'LIVINGAPARTMENTS_MEDI',\n",
              " 'NONLIVINGAPARTMENTS_MEDI',\n",
              " 'FONDKAPREMONT_MODE']"
            ]
          },
          "metadata": {},
          "execution_count": 33
        }
      ],
      "source": [
        "train_drop_null_col=[]\n",
        "for i in train:\n",
        "    if(null_perc_col[i]>65):\n",
        "        train_drop_null_col.append(i)\n",
        "train_drop_null_col"
      ]
    },
    {
      "cell_type": "code",
      "execution_count": null,
      "metadata": {
        "colab": {
          "base_uri": "https://localhost:8080/",
          "height": 35
        },
        "id": "Xfe4CgoDrViL",
        "outputId": "1613d3e0-eb09-454a-da5f-02b3e7688a7a"
      },
      "outputs": [
        {
          "output_type": "execute_result",
          "data": {
            "text/plain": [
              "'(184506, 103)'"
            ],
            "application/vnd.google.colaboratory.intrinsic+json": {
              "type": "string"
            }
          },
          "metadata": {},
          "execution_count": 34
        }
      ],
      "source": [
        "train.drop(columns =train_drop_null_col,axis=1,inplace = True)\n",
        "format(train.shape)"
      ]
    },
    {
      "cell_type": "markdown",
      "metadata": {
        "id": "qFBEuq4mGGQ2"
      },
      "source": [
        "FINDING (?) IN DATASET"
      ]
    },
    {
      "cell_type": "code",
      "execution_count": null,
      "metadata": {
        "colab": {
          "base_uri": "https://localhost:8080/"
        },
        "id": "0xPcogkMR2oF",
        "outputId": "fa9fdf46-0e06-4f1d-c215-80edc17e6220"
      },
      "outputs": [
        {
          "output_type": "execute_result",
          "data": {
            "text/plain": [
              "NAME_CONTRACT_TYPE              0\n",
              "CODE_GENDER                     0\n",
              "FLAG_OWN_CAR                    0\n",
              "FLAG_OWN_REALTY                 0\n",
              "CNT_CHILDREN                    0\n",
              "AMT_INCOME_TOTAL                0\n",
              "AMT_CREDIT                      0\n",
              "AMT_ANNUITY                     0\n",
              "AMT_GOODS_PRICE                 0\n",
              "NAME_TYPE_SUITE                 0\n",
              "NAME_INCOME_TYPE                0\n",
              "NAME_EDUCATION_TYPE             0\n",
              "NAME_FAMILY_STATUS              0\n",
              "NAME_HOUSING_TYPE               0\n",
              "REGION_POPULATION_RELATIVE      0\n",
              "DAYS_BIRTH                      0\n",
              "DAYS_EMPLOYED                   0\n",
              "DAYS_REGISTRATION               0\n",
              "DAYS_ID_PUBLISH                 0\n",
              "FLAG_EMP_PHONE                  0\n",
              "FLAG_WORK_PHONE                 0\n",
              "FLAG_CONT_MOBILE                0\n",
              "FLAG_PHONE                      0\n",
              "FLAG_EMAIL                      0\n",
              "OCCUPATION_TYPE                 0\n",
              "CNT_FAM_MEMBERS                 0\n",
              "REGION_RATING_CLIENT            0\n",
              "REGION_RATING_CLIENT_W_CITY     0\n",
              "WEEKDAY_APPR_PROCESS_START      0\n",
              "HOUR_APPR_PROCESS_START         0\n",
              "REG_REGION_NOT_LIVE_REGION      0\n",
              "REG_REGION_NOT_WORK_REGION      0\n",
              "LIVE_REGION_NOT_WORK_REGION     0\n",
              "REG_CITY_NOT_LIVE_CITY          0\n",
              "REG_CITY_NOT_WORK_CITY          0\n",
              "LIVE_CITY_NOT_WORK_CITY         0\n",
              "ORGANIZATION_TYPE               0\n",
              "EXT_SOURCE_1                    0\n",
              "EXT_SOURCE_2                    0\n",
              "EXT_SOURCE_3                    0\n",
              "APARTMENTS_AVG                  0\n",
              "BASEMENTAREA_AVG                0\n",
              "YEARS_BEGINEXPLUATATION_AVG     0\n",
              "ELEVATORS_AVG                   0\n",
              "ENTRANCES_AVG                   0\n",
              "FLOORSMAX_AVG                   0\n",
              "LANDAREA_AVG                    0\n",
              "LIVINGAREA_AVG                  0\n",
              "NONLIVINGAREA_AVG               0\n",
              "APARTMENTS_MODE                 0\n",
              "BASEMENTAREA_MODE               0\n",
              "YEARS_BEGINEXPLUATATION_MODE    0\n",
              "ELEVATORS_MODE                  0\n",
              "ENTRANCES_MODE                  0\n",
              "FLOORSMAX_MODE                  0\n",
              "LANDAREA_MODE                   0\n",
              "LIVINGAREA_MODE                 0\n",
              "NONLIVINGAREA_MODE              0\n",
              "APARTMENTS_MEDI                 0\n",
              "BASEMENTAREA_MEDI               0\n",
              "YEARS_BEGINEXPLUATATION_MEDI    0\n",
              "ELEVATORS_MEDI                  0\n",
              "ENTRANCES_MEDI                  0\n",
              "FLOORSMAX_MEDI                  0\n",
              "LANDAREA_MEDI                   0\n",
              "LIVINGAREA_MEDI                 0\n",
              "NONLIVINGAREA_MEDI              0\n",
              "HOUSETYPE_MODE                  0\n",
              "TOTALAREA_MODE                  0\n",
              "WALLSMATERIAL_MODE              0\n",
              "EMERGENCYSTATE_MODE             0\n",
              "OBS_30_CNT_SOCIAL_CIRCLE        0\n",
              "DEF_30_CNT_SOCIAL_CIRCLE        0\n",
              "OBS_60_CNT_SOCIAL_CIRCLE        0\n",
              "DEF_60_CNT_SOCIAL_CIRCLE        0\n",
              "DAYS_LAST_PHONE_CHANGE          0\n",
              "FLAG_DOCUMENT_2                 0\n",
              "FLAG_DOCUMENT_3                 0\n",
              "FLAG_DOCUMENT_4                 0\n",
              "FLAG_DOCUMENT_5                 0\n",
              "FLAG_DOCUMENT_6                 0\n",
              "FLAG_DOCUMENT_7                 0\n",
              "FLAG_DOCUMENT_8                 0\n",
              "FLAG_DOCUMENT_9                 0\n",
              "FLAG_DOCUMENT_10                0\n",
              "FLAG_DOCUMENT_11                0\n",
              "FLAG_DOCUMENT_12                0\n",
              "FLAG_DOCUMENT_13                0\n",
              "FLAG_DOCUMENT_14                0\n",
              "FLAG_DOCUMENT_15                0\n",
              "FLAG_DOCUMENT_16                0\n",
              "FLAG_DOCUMENT_17                0\n",
              "FLAG_DOCUMENT_18                0\n",
              "FLAG_DOCUMENT_19                0\n",
              "FLAG_DOCUMENT_20                0\n",
              "FLAG_DOCUMENT_21                0\n",
              "AMT_REQ_CREDIT_BUREAU_HOUR      0\n",
              "AMT_REQ_CREDIT_BUREAU_DAY       0\n",
              "AMT_REQ_CREDIT_BUREAU_WEEK      0\n",
              "AMT_REQ_CREDIT_BUREAU_MON       0\n",
              "AMT_REQ_CREDIT_BUREAU_QRT       0\n",
              "AMT_REQ_CREDIT_BUREAU_YEAR      0\n",
              "TARGET                          0\n",
              "dtype: int64"
            ]
          },
          "metadata": {},
          "execution_count": 35
        }
      ],
      "source": [
        "(train == \"?\").sum()"
      ]
    },
    {
      "cell_type": "markdown",
      "metadata": {
        "id": "9Ojb1vR37EZl"
      },
      "source": [
        "There are no (?) in the given dataset"
      ]
    },
    {
      "cell_type": "markdown",
      "metadata": {
        "id": "QJLFxZSiJXlV"
      },
      "source": [
        "FINDING DUPLICATE ROWS"
      ]
    },
    {
      "cell_type": "code",
      "execution_count": null,
      "metadata": {
        "colab": {
          "base_uri": "https://localhost:8080/"
        },
        "id": "SbzIfSyQJS2z",
        "outputId": "e10827fe-fe26-4c21-e1e5-cf51eee7c202"
      },
      "outputs": [
        {
          "output_type": "execute_result",
          "data": {
            "text/plain": [
              "0"
            ]
          },
          "metadata": {},
          "execution_count": 36
        }
      ],
      "source": [
        "train.duplicated().sum()"
      ]
    },
    {
      "cell_type": "markdown",
      "metadata": {
        "id": "3lunQZDX7OAB"
      },
      "source": [
        "There are no duplicate rows which can be removed"
      ]
    },
    {
      "cell_type": "markdown",
      "metadata": {
        "id": "ElWBcPqLuW9N"
      },
      "source": [
        "**REMOVING COLUMNS BASED ON CORRELATION**"
      ]
    },
    {
      "cell_type": "code",
      "execution_count": null,
      "metadata": {
        "id": "2S5dREJIuWDw"
      },
      "outputs": [],
      "source": [
        "cor_matrix = train.corr().abs()\n",
        "#cor_matrix"
      ]
    },
    {
      "cell_type": "markdown",
      "metadata": {
        "id": "wyUh5ez_wakE"
      },
      "source": [
        "Correlation matrix will be mirror image about the diagonal and all the diagonal elements will be 1 (So diagonal should not be included in any calculation)."
      ]
    },
    {
      "cell_type": "markdown",
      "source": [
        "Some of the features which are highly correlated that means which are some what linearly dependent with other features. These features contribute very less in predicting the output but increses the computational cost."
      ],
      "metadata": {
        "id": "0StPw3zfYx9R"
      }
    },
    {
      "cell_type": "code",
      "execution_count": null,
      "metadata": {
        "id": "8DY-7NouUqKs",
        "colab": {
          "base_uri": "https://localhost:8080/"
        },
        "outputId": "b6c01881-e740-4f89-9b7c-d31f98e28012"
      },
      "outputs": [
        {
          "output_type": "stream",
          "name": "stderr",
          "text": [
            "<ipython-input-38-8b086ac412eb>:1: DeprecationWarning: `np.bool` is a deprecated alias for the builtin `bool`. To silence this warning, use `bool` by itself. Doing this will not modify any behavior and is safe. If you specifically wanted the numpy scalar type, use `np.bool_` here.\n",
            "Deprecated in NumPy 1.20; for more details and guidance: https://numpy.org/devdocs/release/1.20.0-notes.html#deprecations\n",
            "  upper_t = cor_matrix.abs().where(np.triu(np.ones(cor_matrix.shape), k=1).astype(np.bool))\n"
          ]
        }
      ],
      "source": [
        "upper_t = cor_matrix.abs().where(np.triu(np.ones(cor_matrix.shape), k=1).astype(np.bool))\n",
        "#upper_t"
      ]
    },
    {
      "cell_type": "code",
      "execution_count": null,
      "metadata": {
        "id": "Am6nG_lLxble",
        "colab": {
          "base_uri": "https://localhost:8080/"
        },
        "outputId": "5c224a83-fa5d-4c29-c2a2-b9a5188f1ad1"
      },
      "outputs": [
        {
          "output_type": "execute_result",
          "data": {
            "text/plain": [
              "['AMT_GOODS_PRICE',\n",
              " 'FLAG_EMP_PHONE',\n",
              " 'REGION_RATING_CLIENT_W_CITY',\n",
              " 'APARTMENTS_MODE',\n",
              " 'BASEMENTAREA_MODE',\n",
              " 'YEARS_BEGINEXPLUATATION_MODE',\n",
              " 'ELEVATORS_MODE',\n",
              " 'ENTRANCES_MODE',\n",
              " 'FLOORSMAX_MODE',\n",
              " 'LANDAREA_MODE',\n",
              " 'LIVINGAREA_MODE',\n",
              " 'NONLIVINGAREA_MODE',\n",
              " 'APARTMENTS_MEDI',\n",
              " 'BASEMENTAREA_MEDI',\n",
              " 'YEARS_BEGINEXPLUATATION_MEDI',\n",
              " 'ELEVATORS_MEDI',\n",
              " 'ENTRANCES_MEDI',\n",
              " 'FLOORSMAX_MEDI',\n",
              " 'LANDAREA_MEDI',\n",
              " 'LIVINGAREA_MEDI',\n",
              " 'NONLIVINGAREA_MEDI',\n",
              " 'OBS_60_CNT_SOCIAL_CIRCLE']"
            ]
          },
          "metadata": {},
          "execution_count": 39
        }
      ],
      "source": [
        "train_drop1 = [column for column in upper_t.columns if any(upper_t[column] >= 0.95)]\n",
        "train_drop1"
      ]
    },
    {
      "cell_type": "markdown",
      "source": [
        "Here, we are selecting upper triangular matrix and removing columns with high correlation."
      ],
      "metadata": {
        "id": "YY688QFnY61I"
      }
    },
    {
      "cell_type": "code",
      "execution_count": null,
      "metadata": {
        "id": "U-30CE8MUilV"
      },
      "outputs": [],
      "source": [
        "train.drop(columns =train_drop1,axis=1,inplace = True)"
      ]
    },
    {
      "cell_type": "code",
      "execution_count": null,
      "metadata": {
        "id": "Ju4Bw_beyG5E",
        "colab": {
          "base_uri": "https://localhost:8080/",
          "height": 35
        },
        "outputId": "b155f9f9-aa04-42a7-8fb6-8ebbf0e4c90e"
      },
      "outputs": [
        {
          "output_type": "execute_result",
          "data": {
            "text/plain": [
              "'(184506, 81)'"
            ],
            "application/vnd.google.colaboratory.intrinsic+json": {
              "type": "string"
            }
          },
          "metadata": {},
          "execution_count": 41
        }
      ],
      "source": [
        "format(train.shape)"
      ]
    },
    {
      "cell_type": "code",
      "execution_count": null,
      "metadata": {
        "id": "TdzF_NBYIEji"
      },
      "outputs": [],
      "source": [
        "c=train.corr().abs()['TARGET']"
      ]
    },
    {
      "cell_type": "markdown",
      "source": [
        "Here, we are removing columns which has very less correlation with the TARGET."
      ],
      "metadata": {
        "id": "JPfMwneOY9t-"
      }
    },
    {
      "cell_type": "code",
      "execution_count": null,
      "metadata": {
        "id": "-TtJrQklIgp6",
        "colab": {
          "base_uri": "https://localhost:8080/"
        },
        "outputId": "cde5de74-5121-468b-aa1b-c9b7c1ffbff9"
      },
      "outputs": [
        {
          "output_type": "execute_result",
          "data": {
            "text/plain": [
              "['AMT_INCOME_TOTAL',\n",
              " 'FLAG_CONT_MOBILE',\n",
              " 'FLAG_EMAIL',\n",
              " 'REG_REGION_NOT_LIVE_REGION',\n",
              " 'LIVE_REGION_NOT_WORK_REGION',\n",
              " 'FLAG_DOCUMENT_2',\n",
              " 'FLAG_DOCUMENT_4',\n",
              " 'FLAG_DOCUMENT_5',\n",
              " 'FLAG_DOCUMENT_7',\n",
              " 'FLAG_DOCUMENT_9',\n",
              " 'FLAG_DOCUMENT_10',\n",
              " 'FLAG_DOCUMENT_11',\n",
              " 'FLAG_DOCUMENT_17',\n",
              " 'FLAG_DOCUMENT_19',\n",
              " 'FLAG_DOCUMENT_20',\n",
              " 'FLAG_DOCUMENT_21',\n",
              " 'AMT_REQ_CREDIT_BUREAU_HOUR',\n",
              " 'AMT_REQ_CREDIT_BUREAU_DAY',\n",
              " 'AMT_REQ_CREDIT_BUREAU_WEEK',\n",
              " 'AMT_REQ_CREDIT_BUREAU_QRT']"
            ]
          },
          "metadata": {},
          "execution_count": 43
        }
      ],
      "source": [
        "train_drop2=[]\n",
        "for i in train:\n",
        "    if(train[i].dtype!='object' and\n",
        "       c[i]<0.005):\n",
        "        train_drop2.append(i)\n",
        "train_drop2"
      ]
    },
    {
      "cell_type": "code",
      "execution_count": null,
      "metadata": {
        "id": "1vRXW7jcNCiS"
      },
      "outputs": [],
      "source": [
        "train.drop(columns =train_drop2,axis=1,inplace = True)"
      ]
    },
    {
      "cell_type": "code",
      "execution_count": null,
      "metadata": {
        "id": "3mPLQf_FNcAS",
        "colab": {
          "base_uri": "https://localhost:8080/",
          "height": 35
        },
        "outputId": "dc6acc74-e82a-4213-aecd-31f03f559c7f"
      },
      "outputs": [
        {
          "output_type": "execute_result",
          "data": {
            "text/plain": [
              "'(184506, 61)'"
            ],
            "application/vnd.google.colaboratory.intrinsic+json": {
              "type": "string"
            }
          },
          "metadata": {},
          "execution_count": 45
        }
      ],
      "source": [
        "format(train.shape)"
      ]
    },
    {
      "cell_type": "markdown",
      "source": [
        "**BASIC PREPROCESSING FOR TEST DATA**"
      ],
      "metadata": {
        "id": "yVDrY59ggods"
      }
    },
    {
      "cell_type": "code",
      "source": [
        "format(test.shape)"
      ],
      "metadata": {
        "id": "YprHCljMkdD2",
        "colab": {
          "base_uri": "https://localhost:8080/",
          "height": 35
        },
        "outputId": "6f6d6bcf-f1e5-4e7d-a69c-3133176d0299"
      },
      "execution_count": null,
      "outputs": [
        {
          "output_type": "execute_result",
          "data": {
            "text/plain": [
              "'(123005, 120)'"
            ],
            "application/vnd.google.colaboratory.intrinsic+json": {
              "type": "string"
            }
          },
          "metadata": {},
          "execution_count": 46
        }
      ]
    },
    {
      "cell_type": "code",
      "source": [
        "test = test.replace('XNA', np.nan)"
      ],
      "metadata": {
        "id": "gnWM9BKvQp0p"
      },
      "execution_count": null,
      "outputs": []
    },
    {
      "cell_type": "code",
      "source": [
        "test = test.drop('FLAG_MOBIL', axis=1)"
      ],
      "metadata": {
        "id": "voqKCeXrTr10"
      },
      "execution_count": null,
      "outputs": []
    },
    {
      "cell_type": "markdown",
      "source": [
        "**REMOVING COLUMNS WITH HIGH NULL VALUE % IN TRAIN**"
      ],
      "metadata": {
        "id": "hQGAkQFLjCmB"
      }
    },
    {
      "cell_type": "code",
      "source": [
        "test.drop(columns =train_drop_null_col,axis=1,inplace = True)\n",
        "format(test.shape)"
      ],
      "metadata": {
        "id": "-pvfccndjOhW",
        "colab": {
          "base_uri": "https://localhost:8080/",
          "height": 35
        },
        "outputId": "2868e3b0-321c-471f-dfa0-d7a5ebb59140"
      },
      "execution_count": null,
      "outputs": [
        {
          "output_type": "execute_result",
          "data": {
            "text/plain": [
              "'(123005, 102)'"
            ],
            "application/vnd.google.colaboratory.intrinsic+json": {
              "type": "string"
            }
          },
          "metadata": {},
          "execution_count": 49
        }
      ]
    },
    {
      "cell_type": "markdown",
      "source": [
        "**REMOVING COLUMNS WHICH WE REMOVED FROM TRAIN BASED ON CORRELATION**"
      ],
      "metadata": {
        "id": "j7KlxjUYdUWk"
      }
    },
    {
      "cell_type": "code",
      "execution_count": null,
      "metadata": {
        "id": "ySyl6eWXJp0h"
      },
      "outputs": [],
      "source": [
        "test.drop(columns =train_drop1,axis=1,inplace = True)"
      ]
    },
    {
      "cell_type": "code",
      "execution_count": null,
      "metadata": {
        "id": "ohU2ReNu-6oL",
        "colab": {
          "base_uri": "https://localhost:8080/",
          "height": 35
        },
        "outputId": "018f2b6a-e710-4137-c65f-93240639f01e"
      },
      "outputs": [
        {
          "output_type": "execute_result",
          "data": {
            "text/plain": [
              "'(123005, 80)'"
            ],
            "application/vnd.google.colaboratory.intrinsic+json": {
              "type": "string"
            }
          },
          "metadata": {},
          "execution_count": 51
        }
      ],
      "source": [
        "format(test.shape)"
      ]
    },
    {
      "cell_type": "code",
      "execution_count": null,
      "metadata": {
        "id": "XzqthJQtOqN6"
      },
      "outputs": [],
      "source": [
        "test.drop(columns =train_drop2,axis=1,inplace = True)"
      ]
    },
    {
      "cell_type": "code",
      "execution_count": null,
      "metadata": {
        "id": "zYL_6HYPOs97",
        "colab": {
          "base_uri": "https://localhost:8080/",
          "height": 35
        },
        "outputId": "3f4037aa-99f8-4058-adc2-abf6c6c7dd47"
      },
      "outputs": [
        {
          "output_type": "execute_result",
          "data": {
            "text/plain": [
              "'(123005, 60)'"
            ],
            "application/vnd.google.colaboratory.intrinsic+json": {
              "type": "string"
            }
          },
          "metadata": {},
          "execution_count": 53
        }
      ],
      "source": [
        "format(test.shape)"
      ]
    },
    {
      "cell_type": "markdown",
      "source": [
        "#**FURTHER PREPROCESSING**"
      ],
      "metadata": {
        "id": "9T5QYUFjarNG"
      }
    },
    {
      "cell_type": "markdown",
      "metadata": {
        "id": "yjZKq-PK5yLD"
      },
      "source": [
        "**OUTLIERS**"
      ]
    },
    {
      "cell_type": "code",
      "execution_count": null,
      "metadata": {
        "id": "e_zPZaFE4yKO"
      },
      "outputs": [],
      "source": [
        "# for i in train:\n",
        "#     if (train[i].nunique()>2 and train[i].dtypes != 'object'):\n",
        "#       sns.boxplot(train[i])\n",
        "#       plt.show()"
      ]
    },
    {
      "cell_type": "code",
      "source": [
        "# for i in train:\n",
        "#     if (train[i].nunique()>2 and train[i].dtypes != 'object'):\n",
        "#       sns.histplot(train[i],kde=True)\n",
        "#       plt.show()"
      ],
      "metadata": {
        "id": "yCQIv22xEANN"
      },
      "execution_count": null,
      "outputs": []
    },
    {
      "cell_type": "code",
      "source": [
        "test_train_merged=pd.concat([train_data,test_data])"
      ],
      "metadata": {
        "id": "fWhlY5ZseEae"
      },
      "execution_count": null,
      "outputs": []
    },
    {
      "cell_type": "code",
      "execution_count": null,
      "metadata": {
        "id": "I3DLedsT53gQ"
      },
      "outputs": [],
      "source": [
        "# def calc_iqr(x,para):\n",
        "#     q1 = x.quantile(q=0.25)\n",
        "#     q3 = x.quantile(q=0.75)\n",
        "#     iqr = q3 - q1\n",
        "#     outlier_range = iqr*para\n",
        "#     lower_bound = q1 - outlier_range\n",
        "#     upper_bound = q3 + outlier_range\n",
        "#     return lower_bound,upper_bound"
      ]
    },
    {
      "cell_type": "code",
      "source": [
        "# z = np.abs(stats.zscore(train))"
      ],
      "metadata": {
        "id": "NM3qTeqUcdy5"
      },
      "execution_count": null,
      "outputs": []
    },
    {
      "cell_type": "code",
      "source": [
        "# for i in train:\n",
        "#   if(train[i].nunique()>2 and train[i].dtypes != 'object'):\n",
        "#     minv,maxv=calc_iqr(test_train_merged[i],1.5)\n",
        "#     # if(train[i].median()!=minv and train[i].median()!=maxv):\n",
        "#     print(i)\n",
        "#     print('Min:',train[i].min(),'Max:',train[i].max())\n",
        "#     print(\"Min: \",minv,\"Max:\",maxv)"
      ],
      "metadata": {
        "id": "F5v1dc0cHQ-z"
      },
      "execution_count": null,
      "outputs": []
    },
    {
      "cell_type": "code",
      "source": [
        "# for i in train:\n",
        "#   if(train[i].nunique()>2 and train[i].dtypes != 'object'):\n",
        "#     minv,maxv=calc_iqr(test_train_merged[i],3)\n",
        "#     # if(train[i].median()!=minv and train[i].median()!=maxv):\n",
        "#     print(i)\n",
        "#     print('Min:',train[i].min(),'Max:',train[i].max())\n",
        "#     print(\"Min: \",minv,\"Max:\",maxv)"
      ],
      "metadata": {
        "id": "8zrQaiwMyhgz"
      },
      "execution_count": null,
      "outputs": []
    },
    {
      "cell_type": "code",
      "source": [
        "# train['DEF_30_CNT_SOCIAL_CIRCLE'].value_counts().sort_values()"
      ],
      "metadata": {
        "id": "ohfhSPTPTsXi"
      },
      "execution_count": null,
      "outputs": []
    },
    {
      "cell_type": "code",
      "source": [
        "# len(np.where(train['AMT_REQ_CREDIT_BUREAU_YEAR']>12)[0])"
      ],
      "metadata": {
        "id": "nKCzYr9ncc5V"
      },
      "execution_count": null,
      "outputs": []
    },
    {
      "cell_type": "markdown",
      "source": [
        "REGION_RATING_CLIENT - All modified to 2"
      ],
      "metadata": {
        "id": "hr3DFQDqBG9I"
      }
    },
    {
      "cell_type": "code",
      "source": [
        "#extreme_outliers=['DAYS_EMPLOYED','OBS_30_CNT_SOCIAL_CIRCLE','DEF_30_CNT_SOCIAL_CIRCLE','DEF_60_CNT_SOCIAL_CIRCLE']"
      ],
      "metadata": {
        "id": "yM1lUwj5sHoG"
      },
      "execution_count": null,
      "outputs": []
    },
    {
      "cell_type": "code",
      "source": [
        "# for i in train:\n",
        "#    if i not in extreme_outliers and train[i].dtypes!='object':\n",
        "#         minv,maxv=calc_iqr(train[i],1.5)\n",
        "#         train[i].loc[train[i].astype('float64') > maxv]  = maxv\n",
        "#         train[i].loc[train[i].astype('float64') < minv]  = minv\n",
        "#         #train.drop(train[train[i].astype('float64')>maxv].index , inplace=True)\n",
        "#         #train.drop(train[train[i].astype('float64')<minv].index , inplace=True)"
      ],
      "metadata": {
        "id": "SA9Oz7dS2x2z"
      },
      "execution_count": null,
      "outputs": []
    },
    {
      "cell_type": "code",
      "source": [
        "# for i in extreme_outliers:\n",
        "#         minv,maxv=calc_iqr(train[i],3)\n",
        "#         train[i].loc[train[i].astype('float64') > maxv]  = maxv\n",
        "#         train[i].loc[train[i].astype('float64') < minv]  = minv\n",
        "#         #train.drop(train[train[i].astype('float64')>maxv].index , inplace=True)\n",
        "#         #train.drop(train[train[i].astype('float64')<minv].index , inplace=True)"
      ],
      "metadata": {
        "id": "2Rhzbv_esA9T"
      },
      "execution_count": null,
      "outputs": []
    },
    {
      "cell_type": "code",
      "source": [
        "# for i in outliers_manual:\n",
        "#   if i=='CNT_CHILDREN':\n",
        "#     train[i].loc[train[i].astype('float64') > 3]  = 3\n",
        "#     #train.drop(train[train[i].astype('float64')>3].index , inplace=True)"
      ],
      "metadata": {
        "id": "TReXjVVk3Vw7"
      },
      "execution_count": null,
      "outputs": []
    },
    {
      "cell_type": "markdown",
      "metadata": {
        "id": "7_bOEkib7yU_"
      },
      "source": [
        "PLOTS AFTER REMOVING OUTLIERS"
      ]
    },
    {
      "cell_type": "code",
      "execution_count": null,
      "metadata": {
        "id": "pqb_kUou7xbu"
      },
      "outputs": [],
      "source": [
        "# for i in train:\n",
        "#   if (train[i].nunique()>2 and train[i].dtypes != 'object'):\n",
        "#       sns.boxplot(train[i])\n",
        "#       plt.show()"
      ]
    },
    {
      "cell_type": "code",
      "source": [
        "# for i in train:\n",
        "#   if (train[i].nunique()>2 and train[i].dtypes != 'object'):\n",
        "#       sns.histplot(train[i],kde=True)\n",
        "#       plt.show()"
      ],
      "metadata": {
        "id": "J_XP9qd3F93Z"
      },
      "execution_count": null,
      "outputs": []
    },
    {
      "cell_type": "markdown",
      "metadata": {
        "id": "mDYylrJNMQBj"
      },
      "source": [
        "#**FILLING IN MISSING/NULL VALUES**"
      ]
    },
    {
      "cell_type": "code",
      "execution_count": null,
      "metadata": {
        "id": "sULvWv7RPjps"
      },
      "outputs": [],
      "source": [
        "nan_data = {\n",
        " 'CODE_GENDER':'mode',\n",
        " 'ORGANIZATION_TYPE':'Not Specified',\n",
        " 'AMT_ANNUITY': 0,\n",
        " 'AMT_GOODS_PRICE': 0,\n",
        " 'NAME_TYPE_SUITE': 'Not Specified',\n",
        " 'OWN_CAR_AGE': -1,\n",
        " 'OCCUPATION_TYPE': 'Not Specified',\n",
        " 'CNT_FAM_MEMBERS': 'median',\n",
        " 'EXT_SOURCE_1': 'median',\n",
        " 'EXT_SOURCE_2': 'median',\n",
        " 'EXT_SOURCE_3': 'median',\n",
        " 'APARTMENTS_AVG': 'median',\n",
        " 'BASEMENTAREA_AVG': 'median',\n",
        " 'YEARS_BEGINEXPLUATATION_AVG': 'median',\n",
        " 'YEARS_BUILD_AVG': 'median',\n",
        " 'COMMONAREA_AVG': 'median',\n",
        " 'ELEVATORS_AVG': 'median',\n",
        " 'ENTRANCES_AVG': 'median',\n",
        " 'FLOORSMAX_AVG': 'median',\n",
        " 'FLOORSMIN_AVG': 'median',\n",
        " 'LANDAREA_AVG': 'median',\n",
        " 'LIVINGAPARTMENTS_AVG': 'median',\n",
        " 'LIVINGAREA_AVG': 'median',\n",
        " 'NONLIVINGAPARTMENTS_AVG': 'median',\n",
        " 'NONLIVINGAREA_AVG': 'median',\n",
        " 'APARTMENTS_MODE': 'median',\n",
        " 'BASEMENTAREA_MODE': 'median',\n",
        " 'YEARS_BEGINEXPLUATATION_MODE': 'median',\n",
        " 'YEARS_BUILD_MODE': 'median',\n",
        " 'COMMONAREA_MODE': 'median',\n",
        " 'ELEVATORS_MODE': 'median',\n",
        " 'ENTRANCES_MODE': 'median',\n",
        " 'FLOORSMAX_MODE': 'median',\n",
        " 'FLOORSMIN_MODE': 'median',\n",
        " 'LANDAREA_MODE': 'median',\n",
        " 'LIVINGAPARTMENTS_MODE': 'median',\n",
        " 'LIVINGAREA_MODE': 'median',\n",
        " 'NONLIVINGAPARTMENTS_MODE': 'median',\n",
        " 'NONLIVINGAREA_MODE': 'median',\n",
        " 'APARTMENTS_MEDI': 'median',\n",
        " 'BASEMENTAREA_MEDI': 'median',\n",
        " 'YEARS_BEGINEXPLUATATION_MEDI': 'median',\n",
        " 'YEARS_BUILD_MEDI': 'median',\n",
        " 'COMMONAREA_MEDI': 'median',\n",
        " 'ELEVATORS_MEDI': 'median',\n",
        " 'ENTRANCES_MEDI': 'median',\n",
        " 'FLOORSMAX_MEDI': 'median',\n",
        " 'FLOORSMIN_MEDI': 'median',\n",
        " 'LANDAREA_MEDI': 'median',\n",
        " 'LIVINGAPARTMENTS_MEDI': 'median',\n",
        " 'LIVINGAREA_MEDI': 'median',\n",
        " 'NONLIVINGAPARTMENTS_MEDI': 'median',\n",
        " 'NONLIVINGAREA_MEDI': 'median',\n",
        " 'FONDKAPREMONT_MODE': 'Not Specified',\n",
        " 'HOUSETYPE_MODE': 'Not Specified',\n",
        " 'TOTALAREA_MODE': 'median',\n",
        " 'WALLSMATERIAL_MODE': 'Not Specified',\n",
        " 'EMERGENCYSTATE_MODE': 'Not Specified',\n",
        " 'OBS_30_CNT_SOCIAL_CIRCLE': 0,\n",
        " 'DEF_30_CNT_SOCIAL_CIRCLE': 0,\n",
        " 'OBS_60_CNT_SOCIAL_CIRCLE': 0,\n",
        " 'DEF_60_CNT_SOCIAL_CIRCLE':0,\n",
        " 'DAYS_LAST_PHONE_CHANGE':'median',\n",
        " 'AMT_REQ_CREDIT_BUREAU_HOUR': 0,\n",
        " 'AMT_REQ_CREDIT_BUREAU_DAY': 0,\n",
        " 'AMT_REQ_CREDIT_BUREAU_WEEK': 0,\n",
        " 'AMT_REQ_CREDIT_BUREAU_MON': 0,\n",
        " 'AMT_REQ_CREDIT_BUREAU_QRT': 0,\n",
        " 'AMT_REQ_CREDIT_BUREAU_YEAR': 0\n",
        "}"
      ]
    },
    {
      "cell_type": "code",
      "source": [
        "def RemoveNaN(df,df_merged,nan_data):\n",
        "  cols = list(df.columns[df.isnull().sum() != 0])\n",
        "\n",
        "  for col in cols:\n",
        "      t=0\n",
        "\n",
        "      if(type(nan_data[col]) is list):\n",
        "          t=nan_data[col][1]\n",
        "      else:\n",
        "          t = nan_data[col]\n",
        "\n",
        "      replace_type = t\n",
        "\n",
        "      if(replace_type == \"median\"):\n",
        "            df[col].fillna(df_merged[col].median(),inplace=True)\n",
        "      # elif(replace_type == \"mean\"):\n",
        "      #     df[col].fillna(df_merged[col].mean(),inplace=True)\n",
        "      elif(replace_type == \"mode\"):\n",
        "            df[col].fillna(df_merged[col].value_counts().idxmax(),inplace=True)\n",
        "      else:\n",
        "            df[col].fillna(replace_type,inplace=True)"
      ],
      "metadata": {
        "id": "byyZW6kjVZ53"
      },
      "execution_count": null,
      "outputs": []
    },
    {
      "cell_type": "code",
      "source": [
        "RemoveNaN(train,test_train_merged,nan_data)"
      ],
      "metadata": {
        "id": "qPd4JSNgo5qM"
      },
      "execution_count": null,
      "outputs": []
    },
    {
      "cell_type": "code",
      "execution_count": null,
      "metadata": {
        "colab": {
          "base_uri": "https://localhost:8080/"
        },
        "id": "zUAneJ4yusvU",
        "outputId": "6c7e35e3-43e1-4a6a-837f-3b193bba9f04"
      },
      "outputs": [
        {
          "output_type": "execute_result",
          "data": {
            "text/plain": [
              "NAME_CONTRACT_TYPE             0\n",
              "APARTMENTS_AVG                 0\n",
              "BASEMENTAREA_AVG               0\n",
              "YEARS_BEGINEXPLUATATION_AVG    0\n",
              "ELEVATORS_AVG                  0\n",
              "ENTRANCES_AVG                  0\n",
              "FLOORSMAX_AVG                  0\n",
              "LANDAREA_AVG                   0\n",
              "LIVINGAREA_AVG                 0\n",
              "NONLIVINGAREA_AVG              0\n",
              "HOUSETYPE_MODE                 0\n",
              "TOTALAREA_MODE                 0\n",
              "WALLSMATERIAL_MODE             0\n",
              "EMERGENCYSTATE_MODE            0\n",
              "OBS_30_CNT_SOCIAL_CIRCLE       0\n",
              "DEF_30_CNT_SOCIAL_CIRCLE       0\n",
              "DEF_60_CNT_SOCIAL_CIRCLE       0\n",
              "DAYS_LAST_PHONE_CHANGE         0\n",
              "FLAG_DOCUMENT_3                0\n",
              "FLAG_DOCUMENT_6                0\n",
              "FLAG_DOCUMENT_8                0\n",
              "FLAG_DOCUMENT_12               0\n",
              "FLAG_DOCUMENT_13               0\n",
              "FLAG_DOCUMENT_14               0\n",
              "FLAG_DOCUMENT_15               0\n",
              "FLAG_DOCUMENT_16               0\n",
              "FLAG_DOCUMENT_18               0\n",
              "AMT_REQ_CREDIT_BUREAU_MON      0\n",
              "EXT_SOURCE_3                   0\n",
              "AMT_REQ_CREDIT_BUREAU_YEAR     0\n",
              "EXT_SOURCE_2                   0\n",
              "ORGANIZATION_TYPE              0\n",
              "CODE_GENDER                    0\n",
              "FLAG_OWN_CAR                   0\n",
              "FLAG_OWN_REALTY                0\n",
              "CNT_CHILDREN                   0\n",
              "AMT_CREDIT                     0\n",
              "AMT_ANNUITY                    0\n",
              "NAME_TYPE_SUITE                0\n",
              "NAME_INCOME_TYPE               0\n",
              "NAME_EDUCATION_TYPE            0\n",
              "NAME_FAMILY_STATUS             0\n",
              "NAME_HOUSING_TYPE              0\n",
              "REGION_POPULATION_RELATIVE     0\n",
              "DAYS_BIRTH                     0\n",
              "DAYS_EMPLOYED                  0\n",
              "DAYS_REGISTRATION              0\n",
              "DAYS_ID_PUBLISH                0\n",
              "FLAG_WORK_PHONE                0\n",
              "FLAG_PHONE                     0\n",
              "OCCUPATION_TYPE                0\n",
              "CNT_FAM_MEMBERS                0\n",
              "REGION_RATING_CLIENT           0\n",
              "WEEKDAY_APPR_PROCESS_START     0\n",
              "HOUR_APPR_PROCESS_START        0\n",
              "REG_REGION_NOT_WORK_REGION     0\n",
              "REG_CITY_NOT_LIVE_CITY         0\n",
              "REG_CITY_NOT_WORK_CITY         0\n",
              "LIVE_CITY_NOT_WORK_CITY        0\n",
              "EXT_SOURCE_1                   0\n",
              "TARGET                         0\n",
              "dtype: int64"
            ]
          },
          "metadata": {},
          "execution_count": 72
        }
      ],
      "source": [
        "train.isna().sum().sort_values()"
      ]
    },
    {
      "cell_type": "code",
      "source": [
        "RemoveNaN(test,test_train_merged,nan_data)"
      ],
      "metadata": {
        "id": "RgKiRIwkdy3k"
      },
      "execution_count": null,
      "outputs": []
    },
    {
      "cell_type": "code",
      "source": [
        "test.isna().sum().sort_values()"
      ],
      "metadata": {
        "colab": {
          "base_uri": "https://localhost:8080/"
        },
        "id": "5JrD8rSAd1vN",
        "outputId": "23702ec5-0d15-43af-8b12-56c93ec2fadf"
      },
      "execution_count": null,
      "outputs": [
        {
          "output_type": "execute_result",
          "data": {
            "text/plain": [
              "NAME_CONTRACT_TYPE             0\n",
              "APARTMENTS_AVG                 0\n",
              "BASEMENTAREA_AVG               0\n",
              "YEARS_BEGINEXPLUATATION_AVG    0\n",
              "ELEVATORS_AVG                  0\n",
              "ENTRANCES_AVG                  0\n",
              "FLOORSMAX_AVG                  0\n",
              "LANDAREA_AVG                   0\n",
              "LIVINGAREA_AVG                 0\n",
              "NONLIVINGAREA_AVG              0\n",
              "HOUSETYPE_MODE                 0\n",
              "TOTALAREA_MODE                 0\n",
              "WALLSMATERIAL_MODE             0\n",
              "EXT_SOURCE_3                   0\n",
              "EMERGENCYSTATE_MODE            0\n",
              "DEF_30_CNT_SOCIAL_CIRCLE       0\n",
              "DEF_60_CNT_SOCIAL_CIRCLE       0\n",
              "DAYS_LAST_PHONE_CHANGE         0\n",
              "FLAG_DOCUMENT_3                0\n",
              "FLAG_DOCUMENT_6                0\n",
              "FLAG_DOCUMENT_8                0\n",
              "FLAG_DOCUMENT_12               0\n",
              "FLAG_DOCUMENT_13               0\n",
              "FLAG_DOCUMENT_14               0\n",
              "FLAG_DOCUMENT_15               0\n",
              "FLAG_DOCUMENT_16               0\n",
              "FLAG_DOCUMENT_18               0\n",
              "OBS_30_CNT_SOCIAL_CIRCLE       0\n",
              "EXT_SOURCE_2                   0\n",
              "EXT_SOURCE_1                   0\n",
              "ORGANIZATION_TYPE              0\n",
              "CODE_GENDER                    0\n",
              "FLAG_OWN_CAR                   0\n",
              "FLAG_OWN_REALTY                0\n",
              "CNT_CHILDREN                   0\n",
              "AMT_CREDIT                     0\n",
              "AMT_ANNUITY                    0\n",
              "NAME_TYPE_SUITE                0\n",
              "NAME_INCOME_TYPE               0\n",
              "NAME_EDUCATION_TYPE            0\n",
              "NAME_FAMILY_STATUS             0\n",
              "NAME_HOUSING_TYPE              0\n",
              "REGION_POPULATION_RELATIVE     0\n",
              "DAYS_BIRTH                     0\n",
              "DAYS_EMPLOYED                  0\n",
              "DAYS_REGISTRATION              0\n",
              "DAYS_ID_PUBLISH                0\n",
              "FLAG_WORK_PHONE                0\n",
              "FLAG_PHONE                     0\n",
              "OCCUPATION_TYPE                0\n",
              "CNT_FAM_MEMBERS                0\n",
              "REGION_RATING_CLIENT           0\n",
              "WEEKDAY_APPR_PROCESS_START     0\n",
              "HOUR_APPR_PROCESS_START        0\n",
              "REG_REGION_NOT_WORK_REGION     0\n",
              "REG_CITY_NOT_LIVE_CITY         0\n",
              "REG_CITY_NOT_WORK_CITY         0\n",
              "LIVE_CITY_NOT_WORK_CITY        0\n",
              "AMT_REQ_CREDIT_BUREAU_MON      0\n",
              "AMT_REQ_CREDIT_BUREAU_YEAR     0\n",
              "dtype: int64"
            ]
          },
          "metadata": {},
          "execution_count": 74
        }
      ]
    },
    {
      "cell_type": "markdown",
      "metadata": {
        "id": "dMYt30YvUc3w"
      },
      "source": [
        "#**ENCODING**"
      ]
    },
    {
      "cell_type": "markdown",
      "source": [
        "**TRAIN DATA**"
      ],
      "metadata": {
        "id": "Q5j7A1HFdOw7"
      }
    },
    {
      "cell_type": "code",
      "execution_count": null,
      "metadata": {
        "colab": {
          "base_uri": "https://localhost:8080/"
        },
        "id": "3PhNUFHBU6H9",
        "outputId": "17ba63fb-47b7-4198-d729-9fd207b8e568"
      },
      "outputs": [
        {
          "output_type": "execute_result",
          "data": {
            "text/plain": [
              "['NAME_CONTRACT_TYPE',\n",
              " 'CODE_GENDER',\n",
              " 'FLAG_OWN_CAR',\n",
              " 'FLAG_OWN_REALTY',\n",
              " 'NAME_TYPE_SUITE',\n",
              " 'NAME_INCOME_TYPE',\n",
              " 'NAME_EDUCATION_TYPE',\n",
              " 'NAME_FAMILY_STATUS',\n",
              " 'NAME_HOUSING_TYPE',\n",
              " 'OCCUPATION_TYPE',\n",
              " 'WEEKDAY_APPR_PROCESS_START',\n",
              " 'ORGANIZATION_TYPE',\n",
              " 'HOUSETYPE_MODE',\n",
              " 'WALLSMATERIAL_MODE',\n",
              " 'EMERGENCYSTATE_MODE']"
            ]
          },
          "metadata": {},
          "execution_count": 75
        }
      ],
      "source": [
        "obj_train = [i for i in train.columns if train[i].dtypes == 'object']\n",
        "obj_train"
      ]
    },
    {
      "cell_type": "code",
      "source": [
        "label_train=obj_train"
      ],
      "metadata": {
        "id": "FXOathoXnIkr"
      },
      "execution_count": null,
      "outputs": []
    },
    {
      "cell_type": "code",
      "execution_count": null,
      "metadata": {
        "colab": {
          "base_uri": "https://localhost:8080/"
        },
        "id": "0_sQKCv1B527",
        "outputId": "d435e01f-fc2e-49f9-8bd1-f5ae831fb8ca"
      },
      "outputs": [
        {
          "output_type": "execute_result",
          "data": {
            "text/plain": [
              "Cash loans         167013\n",
              "Revolving loans     17493\n",
              "Name: NAME_CONTRACT_TYPE, dtype: int64"
            ]
          },
          "metadata": {},
          "execution_count": 77
        }
      ],
      "source": [
        "train['NAME_CONTRACT_TYPE'].value_counts()"
      ]
    },
    {
      "cell_type": "code",
      "source": [
        "train['FLAG_OWN_CAR'].value_counts()"
      ],
      "metadata": {
        "colab": {
          "base_uri": "https://localhost:8080/"
        },
        "id": "rBwkDv8L1HSz",
        "outputId": "db156311-1b70-460d-af35-2f07c5ca0b18"
      },
      "execution_count": null,
      "outputs": [
        {
          "output_type": "execute_result",
          "data": {
            "text/plain": [
              "N    121630\n",
              "Y     62876\n",
              "Name: FLAG_OWN_CAR, dtype: int64"
            ]
          },
          "metadata": {},
          "execution_count": 78
        }
      ]
    },
    {
      "cell_type": "code",
      "source": [
        "train['FLAG_OWN_REALTY'].value_counts()"
      ],
      "metadata": {
        "colab": {
          "base_uri": "https://localhost:8080/"
        },
        "id": "3RiJenKj1KiC",
        "outputId": "db317fb3-c5e3-4bf5-be98-9cf841287d40"
      },
      "execution_count": null,
      "outputs": [
        {
          "output_type": "execute_result",
          "data": {
            "text/plain": [
              "Y    128059\n",
              "N     56447\n",
              "Name: FLAG_OWN_REALTY, dtype: int64"
            ]
          },
          "metadata": {},
          "execution_count": 79
        }
      ]
    },
    {
      "cell_type": "code",
      "execution_count": null,
      "metadata": {
        "id": "3yrhP8NSVOSE"
      },
      "outputs": [],
      "source": [
        "labelencoder = LabelEncoder()\n",
        "for i in label_train:\n",
        "    train[i] = labelencoder.fit_transform(train[i])"
      ]
    },
    {
      "cell_type": "code",
      "execution_count": null,
      "metadata": {
        "colab": {
          "base_uri": "https://localhost:8080/"
        },
        "id": "VBTb_P1t-Gt0",
        "outputId": "a6b70be9-2871-4d3e-a45a-447c4cf50e68"
      },
      "outputs": [
        {
          "output_type": "execute_result",
          "data": {
            "text/plain": [
              "0    167013\n",
              "1     17493\n",
              "Name: NAME_CONTRACT_TYPE, dtype: int64"
            ]
          },
          "metadata": {},
          "execution_count": 81
        }
      ],
      "source": [
        "train['NAME_CONTRACT_TYPE'].value_counts()"
      ]
    },
    {
      "cell_type": "code",
      "source": [
        "train['FLAG_OWN_CAR'].value_counts()"
      ],
      "metadata": {
        "colab": {
          "base_uri": "https://localhost:8080/"
        },
        "id": "WYjGRjKe1Qpm",
        "outputId": "88a2ef3e-1e19-4deb-a5fd-2b77a428ee8c"
      },
      "execution_count": null,
      "outputs": [
        {
          "output_type": "execute_result",
          "data": {
            "text/plain": [
              "0    121630\n",
              "1     62876\n",
              "Name: FLAG_OWN_CAR, dtype: int64"
            ]
          },
          "metadata": {},
          "execution_count": 82
        }
      ]
    },
    {
      "cell_type": "code",
      "source": [
        "train['FLAG_OWN_REALTY'].value_counts()"
      ],
      "metadata": {
        "colab": {
          "base_uri": "https://localhost:8080/"
        },
        "id": "39AHtdtt1R_d",
        "outputId": "521ff4d1-abe6-49e3-82f7-09162bdf4bfc"
      },
      "execution_count": null,
      "outputs": [
        {
          "output_type": "execute_result",
          "data": {
            "text/plain": [
              "1    128059\n",
              "0     56447\n",
              "Name: FLAG_OWN_REALTY, dtype: int64"
            ]
          },
          "metadata": {},
          "execution_count": 83
        }
      ]
    },
    {
      "cell_type": "markdown",
      "metadata": {
        "id": "v48t5utiY-Wo"
      },
      "source": [
        "**TEST DATA**"
      ]
    },
    {
      "cell_type": "code",
      "execution_count": null,
      "metadata": {
        "id": "BJGaIMcIY-Wp",
        "colab": {
          "base_uri": "https://localhost:8080/"
        },
        "outputId": "d129719c-8bbd-4d79-9ffd-a1adb34db506"
      },
      "outputs": [
        {
          "output_type": "execute_result",
          "data": {
            "text/plain": [
              "Cash loans         111219\n",
              "Revolving loans     11786\n",
              "Name: NAME_CONTRACT_TYPE, dtype: int64"
            ]
          },
          "metadata": {},
          "execution_count": 84
        }
      ],
      "source": [
        "test['NAME_CONTRACT_TYPE'].value_counts()"
      ]
    },
    {
      "cell_type": "code",
      "execution_count": null,
      "metadata": {
        "id": "z-2VB3JIY-Wp"
      },
      "outputs": [],
      "source": [
        "for i in label_train:\n",
        "    test[i] = labelencoder.fit_transform(test[i])"
      ]
    },
    {
      "cell_type": "code",
      "execution_count": null,
      "metadata": {
        "id": "1eEQ0BO7Y-Wp",
        "colab": {
          "base_uri": "https://localhost:8080/"
        },
        "outputId": "2a0e366e-24e6-4189-ac8c-e6d89e0c602b"
      },
      "outputs": [
        {
          "output_type": "execute_result",
          "data": {
            "text/plain": [
              "0    111219\n",
              "1     11786\n",
              "Name: NAME_CONTRACT_TYPE, dtype: int64"
            ]
          },
          "metadata": {},
          "execution_count": 86
        }
      ],
      "source": [
        "test['NAME_CONTRACT_TYPE'].value_counts()"
      ]
    },
    {
      "cell_type": "markdown",
      "metadata": {
        "id": "z5Lv4ofQjlSG"
      },
      "source": [
        "#**MODEL IMPLEMENTATION**"
      ]
    },
    {
      "cell_type": "markdown",
      "source": [
        "**IMPORTING LIBRARIES**"
      ],
      "metadata": {
        "id": "eFjKkCnjl2__"
      }
    },
    {
      "cell_type": "code",
      "execution_count": null,
      "metadata": {
        "id": "urwWPq4ftn6n"
      },
      "outputs": [],
      "source": [
        "from sklearn.linear_model import LogisticRegression\n",
        "from sklearn.ensemble import RandomForestClassifier\n",
        "from sklearn.naive_bayes import GaussianNB\n",
        "from xgboost import XGBClassifier\n",
        "from sklearn.tree import DecisionTreeClassifier\n",
        "from sklearn import svm\n",
        "from lightgbm import LGBMClassifier\n",
        "from sklearn.ensemble import AdaBoostClassifier\n",
        "from sklearn.ensemble import GradientBoostingClassifier\n",
        "from sklearn.linear_model import Perceptron\n",
        "\n",
        "from sklearn.model_selection import train_test_split\n",
        "from sklearn.metrics import f1_score\n",
        "from sklearn.metrics import accuracy_score"
      ]
    },
    {
      "cell_type": "code",
      "execution_count": null,
      "metadata": {
        "id": "ffqJskClWp4U"
      },
      "outputs": [],
      "source": [
        "x=train.drop(['TARGET'],axis=1)\n",
        "\n",
        "y=train['TARGET']"
      ]
    },
    {
      "cell_type": "code",
      "execution_count": null,
      "metadata": {
        "id": "cBc8UHZobbuL"
      },
      "outputs": [],
      "source": [
        "x_train, x_validation, y_train, y_validation = train_test_split(x,y,test_size=0.3,random_state=1)"
      ]
    },
    {
      "cell_type": "markdown",
      "metadata": {
        "id": "D8DyX9d9zRBR"
      },
      "source": [
        "#**STANDARDISATION**"
      ]
    },
    {
      "cell_type": "code",
      "execution_count": null,
      "metadata": {
        "id": "drmdM9yrzS2h"
      },
      "outputs": [],
      "source": [
        "# sc = StandardScaler()\n",
        "# x_train = sc.fit_transform(x_train)\n",
        "# x_validation = sc.transform (x_validation)"
      ]
    },
    {
      "cell_type": "markdown",
      "source": [
        "#**TRIAL MODELS**"
      ],
      "metadata": {
        "id": "vA6ZFQlTPomY"
      }
    },
    {
      "cell_type": "markdown",
      "metadata": {
        "id": "SurhXOZXBiXX"
      },
      "source": [
        "**LOGISTIC REGRESSION**"
      ]
    },
    {
      "cell_type": "code",
      "execution_count": null,
      "metadata": {
        "id": "179YY22cXvyP"
      },
      "outputs": [],
      "source": [
        "# lr = LogisticRegression(max_iter=3000)\n",
        "# lr.fit(x_train, y_train)\n",
        "\n",
        "# y_pred_lr = lr.predict(x_validation)\n",
        "\n",
        "# lr_train_score = lr.score(x_train, y_train)\n",
        "# lr_validation_score= lr.score(x_validation, y_validation)\n",
        "\n",
        "# lr_acc = accuracy_score(y_pred_lr,y_validation)\n",
        "# lr_f1_score=f1_score(y_validation, y_pred_lr, average='macro')\n",
        "\n",
        "# pred_lr=lr.predict(test)\n",
        "# pred_lr"
      ]
    },
    {
      "cell_type": "code",
      "execution_count": null,
      "metadata": {
        "id": "FKW6ZqDaIn5n"
      },
      "outputs": [],
      "source": [
        "# print('LogisticRegressionModel Train Score is : ' , lr_train_score)\n",
        "# print('LogisticRegressionModel Validation Score is : ' , lr_validation_score)\n",
        "# print('LogisticRegressionModel Accuracy is : ', lr_acc)\n",
        "# print('LogisticRegressionModel F1 Score is : ', lr_f1_score)"
      ]
    },
    {
      "cell_type": "markdown",
      "metadata": {
        "id": "dltCn-VjIBOZ"
      },
      "source": [
        "**DECISION TREES**"
      ]
    },
    {
      "cell_type": "code",
      "execution_count": null,
      "metadata": {
        "id": "bJLZHGyTaZeG"
      },
      "outputs": [],
      "source": [
        "# dt= DecisionTreeClassifier()\n",
        "# dt.fit(x_train, y_train)\n",
        "\n",
        "# y_pred_dt = dt.predict(x_validation)\n",
        "\n",
        "# dt_train_score = dt.score(x_train, y_train)\n",
        "# dt_validation_score= dt.score(x_validation, y_validation)\n",
        "\n",
        "# dt_acc = accuracy_score(y_pred_dt,y_validation)\n",
        "# dt_f1_score=f1_score(y_validation, y_pred_dt, average='macro')\n",
        "\n",
        "# pred_dt=dt.predict(test)\n",
        "# pred_dt"
      ]
    },
    {
      "cell_type": "code",
      "execution_count": null,
      "metadata": {
        "id": "MDaOnOSGIubA"
      },
      "outputs": [],
      "source": [
        "# print('DecisionTreeClassifier Train Score is : ' , dt_train_score)\n",
        "# print('DecisionTreeClassifier Validation Score is : ' , dt_validation_score)\n",
        "# print('DecisionTreeClassifier Accuracy is : ', dt_acc)\n",
        "# print('DecisionTreeClassifier F1 Score is : ', dt_f1_score)"
      ]
    },
    {
      "cell_type": "markdown",
      "metadata": {
        "id": "hXA8IPTbJm9r"
      },
      "source": [
        "**RANDOM FOREST**"
      ]
    },
    {
      "cell_type": "code",
      "execution_count": null,
      "metadata": {
        "id": "jENegDC7az7O"
      },
      "outputs": [],
      "source": [
        "# rf= RandomForestClassifier(n_estimators = 100, random_state = 50, verbose = 1, n_jobs = -1)\n",
        "# rf.fit(x_train, y_train)\n",
        "\n",
        "# y_pred_rf = rf.predict(x_validation)\n",
        "\n",
        "# rf_train_score = rf.score(x_train, y_train)\n",
        "# rf_validation_score= rf.score(x_validation, y_validation)\n",
        "\n",
        "# rf_acc = accuracy_score(y_pred_rf,y_validation)\n",
        "# rf_f1_score=f1_score(y_validation, y_pred_rf, average='macro')\n",
        "\n",
        "# pred_rf=rf.predict(test)\n",
        "# pred_rf"
      ]
    },
    {
      "cell_type": "code",
      "execution_count": null,
      "metadata": {
        "id": "NrV4_pSpI-J3"
      },
      "outputs": [],
      "source": [
        "# print('RandomForestClassifier Train Score is : ' , rf_train_score)\n",
        "# print('RandomForestClassifier Validation Score is : ' , rf_validation_score)\n",
        "# print('RandomForestClassifier Accuracy is : ', rf_acc)\n",
        "# print('RandomForestClassifier F1 Score is : ', rf_f1_score)"
      ]
    },
    {
      "cell_type": "markdown",
      "metadata": {
        "id": "c9n4Eeq8Jrkh"
      },
      "source": [
        "**NAIVE BAYES**"
      ]
    },
    {
      "cell_type": "code",
      "execution_count": null,
      "metadata": {
        "id": "M-kCCjaqebdk"
      },
      "outputs": [],
      "source": [
        "# nb = GaussianNB()\n",
        "# nb.fit(x_train, y_train)\n",
        "\n",
        "# y_pred_nb = nb.predict(x_validation)\n",
        "\n",
        "# nb_train_score = nb.score(x_train, y_train)\n",
        "# nb_validation_score= nb.score(x_validation, y_validation)\n",
        "\n",
        "# nb_acc = accuracy_score(y_pred_nb,y_validation)\n",
        "# nb_f1_score=f1_score(y_validation, y_pred_nb, average='macro')\n",
        "\n",
        "# pred_nb=nb.predict(test)\n",
        "# pred_nb"
      ]
    },
    {
      "cell_type": "code",
      "execution_count": null,
      "metadata": {
        "id": "v7HY_ZvKKhmM"
      },
      "outputs": [],
      "source": [
        "# print('NaiveBayesClassifier Train Score is : ' , nb_train_score)\n",
        "# print('NaiveBayesClassifier Validation Score is : ' , nb_validation_score)\n",
        "# print('NaiveBayesClassifier Accuracy is : ', nb_acc)\n",
        "# print('NaiveBayesClassifier F1 Score is : ', nb_f1_score)"
      ]
    },
    {
      "cell_type": "markdown",
      "source": [
        "**ADABOOST**"
      ],
      "metadata": {
        "id": "y9IobUicmlFd"
      }
    },
    {
      "cell_type": "code",
      "source": [
        "# adb = AdaBoostClassifier(random_state=0,n_estimators=200)\n",
        "\n",
        "# adb.fit(x_train, y_train)\n",
        "\n",
        "# y_pred_adb = adb.predict(x_validation)\n",
        "\n",
        "# adb_train_score = adb.score(x_train, y_train)\n",
        "# adb_validation_score= adb.score(x_validation, y_validation)\n",
        "\n",
        "# adb_acc = accuracy_score(y_pred_adb,y_validation)\n",
        "# adb_f1_score=f1_score(y_validation, y_pred_adb, average='macro')\n",
        "\n",
        "# pred_adb=adb.predict(test)\n",
        "# pred_adb"
      ],
      "metadata": {
        "id": "EmxZm1zjmkh9"
      },
      "execution_count": null,
      "outputs": []
    },
    {
      "cell_type": "code",
      "source": [
        "# print('AdaBoostClassifier Train Score is : ' , adb_train_score)\n",
        "# print('AdaBoostClassifier Validation Score is : ' , adb_validation_score)\n",
        "# print('AdaBoostClassifier Accuracy is : ', adb_acc)\n",
        "# print('AdaBoostClassifier F1 Score is : ', adb_f1_score)"
      ],
      "metadata": {
        "id": "-ftKf2CinYea"
      },
      "execution_count": null,
      "outputs": []
    },
    {
      "cell_type": "markdown",
      "source": [
        "**GRADIENT BOOST**"
      ],
      "metadata": {
        "id": "jJHgAHgnmosh"
      }
    },
    {
      "cell_type": "code",
      "source": [
        "# gb = GradientBoostingClassifier(random_state=0,learning_rate= 0.01,n_estimators= 1000,max_depth=6)\n",
        "\n",
        "# gb.fit(x_train, y_train)\n",
        "\n",
        "# y_pred_gb = gb.predict(x_validation)\n",
        "\n",
        "# gb_train_score = gb.score(x_train, y_train)\n",
        "# gb_validation_score= gb.score(x_validation, y_validation)\n",
        "\n",
        "# gb_acc = accuracy_score(y_pred_gb,y_validation)\n",
        "# gb_f1_score=f1_score(y_validation, y_pred_gb, average='macro')\n",
        "\n",
        "# pred_gb=gb.predict(test)\n",
        "# pred_gb"
      ],
      "metadata": {
        "id": "8NR29QSsm2Lk"
      },
      "execution_count": null,
      "outputs": []
    },
    {
      "cell_type": "code",
      "source": [
        "# print('GradientBoostingClassifier Train Score is : ' , gb_train_score)\n",
        "# print('GradientBoostingClassifier Validation Score is : ' , gb_validation_score)\n",
        "# print('GradientBoostingClassifier Accuracy is : ', gb_acc)\n",
        "# print('GradientBoostingClassifier F1 Score is : ', gb_f1_score)"
      ],
      "metadata": {
        "id": "sxohCajinlZZ"
      },
      "execution_count": null,
      "outputs": []
    },
    {
      "cell_type": "markdown",
      "source": [
        "**SVM**"
      ],
      "metadata": {
        "id": "_c8KXJTbfqTj"
      }
    },
    {
      "cell_type": "code",
      "source": [
        "# from sklearn.svm import SVC\n",
        "# svc = SVC(C=1.0, random_state=1, kernel='linear')\n",
        "# svc.fit(x_train, y_train)\n",
        "\n",
        "# y_pred_svc = svc.predict(x_validation)\n",
        "\n",
        "# svc_train_score = svc.score(x_train, y_train)\n",
        "# svc_validation_score= svc.score(x_validation, y_validation)\n",
        "\n",
        "# svc_acc = accuracy_score(y_pred_svc,y_validation)\n",
        "# svc_f1_score=f1_score(y_validation, y_pred_svc, average='macro')\n",
        "\n",
        "# pred_svc=svc.predict(test)\n",
        "# pred_svc"
      ],
      "metadata": {
        "id": "L1t_UysQfpC_"
      },
      "execution_count": null,
      "outputs": []
    },
    {
      "cell_type": "code",
      "source": [
        "# print('SupportVectorMachineClassifier Train Score is : ' , svc_train_score)\n",
        "# print('SupportVectorMachineClassifier Validation Score is : ' , svc_validation_score)\n",
        "# print('SupportVectorMachineClassifier Accuracy is : ', svc_acc)\n",
        "# print('SupportVectorMachineClassifier F1 Score is : ', svc_f1_score)"
      ],
      "metadata": {
        "id": "-zuYH2_eqFDH"
      },
      "execution_count": null,
      "outputs": []
    },
    {
      "cell_type": "markdown",
      "source": [
        "**CATBOOST**"
      ],
      "metadata": {
        "id": "6aHmMSMVmsVJ"
      }
    },
    {
      "cell_type": "code",
      "source": [
        "# cb = CatBoostClassifier(thread_count=-1,random_state=0,border_count=5000,depth=4)\n",
        "# cb.fit(x_train, y_train)\n",
        "\n",
        "# y_pred_cb = cb.predict(x_validation)\n",
        "\n",
        "# cb_train_score = cb.score(x_train, y_train)\n",
        "# cb_validation_score= cb.score(x_validation, y_validation)\n",
        "\n",
        "# cb_acc = accuracy_score(y_pred_cb,y_validation)\n",
        "# cb_f1_score=f1_score(y_validation, y_pred_cb, average='macro')\n",
        "\n",
        "# pred_cb=svc.predict(test)\n",
        "# pred_cb"
      ],
      "metadata": {
        "id": "qFFmaorSmz9D"
      },
      "execution_count": null,
      "outputs": []
    },
    {
      "cell_type": "code",
      "source": [
        "# print('CatBoostClassifier Train Score is : ' , cb_train_score)\n",
        "# print('CatBoostClassifier Validation Score is : ' , cb_validation_score)\n",
        "# print('CatBoostClassifier Accuracy is : ', cb_acc)\n",
        "# print('CatBoostClassifier F1 Score is : ', cb_f1_score)"
      ],
      "metadata": {
        "id": "ordribcfrCqE"
      },
      "execution_count": null,
      "outputs": []
    },
    {
      "cell_type": "markdown",
      "source": [
        "**PERCEPTRON**"
      ],
      "metadata": {
        "id": "HzSqFnRDmu2H"
      }
    },
    {
      "cell_type": "code",
      "source": [
        "# perc = Perceptron(random_state=1)\n",
        "# perc.fit(x_train, y_train)\n",
        "\n",
        "# y_pred_perc = perc.predict(x_validation)\n",
        "\n",
        "# perc_train_score = perc.score(x_train, y_train)\n",
        "# perc_validation_score= perc.score(x_validation, y_validation)\n",
        "\n",
        "# perc_acc = accuracy_score(y_pred_perc,y_validation)\n",
        "# perc_f1_score=f1_score(y_validation, y_pred_perc, average='macro')\n",
        "\n",
        "# pred_perc=perc.predict(test)\n",
        "# pred_perc"
      ],
      "metadata": {
        "id": "NQ6wdi2ssvnt"
      },
      "execution_count": null,
      "outputs": []
    },
    {
      "cell_type": "code",
      "source": [
        "# print('PerceptronClassifier Train Score is : ' , perc_train_score)\n",
        "# print('PerceptronClassifier Validation Score is : ' , perc_validation_score)\n",
        "# print('PerceptronClassifier Accuracy is : ', perc_acc)\n",
        "# print('PerceptronClassifier F1 Score is : ', perc_f1_score)"
      ],
      "metadata": {
        "id": "3w5I_IQ7tkcG"
      },
      "execution_count": null,
      "outputs": []
    },
    {
      "cell_type": "markdown",
      "source": [
        "#**FINAL MODELS**"
      ],
      "metadata": {
        "id": "AWpbx4XkPgM_"
      }
    },
    {
      "cell_type": "markdown",
      "metadata": {
        "id": "qAhoJOljLNbz"
      },
      "source": [
        "**XGBOOST**"
      ]
    },
    {
      "cell_type": "markdown",
      "source": [
        "Tuning Optimal Parameters"
      ],
      "metadata": {
        "id": "QniBgyZTP4UP"
      }
    },
    {
      "cell_type": "code",
      "source": [],
      "metadata": {
        "id": "pIDbTxmfP8mR"
      },
      "execution_count": null,
      "outputs": []
    },
    {
      "cell_type": "markdown",
      "source": [
        "Implementation:"
      ],
      "metadata": {
        "id": "mnNc6eTJP-5-"
      }
    },
    {
      "cell_type": "code",
      "execution_count": null,
      "metadata": {
        "id": "xQmh0nQ4fmcZ",
        "colab": {
          "base_uri": "https://localhost:8080/"
        },
        "outputId": "820cca15-6f62-412b-b165-44fdf1dc6f5e"
      },
      "outputs": [
        {
          "output_type": "execute_result",
          "data": {
            "text/plain": [
              "array([0, 0, 0, ..., 0, 0, 0])"
            ]
          },
          "metadata": {},
          "execution_count": 109
        }
      ],
      "source": [
        "# xgb = XGBClassifier(\n",
        "#     scale_pos_weight=5,\n",
        "#     max_depth = 3,\n",
        "#     min_child_weight = 1,\n",
        "#     gamma = 0.4,\n",
        "#     subsample=0.55,\n",
        "#     colsample_bytree = 0.8,\n",
        "#     learning_rate=0.01,\n",
        "#     n_estimaters=10000,\n",
        "#     objective= 'binary:logistic'\n",
        "#     )\n",
        "# xgb.fit(x_train, y_train)\n",
        "\n",
        "# #y_pred_xgb1 = xgb.predict(x_validation)\n",
        "# #y_pred_xgb = [round(value) for value in y_pred_xgb1]\n",
        "\n",
        "# y_pred_xgb = xgb.predict(x_validation)\n",
        "\n",
        "# xgb_train_score = xgb.score(x_train, y_train)\n",
        "# xgb_validation_score= xgb.score(x_validation, y_validation)\n",
        "\n",
        "# xgb_acc = accuracy_score(y_pred_xgb,y_validation)\n",
        "# xgb_f1_score=f1_score(y_validation, y_pred_xgb, average='macro')\n",
        "\n",
        "# pred_xgb=xgb.predict(test)\n",
        "# pred_xgb"
      ]
    },
    {
      "cell_type": "code",
      "execution_count": null,
      "metadata": {
        "id": "IkAZrzq-MEGc",
        "colab": {
          "base_uri": "https://localhost:8080/"
        },
        "outputId": "18e05bfe-9d1c-42ea-8857-3a8cc5d77f34"
      },
      "outputs": [
        {
          "output_type": "stream",
          "name": "stdout",
          "text": [
            "XGBClassifier Train Score is :  0.8927017359121668\n",
            "XGBClassifier Test Score is :  0.8926868044515104\n",
            "XGBClassifier Accuracy is :  0.8926868044515104\n",
            "XGBClassifier F1 Score is :  0.5886134658054737\n"
          ]
        }
      ],
      "source": [
        "# print('XGBClassifier Train Score is : ' , xgb_train_score)\n",
        "# print('XGBClassifier Test Score is : ' , xgb_validation_score)\n",
        "# print('XGBClassifier Accuracy is : ', xgb_acc)\n",
        "# print('XGBClassifier F1 Score is : ', xgb_f1_score)"
      ]
    },
    {
      "cell_type": "markdown",
      "source": [
        "**LIGHT GBM**"
      ],
      "metadata": {
        "id": "17y9H3GEf6Zc"
      }
    },
    {
      "cell_type": "markdown",
      "source": [
        "Tuning Optimal Parameters"
      ],
      "metadata": {
        "id": "twVrha1-QCwm"
      }
    },
    {
      "cell_type": "code",
      "source": [
        "from lightgbm import LGBMRegressor\n",
        "import numpy as np\n",
        "import pandas as pd\n",
        "from sklearn.model_selection import KFold\n",
        "from sklearn.metrics import mean_squared_error\n",
        "from sklearn.preprocessing import LabelEncoder\n",
        "from sklearn.model_selection import train_test_split"
      ],
      "metadata": {
        "id": "8oX_9Vfr-SmA"
      },
      "execution_count": null,
      "outputs": []
    },
    {
      "cell_type": "code",
      "source": [
        "def objective(trial,data=x,target=y):\n",
        "\n",
        "    train_x, test_x, train_y, test_y = train_test_split(data, target, test_size=0.2,random_state=42)\n",
        "    param = {\n",
        "        'metric': 'rmse',\n",
        "        'random_state': 48,\n",
        "        'n_estimators': 20000,\n",
        "        'reg_alpha': trial.suggest_loguniform('reg_alpha', 1e-3, 10.0),\n",
        "        'reg_lambda': trial.suggest_loguniform('reg_lambda', 1e-3, 10.0),\n",
        "        'colsample_bytree': trial.suggest_categorical('colsample_bytree', [0.3,0.4,0.5,0.6,0.7,0.8,0.9, 1.0]),\n",
        "        'subsample': trial.suggest_categorical('subsample', [0.4,0.5,0.6,0.7,0.8,1.0]),\n",
        "        'learning_rate': trial.suggest_categorical('learning_rate', [0.006,0.008,0.01,0.014,0.017,0.02]),\n",
        "        'max_depth': trial.suggest_categorical('max_depth', [10,20,100]),\n",
        "        'num_leaves' : trial.suggest_int('num_leaves', 1, 1000),\n",
        "        'min_child_samples': trial.suggest_int('min_child_samples', 1, 300),\n",
        "        'cat_smooth' : trial.suggest_int('min_data_per_groups', 1, 100)\n",
        "    }\n",
        "    model = LGBMRegressor(**param)\n",
        "\n",
        "    model.fit(train_x,train_y,eval_set=[(test_x,test_y)],early_stopping_rounds=100,verbose=False)\n",
        "\n",
        "    preds = model.predict(test_x)\n",
        "\n",
        "    rmse = mean_squared_error(test_y, preds,squared=False)\n",
        "\n",
        "    return rmse"
      ],
      "metadata": {
        "id": "9HiJBeGzQFOl"
      },
      "execution_count": null,
      "outputs": []
    },
    {
      "cell_type": "code",
      "source": [
        "pip install optuna"
      ],
      "metadata": {
        "colab": {
          "base_uri": "https://localhost:8080/"
        },
        "id": "vOLguk1e_WyT",
        "outputId": "3286f011-76c3-483b-8d9c-e777eda6a488"
      },
      "execution_count": null,
      "outputs": [
        {
          "output_type": "stream",
          "name": "stdout",
          "text": [
            "Looking in indexes: https://pypi.org/simple, https://us-python.pkg.dev/colab-wheels/public/simple/\n",
            "Collecting optuna\n",
            "  Downloading optuna-3.0.4-py3-none-any.whl (348 kB)\n",
            "\u001b[K     |████████████████████████████████| 348 kB 5.0 MB/s \n",
            "\u001b[?25hCollecting cliff\n",
            "  Downloading cliff-4.1.0-py3-none-any.whl (81 kB)\n",
            "\u001b[K     |████████████████████████████████| 81 kB 9.9 MB/s \n",
            "\u001b[?25hCollecting colorlog\n",
            "  Downloading colorlog-6.7.0-py2.py3-none-any.whl (11 kB)\n",
            "Requirement already satisfied: importlib-metadata<5.0.0 in /usr/local/lib/python3.8/dist-packages (from optuna) (4.13.0)\n",
            "Requirement already satisfied: sqlalchemy>=1.3.0 in /usr/local/lib/python3.8/dist-packages (from optuna) (1.4.44)\n",
            "Collecting cmaes>=0.8.2\n",
            "  Downloading cmaes-0.9.0-py3-none-any.whl (23 kB)\n",
            "Requirement already satisfied: packaging>=20.0 in /usr/local/lib/python3.8/dist-packages (from optuna) (21.3)\n",
            "Requirement already satisfied: numpy in /usr/local/lib/python3.8/dist-packages (from optuna) (1.21.6)\n",
            "Requirement already satisfied: PyYAML in /usr/local/lib/python3.8/dist-packages (from optuna) (6.0)\n",
            "Collecting alembic>=1.5.0\n",
            "  Downloading alembic-1.8.1-py3-none-any.whl (209 kB)\n",
            "\u001b[K     |████████████████████████████████| 209 kB 60.8 MB/s \n",
            "\u001b[?25hRequirement already satisfied: scipy<1.9.0,>=1.7.0 in /usr/local/lib/python3.8/dist-packages (from optuna) (1.7.3)\n",
            "Requirement already satisfied: tqdm in /usr/local/lib/python3.8/dist-packages (from optuna) (4.64.1)\n",
            "Collecting Mako\n",
            "  Downloading Mako-1.2.4-py3-none-any.whl (78 kB)\n",
            "\u001b[K     |████████████████████████████████| 78 kB 7.5 MB/s \n",
            "\u001b[?25hRequirement already satisfied: importlib-resources in /usr/local/lib/python3.8/dist-packages (from alembic>=1.5.0->optuna) (5.10.0)\n",
            "Requirement already satisfied: zipp>=0.5 in /usr/local/lib/python3.8/dist-packages (from importlib-metadata<5.0.0->optuna) (3.11.0)\n",
            "Requirement already satisfied: pyparsing!=3.0.5,>=2.0.2 in /usr/local/lib/python3.8/dist-packages (from packaging>=20.0->optuna) (3.0.9)\n",
            "Requirement already satisfied: greenlet!=0.4.17 in /usr/local/lib/python3.8/dist-packages (from sqlalchemy>=1.3.0->optuna) (2.0.1)\n",
            "Collecting cmd2>=1.0.0\n",
            "  Downloading cmd2-2.4.2-py3-none-any.whl (147 kB)\n",
            "\u001b[K     |████████████████████████████████| 147 kB 61.3 MB/s \n",
            "\u001b[?25hRequirement already satisfied: PrettyTable>=0.7.2 in /usr/local/lib/python3.8/dist-packages (from cliff->optuna) (3.5.0)\n",
            "Collecting stevedore>=2.0.1\n",
            "  Downloading stevedore-4.1.1-py3-none-any.whl (50 kB)\n",
            "\u001b[K     |████████████████████████████████| 50 kB 7.0 MB/s \n",
            "\u001b[?25hCollecting autopage>=0.4.0\n",
            "  Downloading autopage-0.5.1-py3-none-any.whl (29 kB)\n",
            "Collecting pyperclip>=1.6\n",
            "  Downloading pyperclip-1.8.2.tar.gz (20 kB)\n",
            "Requirement already satisfied: wcwidth>=0.1.7 in /usr/local/lib/python3.8/dist-packages (from cmd2>=1.0.0->cliff->optuna) (0.2.5)\n",
            "Requirement already satisfied: attrs>=16.3.0 in /usr/local/lib/python3.8/dist-packages (from cmd2>=1.0.0->cliff->optuna) (22.1.0)\n",
            "Collecting pbr!=2.1.0,>=2.0.0\n",
            "  Downloading pbr-5.11.0-py2.py3-none-any.whl (112 kB)\n",
            "\u001b[K     |████████████████████████████████| 112 kB 74.9 MB/s \n",
            "\u001b[?25hRequirement already satisfied: MarkupSafe>=0.9.2 in /usr/local/lib/python3.8/dist-packages (from Mako->alembic>=1.5.0->optuna) (2.0.1)\n",
            "Building wheels for collected packages: pyperclip\n",
            "  Building wheel for pyperclip (setup.py) ... \u001b[?25l\u001b[?25hdone\n",
            "  Created wheel for pyperclip: filename=pyperclip-1.8.2-py3-none-any.whl size=11136 sha256=a1377c7a6a094ac97ee1b6995ccb907d55d5a4c4b6e364ee6c0c3e319c5f1682\n",
            "  Stored in directory: /root/.cache/pip/wheels/7f/1a/65/84ff8c386bec21fca6d220ea1f5498a0367883a78dd5ba6122\n",
            "Successfully built pyperclip\n",
            "Installing collected packages: pyperclip, pbr, stevedore, Mako, cmd2, autopage, colorlog, cmaes, cliff, alembic, optuna\n",
            "Successfully installed Mako-1.2.4 alembic-1.8.1 autopage-0.5.1 cliff-4.1.0 cmaes-0.9.0 cmd2-2.4.2 colorlog-6.7.0 optuna-3.0.4 pbr-5.11.0 pyperclip-1.8.2 stevedore-4.1.1\n"
          ]
        }
      ]
    },
    {
      "cell_type": "code",
      "source": [
        "import optuna"
      ],
      "metadata": {
        "id": "YHFz6Cbk_mGz"
      },
      "execution_count": null,
      "outputs": []
    },
    {
      "cell_type": "code",
      "source": [
        "study = optuna.create_study(direction='minimize')\n",
        "study.optimize(objective, n_trials=50)\n",
        "print('Number of finished trials:', len(study.trials))\n",
        "print('Best trial:', study.best_trial.params)"
      ],
      "metadata": {
        "colab": {
          "base_uri": "https://localhost:8080/"
        },
        "id": "2fHpgMEi-mxo",
        "outputId": "ebcf8d0d-7149-4024-e6cf-78a14c4e535f"
      },
      "execution_count": null,
      "outputs": [
        {
          "output_type": "stream",
          "name": "stderr",
          "text": [
            "\u001b[32m[I 2022-12-10 21:43:47,651]\u001b[0m A new study created in memory with name: no-name-d711f454-9ee0-4da4-9074-55565d989a2d\u001b[0m\n",
            "<ipython-input-128-d05a9eb7c24f>:8: FutureWarning: suggest_loguniform has been deprecated in v3.0.0. This feature will be removed in v6.0.0. See https://github.com/optuna/optuna/releases/tag/v3.0.0. Use :func:`~optuna.trial.Trial.suggest_float` instead.\n",
            "  'reg_alpha': trial.suggest_loguniform('reg_alpha', 1e-3, 10.0),\n",
            "<ipython-input-128-d05a9eb7c24f>:9: FutureWarning: suggest_loguniform has been deprecated in v3.0.0. This feature will be removed in v6.0.0. See https://github.com/optuna/optuna/releases/tag/v3.0.0. Use :func:`~optuna.trial.Trial.suggest_float` instead.\n",
            "  'reg_lambda': trial.suggest_loguniform('reg_lambda', 1e-3, 10.0),\n",
            "\u001b[32m[I 2022-12-10 21:45:27,636]\u001b[0m Trial 0 finished with value: 0.26049207471981456 and parameters: {'reg_alpha': 0.008102607137030789, 'reg_lambda': 0.0012206146082346465, 'colsample_bytree': 0.7, 'subsample': 0.8, 'learning_rate': 0.008, 'max_depth': 10, 'num_leaves': 334, 'min_child_samples': 292, 'min_data_per_groups': 50}. Best is trial 0 with value: 0.26049207471981456.\u001b[0m\n",
            "<ipython-input-128-d05a9eb7c24f>:8: FutureWarning: suggest_loguniform has been deprecated in v3.0.0. This feature will be removed in v6.0.0. See https://github.com/optuna/optuna/releases/tag/v3.0.0. Use :func:`~optuna.trial.Trial.suggest_float` instead.\n",
            "  'reg_alpha': trial.suggest_loguniform('reg_alpha', 1e-3, 10.0),\n",
            "<ipython-input-128-d05a9eb7c24f>:9: FutureWarning: suggest_loguniform has been deprecated in v3.0.0. This feature will be removed in v6.0.0. See https://github.com/optuna/optuna/releases/tag/v3.0.0. Use :func:`~optuna.trial.Trial.suggest_float` instead.\n",
            "  'reg_lambda': trial.suggest_loguniform('reg_lambda', 1e-3, 10.0),\n",
            "\u001b[32m[I 2022-12-10 21:47:16,926]\u001b[0m Trial 1 finished with value: 0.26053913791736427 and parameters: {'reg_alpha': 0.03840105274048199, 'reg_lambda': 1.1217334594148083, 'colsample_bytree': 0.3, 'subsample': 1.0, 'learning_rate': 0.006, 'max_depth': 10, 'num_leaves': 348, 'min_child_samples': 142, 'min_data_per_groups': 21}. Best is trial 0 with value: 0.26049207471981456.\u001b[0m\n",
            "<ipython-input-128-d05a9eb7c24f>:8: FutureWarning: suggest_loguniform has been deprecated in v3.0.0. This feature will be removed in v6.0.0. See https://github.com/optuna/optuna/releases/tag/v3.0.0. Use :func:`~optuna.trial.Trial.suggest_float` instead.\n",
            "  'reg_alpha': trial.suggest_loguniform('reg_alpha', 1e-3, 10.0),\n",
            "<ipython-input-128-d05a9eb7c24f>:9: FutureWarning: suggest_loguniform has been deprecated in v3.0.0. This feature will be removed in v6.0.0. See https://github.com/optuna/optuna/releases/tag/v3.0.0. Use :func:`~optuna.trial.Trial.suggest_float` instead.\n",
            "  'reg_lambda': trial.suggest_loguniform('reg_lambda', 1e-3, 10.0),\n",
            "\u001b[32m[I 2022-12-10 21:47:58,978]\u001b[0m Trial 2 finished with value: 0.26079440995865294 and parameters: {'reg_alpha': 0.3552278064133038, 'reg_lambda': 0.061594778141288636, 'colsample_bytree': 0.9, 'subsample': 0.6, 'learning_rate': 0.02, 'max_depth': 10, 'num_leaves': 588, 'min_child_samples': 179, 'min_data_per_groups': 94}. Best is trial 0 with value: 0.26049207471981456.\u001b[0m\n",
            "<ipython-input-128-d05a9eb7c24f>:8: FutureWarning: suggest_loguniform has been deprecated in v3.0.0. This feature will be removed in v6.0.0. See https://github.com/optuna/optuna/releases/tag/v3.0.0. Use :func:`~optuna.trial.Trial.suggest_float` instead.\n",
            "  'reg_alpha': trial.suggest_loguniform('reg_alpha', 1e-3, 10.0),\n",
            "<ipython-input-128-d05a9eb7c24f>:9: FutureWarning: suggest_loguniform has been deprecated in v3.0.0. This feature will be removed in v6.0.0. See https://github.com/optuna/optuna/releases/tag/v3.0.0. Use :func:`~optuna.trial.Trial.suggest_float` instead.\n",
            "  'reg_lambda': trial.suggest_loguniform('reg_lambda', 1e-3, 10.0),\n",
            "\u001b[32m[I 2022-12-10 21:49:23,181]\u001b[0m Trial 3 finished with value: 0.2605559719250788 and parameters: {'reg_alpha': 0.0032131000349878234, 'reg_lambda': 0.0016290963568234545, 'colsample_bytree': 0.6, 'subsample': 0.5, 'learning_rate': 0.008, 'max_depth': 10, 'num_leaves': 527, 'min_child_samples': 80, 'min_data_per_groups': 66}. Best is trial 0 with value: 0.26049207471981456.\u001b[0m\n",
            "<ipython-input-128-d05a9eb7c24f>:8: FutureWarning: suggest_loguniform has been deprecated in v3.0.0. This feature will be removed in v6.0.0. See https://github.com/optuna/optuna/releases/tag/v3.0.0. Use :func:`~optuna.trial.Trial.suggest_float` instead.\n",
            "  'reg_alpha': trial.suggest_loguniform('reg_alpha', 1e-3, 10.0),\n",
            "<ipython-input-128-d05a9eb7c24f>:9: FutureWarning: suggest_loguniform has been deprecated in v3.0.0. This feature will be removed in v6.0.0. See https://github.com/optuna/optuna/releases/tag/v3.0.0. Use :func:`~optuna.trial.Trial.suggest_float` instead.\n",
            "  'reg_lambda': trial.suggest_loguniform('reg_lambda', 1e-3, 10.0),\n",
            "\u001b[32m[I 2022-12-10 21:50:27,848]\u001b[0m Trial 4 finished with value: 0.26045561560386704 and parameters: {'reg_alpha': 0.397253106165821, 'reg_lambda': 1.116913675849802, 'colsample_bytree': 0.3, 'subsample': 0.5, 'learning_rate': 0.008, 'max_depth': 100, 'num_leaves': 135, 'min_child_samples': 70, 'min_data_per_groups': 22}. Best is trial 4 with value: 0.26045561560386704.\u001b[0m\n",
            "<ipython-input-128-d05a9eb7c24f>:8: FutureWarning: suggest_loguniform has been deprecated in v3.0.0. This feature will be removed in v6.0.0. See https://github.com/optuna/optuna/releases/tag/v3.0.0. Use :func:`~optuna.trial.Trial.suggest_float` instead.\n",
            "  'reg_alpha': trial.suggest_loguniform('reg_alpha', 1e-3, 10.0),\n",
            "<ipython-input-128-d05a9eb7c24f>:9: FutureWarning: suggest_loguniform has been deprecated in v3.0.0. This feature will be removed in v6.0.0. See https://github.com/optuna/optuna/releases/tag/v3.0.0. Use :func:`~optuna.trial.Trial.suggest_float` instead.\n",
            "  'reg_lambda': trial.suggest_loguniform('reg_lambda', 1e-3, 10.0),\n",
            "\u001b[32m[I 2022-12-10 21:52:17,530]\u001b[0m Trial 5 finished with value: 0.26076779504650954 and parameters: {'reg_alpha': 5.438168483660514, 'reg_lambda': 0.0032548557148298547, 'colsample_bytree': 0.7, 'subsample': 0.7, 'learning_rate': 0.008, 'max_depth': 100, 'num_leaves': 610, 'min_child_samples': 9, 'min_data_per_groups': 69}. Best is trial 4 with value: 0.26045561560386704.\u001b[0m\n",
            "<ipython-input-128-d05a9eb7c24f>:8: FutureWarning: suggest_loguniform has been deprecated in v3.0.0. This feature will be removed in v6.0.0. See https://github.com/optuna/optuna/releases/tag/v3.0.0. Use :func:`~optuna.trial.Trial.suggest_float` instead.\n",
            "  'reg_alpha': trial.suggest_loguniform('reg_alpha', 1e-3, 10.0),\n",
            "<ipython-input-128-d05a9eb7c24f>:9: FutureWarning: suggest_loguniform has been deprecated in v3.0.0. This feature will be removed in v6.0.0. See https://github.com/optuna/optuna/releases/tag/v3.0.0. Use :func:`~optuna.trial.Trial.suggest_float` instead.\n",
            "  'reg_lambda': trial.suggest_loguniform('reg_lambda', 1e-3, 10.0),\n",
            "\u001b[32m[I 2022-12-10 21:53:18,545]\u001b[0m Trial 6 finished with value: 0.2608807962109134 and parameters: {'reg_alpha': 0.008712778732540633, 'reg_lambda': 0.003047612877128253, 'colsample_bytree': 0.4, 'subsample': 0.8, 'learning_rate': 0.014, 'max_depth': 20, 'num_leaves': 981, 'min_child_samples': 145, 'min_data_per_groups': 88}. Best is trial 4 with value: 0.26045561560386704.\u001b[0m\n",
            "<ipython-input-128-d05a9eb7c24f>:8: FutureWarning: suggest_loguniform has been deprecated in v3.0.0. This feature will be removed in v6.0.0. See https://github.com/optuna/optuna/releases/tag/v3.0.0. Use :func:`~optuna.trial.Trial.suggest_float` instead.\n",
            "  'reg_alpha': trial.suggest_loguniform('reg_alpha', 1e-3, 10.0),\n",
            "<ipython-input-128-d05a9eb7c24f>:9: FutureWarning: suggest_loguniform has been deprecated in v3.0.0. This feature will be removed in v6.0.0. See https://github.com/optuna/optuna/releases/tag/v3.0.0. Use :func:`~optuna.trial.Trial.suggest_float` instead.\n",
            "  'reg_lambda': trial.suggest_loguniform('reg_lambda', 1e-3, 10.0),\n",
            "\u001b[32m[I 2022-12-10 21:54:05,481]\u001b[0m Trial 7 finished with value: 0.2607708537606081 and parameters: {'reg_alpha': 0.001926249325368993, 'reg_lambda': 0.9613333480366846, 'colsample_bytree': 1.0, 'subsample': 0.6, 'learning_rate': 0.017, 'max_depth': 100, 'num_leaves': 171, 'min_child_samples': 201, 'min_data_per_groups': 88}. Best is trial 4 with value: 0.26045561560386704.\u001b[0m\n",
            "<ipython-input-128-d05a9eb7c24f>:8: FutureWarning: suggest_loguniform has been deprecated in v3.0.0. This feature will be removed in v6.0.0. See https://github.com/optuna/optuna/releases/tag/v3.0.0. Use :func:`~optuna.trial.Trial.suggest_float` instead.\n",
            "  'reg_alpha': trial.suggest_loguniform('reg_alpha', 1e-3, 10.0),\n",
            "<ipython-input-128-d05a9eb7c24f>:9: FutureWarning: suggest_loguniform has been deprecated in v3.0.0. This feature will be removed in v6.0.0. See https://github.com/optuna/optuna/releases/tag/v3.0.0. Use :func:`~optuna.trial.Trial.suggest_float` instead.\n",
            "  'reg_lambda': trial.suggest_loguniform('reg_lambda', 1e-3, 10.0),\n",
            "\u001b[32m[I 2022-12-10 21:55:31,650]\u001b[0m Trial 8 finished with value: 0.2605096456856144 and parameters: {'reg_alpha': 4.036424718089101, 'reg_lambda': 0.12148461138268284, 'colsample_bytree': 0.6, 'subsample': 0.4, 'learning_rate': 0.008, 'max_depth': 100, 'num_leaves': 269, 'min_child_samples': 87, 'min_data_per_groups': 100}. Best is trial 4 with value: 0.26045561560386704.\u001b[0m\n",
            "<ipython-input-128-d05a9eb7c24f>:8: FutureWarning: suggest_loguniform has been deprecated in v3.0.0. This feature will be removed in v6.0.0. See https://github.com/optuna/optuna/releases/tag/v3.0.0. Use :func:`~optuna.trial.Trial.suggest_float` instead.\n",
            "  'reg_alpha': trial.suggest_loguniform('reg_alpha', 1e-3, 10.0),\n",
            "<ipython-input-128-d05a9eb7c24f>:9: FutureWarning: suggest_loguniform has been deprecated in v3.0.0. This feature will be removed in v6.0.0. See https://github.com/optuna/optuna/releases/tag/v3.0.0. Use :func:`~optuna.trial.Trial.suggest_float` instead.\n",
            "  'reg_lambda': trial.suggest_loguniform('reg_lambda', 1e-3, 10.0),\n",
            "\u001b[32m[I 2022-12-10 21:56:33,606]\u001b[0m Trial 9 finished with value: 0.26050037211394217 and parameters: {'reg_alpha': 0.035128460280120545, 'reg_lambda': 0.3671595388562282, 'colsample_bytree': 0.7, 'subsample': 0.6, 'learning_rate': 0.01, 'max_depth': 20, 'num_leaves': 137, 'min_child_samples': 103, 'min_data_per_groups': 42}. Best is trial 4 with value: 0.26045561560386704.\u001b[0m\n",
            "<ipython-input-128-d05a9eb7c24f>:8: FutureWarning: suggest_loguniform has been deprecated in v3.0.0. This feature will be removed in v6.0.0. See https://github.com/optuna/optuna/releases/tag/v3.0.0. Use :func:`~optuna.trial.Trial.suggest_float` instead.\n",
            "  'reg_alpha': trial.suggest_loguniform('reg_alpha', 1e-3, 10.0),\n",
            "<ipython-input-128-d05a9eb7c24f>:9: FutureWarning: suggest_loguniform has been deprecated in v3.0.0. This feature will be removed in v6.0.0. See https://github.com/optuna/optuna/releases/tag/v3.0.0. Use :func:`~optuna.trial.Trial.suggest_float` instead.\n",
            "  'reg_lambda': trial.suggest_loguniform('reg_lambda', 1e-3, 10.0),\n",
            "\u001b[32m[I 2022-12-10 21:59:20,228]\u001b[0m Trial 10 finished with value: 0.2608968150966226 and parameters: {'reg_alpha': 0.3617087863004056, 'reg_lambda': 9.758898703210011, 'colsample_bytree': 0.3, 'subsample': 0.5, 'learning_rate': 0.006, 'max_depth': 100, 'num_leaves': 819, 'min_child_samples': 18, 'min_data_per_groups': 7}. Best is trial 4 with value: 0.26045561560386704.\u001b[0m\n",
            "<ipython-input-128-d05a9eb7c24f>:8: FutureWarning: suggest_loguniform has been deprecated in v3.0.0. This feature will be removed in v6.0.0. See https://github.com/optuna/optuna/releases/tag/v3.0.0. Use :func:`~optuna.trial.Trial.suggest_float` instead.\n",
            "  'reg_alpha': trial.suggest_loguniform('reg_alpha', 1e-3, 10.0),\n",
            "<ipython-input-128-d05a9eb7c24f>:9: FutureWarning: suggest_loguniform has been deprecated in v3.0.0. This feature will be removed in v6.0.0. See https://github.com/optuna/optuna/releases/tag/v3.0.0. Use :func:`~optuna.trial.Trial.suggest_float` instead.\n",
            "  'reg_lambda': trial.suggest_loguniform('reg_lambda', 1e-3, 10.0),\n",
            "\u001b[32m[I 2022-12-10 22:00:27,513]\u001b[0m Trial 11 finished with value: 0.2603734246413548 and parameters: {'reg_alpha': 0.40440573142870007, 'reg_lambda': 0.023126475930881605, 'colsample_bytree': 0.5, 'subsample': 0.8, 'learning_rate': 0.008, 'max_depth': 10, 'num_leaves': 35, 'min_child_samples': 264, 'min_data_per_groups': 38}. Best is trial 11 with value: 0.2603734246413548.\u001b[0m\n",
            "<ipython-input-128-d05a9eb7c24f>:8: FutureWarning: suggest_loguniform has been deprecated in v3.0.0. This feature will be removed in v6.0.0. See https://github.com/optuna/optuna/releases/tag/v3.0.0. Use :func:`~optuna.trial.Trial.suggest_float` instead.\n",
            "  'reg_alpha': trial.suggest_loguniform('reg_alpha', 1e-3, 10.0),\n",
            "<ipython-input-128-d05a9eb7c24f>:9: FutureWarning: suggest_loguniform has been deprecated in v3.0.0. This feature will be removed in v6.0.0. See https://github.com/optuna/optuna/releases/tag/v3.0.0. Use :func:`~optuna.trial.Trial.suggest_float` instead.\n",
            "  'reg_lambda': trial.suggest_loguniform('reg_lambda', 1e-3, 10.0),\n",
            "\u001b[32m[I 2022-12-10 22:01:42,869]\u001b[0m Trial 12 finished with value: 0.26037532705621114 and parameters: {'reg_alpha': 0.5597601573532233, 'reg_lambda': 0.038054134689961855, 'colsample_bytree': 0.5, 'subsample': 0.8, 'learning_rate': 0.008, 'max_depth': 100, 'num_leaves': 20, 'min_child_samples': 292, 'min_data_per_groups': 28}. Best is trial 11 with value: 0.2603734246413548.\u001b[0m\n",
            "<ipython-input-128-d05a9eb7c24f>:8: FutureWarning: suggest_loguniform has been deprecated in v3.0.0. This feature will be removed in v6.0.0. See https://github.com/optuna/optuna/releases/tag/v3.0.0. Use :func:`~optuna.trial.Trial.suggest_float` instead.\n",
            "  'reg_alpha': trial.suggest_loguniform('reg_alpha', 1e-3, 10.0),\n",
            "<ipython-input-128-d05a9eb7c24f>:9: FutureWarning: suggest_loguniform has been deprecated in v3.0.0. This feature will be removed in v6.0.0. See https://github.com/optuna/optuna/releases/tag/v3.0.0. Use :func:`~optuna.trial.Trial.suggest_float` instead.\n",
            "  'reg_lambda': trial.suggest_loguniform('reg_lambda', 1e-3, 10.0),\n",
            "\u001b[32m[I 2022-12-10 22:02:51,055]\u001b[0m Trial 13 finished with value: 0.26047801835076884 and parameters: {'reg_alpha': 1.4695322483459754, 'reg_lambda': 0.015908113185188703, 'colsample_bytree': 0.5, 'subsample': 0.8, 'learning_rate': 0.01, 'max_depth': 10, 'num_leaves': 10, 'min_child_samples': 300, 'min_data_per_groups': 32}. Best is trial 11 with value: 0.2603734246413548.\u001b[0m\n",
            "<ipython-input-128-d05a9eb7c24f>:8: FutureWarning: suggest_loguniform has been deprecated in v3.0.0. This feature will be removed in v6.0.0. See https://github.com/optuna/optuna/releases/tag/v3.0.0. Use :func:`~optuna.trial.Trial.suggest_float` instead.\n",
            "  'reg_alpha': trial.suggest_loguniform('reg_alpha', 1e-3, 10.0),\n",
            "<ipython-input-128-d05a9eb7c24f>:9: FutureWarning: suggest_loguniform has been deprecated in v3.0.0. This feature will be removed in v6.0.0. See https://github.com/optuna/optuna/releases/tag/v3.0.0. Use :func:`~optuna.trial.Trial.suggest_float` instead.\n",
            "  'reg_lambda': trial.suggest_loguniform('reg_lambda', 1e-3, 10.0),\n",
            "\u001b[32m[I 2022-12-10 22:03:23,035]\u001b[0m Trial 14 finished with value: 0.2605186228310382 and parameters: {'reg_alpha': 1.234460119691495, 'reg_lambda': 0.01571033683178547, 'colsample_bytree': 0.5, 'subsample': 0.8, 'learning_rate': 0.017, 'max_depth': 20, 'num_leaves': 12, 'min_child_samples': 242, 'min_data_per_groups': 5}. Best is trial 11 with value: 0.2603734246413548.\u001b[0m\n",
            "<ipython-input-128-d05a9eb7c24f>:8: FutureWarning: suggest_loguniform has been deprecated in v3.0.0. This feature will be removed in v6.0.0. See https://github.com/optuna/optuna/releases/tag/v3.0.0. Use :func:`~optuna.trial.Trial.suggest_float` instead.\n",
            "  'reg_alpha': trial.suggest_loguniform('reg_alpha', 1e-3, 10.0),\n",
            "<ipython-input-128-d05a9eb7c24f>:9: FutureWarning: suggest_loguniform has been deprecated in v3.0.0. This feature will be removed in v6.0.0. See https://github.com/optuna/optuna/releases/tag/v3.0.0. Use :func:`~optuna.trial.Trial.suggest_float` instead.\n",
            "  'reg_lambda': trial.suggest_loguniform('reg_lambda', 1e-3, 10.0),\n",
            "\u001b[32m[I 2022-12-10 22:04:36,119]\u001b[0m Trial 15 finished with value: 0.2608119287770957 and parameters: {'reg_alpha': 0.10006607190460498, 'reg_lambda': 0.030007603103034446, 'colsample_bytree': 0.8, 'subsample': 0.8, 'learning_rate': 0.014, 'max_depth': 100, 'num_leaves': 386, 'min_child_samples': 251, 'min_data_per_groups': 35}. Best is trial 11 with value: 0.2603734246413548.\u001b[0m\n",
            "<ipython-input-128-d05a9eb7c24f>:8: FutureWarning: suggest_loguniform has been deprecated in v3.0.0. This feature will be removed in v6.0.0. See https://github.com/optuna/optuna/releases/tag/v3.0.0. Use :func:`~optuna.trial.Trial.suggest_float` instead.\n",
            "  'reg_alpha': trial.suggest_loguniform('reg_alpha', 1e-3, 10.0),\n",
            "<ipython-input-128-d05a9eb7c24f>:9: FutureWarning: suggest_loguniform has been deprecated in v3.0.0. This feature will be removed in v6.0.0. See https://github.com/optuna/optuna/releases/tag/v3.0.0. Use :func:`~optuna.trial.Trial.suggest_float` instead.\n",
            "  'reg_lambda': trial.suggest_loguniform('reg_lambda', 1e-3, 10.0),\n",
            "\u001b[32m[I 2022-12-10 22:05:18,032]\u001b[0m Trial 16 finished with value: 0.2605638655799169 and parameters: {'reg_alpha': 0.10234473548008925, 'reg_lambda': 0.007470620592493082, 'colsample_bytree': 0.5, 'subsample': 0.4, 'learning_rate': 0.02, 'max_depth': 10, 'num_leaves': 7, 'min_child_samples': 249, 'min_data_per_groups': 60}. Best is trial 11 with value: 0.2603734246413548.\u001b[0m\n",
            "<ipython-input-128-d05a9eb7c24f>:8: FutureWarning: suggest_loguniform has been deprecated in v3.0.0. This feature will be removed in v6.0.0. See https://github.com/optuna/optuna/releases/tag/v3.0.0. Use :func:`~optuna.trial.Trial.suggest_float` instead.\n",
            "  'reg_alpha': trial.suggest_loguniform('reg_alpha', 1e-3, 10.0),\n",
            "<ipython-input-128-d05a9eb7c24f>:9: FutureWarning: suggest_loguniform has been deprecated in v3.0.0. This feature will be removed in v6.0.0. See https://github.com/optuna/optuna/releases/tag/v3.0.0. Use :func:`~optuna.trial.Trial.suggest_float` instead.\n",
            "  'reg_lambda': trial.suggest_loguniform('reg_lambda', 1e-3, 10.0),\n",
            "\u001b[32m[I 2022-12-10 22:06:48,569]\u001b[0m Trial 17 finished with value: 0.2604068889348093 and parameters: {'reg_alpha': 1.0801009815921938, 'reg_lambda': 0.12503109117746447, 'colsample_bytree': 0.5, 'subsample': 0.7, 'learning_rate': 0.008, 'max_depth': 10, 'num_leaves': 205, 'min_child_samples': 221, 'min_data_per_groups': 19}. Best is trial 11 with value: 0.2603734246413548.\u001b[0m\n",
            "<ipython-input-128-d05a9eb7c24f>:8: FutureWarning: suggest_loguniform has been deprecated in v3.0.0. This feature will be removed in v6.0.0. See https://github.com/optuna/optuna/releases/tag/v3.0.0. Use :func:`~optuna.trial.Trial.suggest_float` instead.\n",
            "  'reg_alpha': trial.suggest_loguniform('reg_alpha', 1e-3, 10.0),\n",
            "<ipython-input-128-d05a9eb7c24f>:9: FutureWarning: suggest_loguniform has been deprecated in v3.0.0. This feature will be removed in v6.0.0. See https://github.com/optuna/optuna/releases/tag/v3.0.0. Use :func:`~optuna.trial.Trial.suggest_float` instead.\n",
            "  'reg_lambda': trial.suggest_loguniform('reg_lambda', 1e-3, 10.0),\n",
            "\u001b[32m[I 2022-12-10 22:08:39,072]\u001b[0m Trial 18 finished with value: 0.260632903083871 and parameters: {'reg_alpha': 0.20560115377262808, 'reg_lambda': 0.05761275610550877, 'colsample_bytree': 0.5, 'subsample': 1.0, 'learning_rate': 0.008, 'max_depth': 100, 'num_leaves': 755, 'min_child_samples': 273, 'min_data_per_groups': 47}. Best is trial 11 with value: 0.2603734246413548.\u001b[0m\n",
            "<ipython-input-128-d05a9eb7c24f>:8: FutureWarning: suggest_loguniform has been deprecated in v3.0.0. This feature will be removed in v6.0.0. See https://github.com/optuna/optuna/releases/tag/v3.0.0. Use :func:`~optuna.trial.Trial.suggest_float` instead.\n",
            "  'reg_alpha': trial.suggest_loguniform('reg_alpha', 1e-3, 10.0),\n",
            "<ipython-input-128-d05a9eb7c24f>:9: FutureWarning: suggest_loguniform has been deprecated in v3.0.0. This feature will be removed in v6.0.0. See https://github.com/optuna/optuna/releases/tag/v3.0.0. Use :func:`~optuna.trial.Trial.suggest_float` instead.\n",
            "  'reg_lambda': trial.suggest_loguniform('reg_lambda', 1e-3, 10.0),\n",
            "\u001b[32m[I 2022-12-10 22:10:13,475]\u001b[0m Trial 19 finished with value: 0.2606174216160948 and parameters: {'reg_alpha': 2.8248534128754375, 'reg_lambda': 0.009452359115539004, 'colsample_bytree': 0.4, 'subsample': 0.8, 'learning_rate': 0.008, 'max_depth': 20, 'num_leaves': 444, 'min_child_samples': 176, 'min_data_per_groups': 32}. Best is trial 11 with value: 0.2603734246413548.\u001b[0m\n",
            "<ipython-input-128-d05a9eb7c24f>:8: FutureWarning: suggest_loguniform has been deprecated in v3.0.0. This feature will be removed in v6.0.0. See https://github.com/optuna/optuna/releases/tag/v3.0.0. Use :func:`~optuna.trial.Trial.suggest_float` instead.\n",
            "  'reg_alpha': trial.suggest_loguniform('reg_alpha', 1e-3, 10.0),\n",
            "<ipython-input-128-d05a9eb7c24f>:9: FutureWarning: suggest_loguniform has been deprecated in v3.0.0. This feature will be removed in v6.0.0. See https://github.com/optuna/optuna/releases/tag/v3.0.0. Use :func:`~optuna.trial.Trial.suggest_float` instead.\n",
            "  'reg_lambda': trial.suggest_loguniform('reg_lambda', 1e-3, 10.0),\n",
            "\u001b[32m[I 2022-12-10 22:11:09,285]\u001b[0m Trial 20 finished with value: 0.260535838227615 and parameters: {'reg_alpha': 8.292229731300791, 'reg_lambda': 0.28406342519071937, 'colsample_bytree': 0.9, 'subsample': 0.8, 'learning_rate': 0.017, 'max_depth': 100, 'num_leaves': 107, 'min_child_samples': 268, 'min_data_per_groups': 57}. Best is trial 11 with value: 0.2603734246413548.\u001b[0m\n",
            "<ipython-input-128-d05a9eb7c24f>:8: FutureWarning: suggest_loguniform has been deprecated in v3.0.0. This feature will be removed in v6.0.0. See https://github.com/optuna/optuna/releases/tag/v3.0.0. Use :func:`~optuna.trial.Trial.suggest_float` instead.\n",
            "  'reg_alpha': trial.suggest_loguniform('reg_alpha', 1e-3, 10.0),\n",
            "<ipython-input-128-d05a9eb7c24f>:9: FutureWarning: suggest_loguniform has been deprecated in v3.0.0. This feature will be removed in v6.0.0. See https://github.com/optuna/optuna/releases/tag/v3.0.0. Use :func:`~optuna.trial.Trial.suggest_float` instead.\n",
            "  'reg_lambda': trial.suggest_loguniform('reg_lambda', 1e-3, 10.0),\n",
            "\u001b[32m[I 2022-12-10 22:12:24,972]\u001b[0m Trial 21 finished with value: 0.26046383346571994 and parameters: {'reg_alpha': 0.9874923686193542, 'reg_lambda': 0.24979900782541867, 'colsample_bytree': 0.5, 'subsample': 0.7, 'learning_rate': 0.008, 'max_depth': 10, 'num_leaves': 240, 'min_child_samples': 225, 'min_data_per_groups': 17}. Best is trial 11 with value: 0.2603734246413548.\u001b[0m\n",
            "<ipython-input-128-d05a9eb7c24f>:8: FutureWarning: suggest_loguniform has been deprecated in v3.0.0. This feature will be removed in v6.0.0. See https://github.com/optuna/optuna/releases/tag/v3.0.0. Use :func:`~optuna.trial.Trial.suggest_float` instead.\n",
            "  'reg_alpha': trial.suggest_loguniform('reg_alpha', 1e-3, 10.0),\n",
            "<ipython-input-128-d05a9eb7c24f>:9: FutureWarning: suggest_loguniform has been deprecated in v3.0.0. This feature will be removed in v6.0.0. See https://github.com/optuna/optuna/releases/tag/v3.0.0. Use :func:`~optuna.trial.Trial.suggest_float` instead.\n",
            "  'reg_lambda': trial.suggest_loguniform('reg_lambda', 1e-3, 10.0),\n",
            "\u001b[32m[I 2022-12-10 22:13:41,197]\u001b[0m Trial 22 finished with value: 0.26050625622679363 and parameters: {'reg_alpha': 0.8452278745899107, 'reg_lambda': 0.037146741817773755, 'colsample_bytree': 0.5, 'subsample': 0.7, 'learning_rate': 0.008, 'max_depth': 10, 'num_leaves': 228, 'min_child_samples': 215, 'min_data_per_groups': 12}. Best is trial 11 with value: 0.2603734246413548.\u001b[0m\n",
            "<ipython-input-128-d05a9eb7c24f>:8: FutureWarning: suggest_loguniform has been deprecated in v3.0.0. This feature will be removed in v6.0.0. See https://github.com/optuna/optuna/releases/tag/v3.0.0. Use :func:`~optuna.trial.Trial.suggest_float` instead.\n",
            "  'reg_alpha': trial.suggest_loguniform('reg_alpha', 1e-3, 10.0),\n",
            "<ipython-input-128-d05a9eb7c24f>:9: FutureWarning: suggest_loguniform has been deprecated in v3.0.0. This feature will be removed in v6.0.0. See https://github.com/optuna/optuna/releases/tag/v3.0.0. Use :func:`~optuna.trial.Trial.suggest_float` instead.\n",
            "  'reg_lambda': trial.suggest_loguniform('reg_lambda', 1e-3, 10.0),\n",
            "\u001b[32m[I 2022-12-10 22:14:57,254]\u001b[0m Trial 23 finished with value: 0.26040058745025163 and parameters: {'reg_alpha': 0.5841405449780438, 'reg_lambda': 0.08848715802375386, 'colsample_bytree': 0.5, 'subsample': 0.7, 'learning_rate': 0.008, 'max_depth': 10, 'num_leaves': 71, 'min_child_samples': 271, 'min_data_per_groups': 38}. Best is trial 11 with value: 0.2603734246413548.\u001b[0m\n",
            "<ipython-input-128-d05a9eb7c24f>:8: FutureWarning: suggest_loguniform has been deprecated in v3.0.0. This feature will be removed in v6.0.0. See https://github.com/optuna/optuna/releases/tag/v3.0.0. Use :func:`~optuna.trial.Trial.suggest_float` instead.\n",
            "  'reg_alpha': trial.suggest_loguniform('reg_alpha', 1e-3, 10.0),\n",
            "<ipython-input-128-d05a9eb7c24f>:9: FutureWarning: suggest_loguniform has been deprecated in v3.0.0. This feature will be removed in v6.0.0. See https://github.com/optuna/optuna/releases/tag/v3.0.0. Use :func:`~optuna.trial.Trial.suggest_float` instead.\n",
            "  'reg_lambda': trial.suggest_loguniform('reg_lambda', 1e-3, 10.0),\n",
            "\u001b[32m[I 2022-12-10 22:16:31,052]\u001b[0m Trial 24 finished with value: 0.2606219126788106 and parameters: {'reg_alpha': 0.18776038999352065, 'reg_lambda': 0.027021168975587647, 'colsample_bytree': 1.0, 'subsample': 0.7, 'learning_rate': 0.008, 'max_depth': 10, 'num_leaves': 93, 'min_child_samples': 277, 'min_data_per_groups': 38}. Best is trial 11 with value: 0.2603734246413548.\u001b[0m\n",
            "<ipython-input-128-d05a9eb7c24f>:8: FutureWarning: suggest_loguniform has been deprecated in v3.0.0. This feature will be removed in v6.0.0. See https://github.com/optuna/optuna/releases/tag/v3.0.0. Use :func:`~optuna.trial.Trial.suggest_float` instead.\n",
            "  'reg_alpha': trial.suggest_loguniform('reg_alpha', 1e-3, 10.0),\n",
            "<ipython-input-128-d05a9eb7c24f>:9: FutureWarning: suggest_loguniform has been deprecated in v3.0.0. This feature will be removed in v6.0.0. See https://github.com/optuna/optuna/releases/tag/v3.0.0. Use :func:`~optuna.trial.Trial.suggest_float` instead.\n",
            "  'reg_lambda': trial.suggest_loguniform('reg_lambda', 1e-3, 10.0),\n",
            "\u001b[32m[I 2022-12-10 22:17:07,341]\u001b[0m Trial 25 finished with value: 0.26049419545389374 and parameters: {'reg_alpha': 0.04463658452875634, 'reg_lambda': 0.005995972302646129, 'colsample_bytree': 0.8, 'subsample': 0.8, 'learning_rate': 0.02, 'max_depth': 10, 'num_leaves': 60, 'min_child_samples': 266, 'min_data_per_groups': 30}. Best is trial 11 with value: 0.2603734246413548.\u001b[0m\n",
            "<ipython-input-128-d05a9eb7c24f>:8: FutureWarning: suggest_loguniform has been deprecated in v3.0.0. This feature will be removed in v6.0.0. See https://github.com/optuna/optuna/releases/tag/v3.0.0. Use :func:`~optuna.trial.Trial.suggest_float` instead.\n",
            "  'reg_alpha': trial.suggest_loguniform('reg_alpha', 1e-3, 10.0),\n",
            "<ipython-input-128-d05a9eb7c24f>:9: FutureWarning: suggest_loguniform has been deprecated in v3.0.0. This feature will be removed in v6.0.0. See https://github.com/optuna/optuna/releases/tag/v3.0.0. Use :func:`~optuna.trial.Trial.suggest_float` instead.\n",
            "  'reg_lambda': trial.suggest_loguniform('reg_lambda', 1e-3, 10.0),\n",
            "\u001b[32m[I 2022-12-10 22:18:27,722]\u001b[0m Trial 26 finished with value: 0.26041182337762286 and parameters: {'reg_alpha': 2.3365132442798484, 'reg_lambda': 0.0828585027402932, 'colsample_bytree': 0.5, 'subsample': 0.4, 'learning_rate': 0.01, 'max_depth': 10, 'num_leaves': 84, 'min_child_samples': 291, 'min_data_per_groups': 44}. Best is trial 11 with value: 0.2603734246413548.\u001b[0m\n",
            "<ipython-input-128-d05a9eb7c24f>:8: FutureWarning: suggest_loguniform has been deprecated in v3.0.0. This feature will be removed in v6.0.0. See https://github.com/optuna/optuna/releases/tag/v3.0.0. Use :func:`~optuna.trial.Trial.suggest_float` instead.\n",
            "  'reg_alpha': trial.suggest_loguniform('reg_alpha', 1e-3, 10.0),\n",
            "<ipython-input-128-d05a9eb7c24f>:9: FutureWarning: suggest_loguniform has been deprecated in v3.0.0. This feature will be removed in v6.0.0. See https://github.com/optuna/optuna/releases/tag/v3.0.0. Use :func:`~optuna.trial.Trial.suggest_float` instead.\n",
            "  'reg_lambda': trial.suggest_loguniform('reg_lambda', 1e-3, 10.0),\n",
            "\u001b[32m[I 2022-12-10 22:20:25,641]\u001b[0m Trial 27 finished with value: 0.2606460697834502 and parameters: {'reg_alpha': 0.5754877467688373, 'reg_lambda': 0.01795388742317299, 'colsample_bytree': 0.5, 'subsample': 1.0, 'learning_rate': 0.006, 'max_depth': 100, 'num_leaves': 283, 'min_child_samples': 241, 'min_data_per_groups': 26}. Best is trial 11 with value: 0.2603734246413548.\u001b[0m\n",
            "<ipython-input-128-d05a9eb7c24f>:8: FutureWarning: suggest_loguniform has been deprecated in v3.0.0. This feature will be removed in v6.0.0. See https://github.com/optuna/optuna/releases/tag/v3.0.0. Use :func:`~optuna.trial.Trial.suggest_float` instead.\n",
            "  'reg_alpha': trial.suggest_loguniform('reg_alpha', 1e-3, 10.0),\n",
            "<ipython-input-128-d05a9eb7c24f>:9: FutureWarning: suggest_loguniform has been deprecated in v3.0.0. This feature will be removed in v6.0.0. See https://github.com/optuna/optuna/releases/tag/v3.0.0. Use :func:`~optuna.trial.Trial.suggest_float` instead.\n",
            "  'reg_lambda': trial.suggest_loguniform('reg_lambda', 1e-3, 10.0),\n",
            "\u001b[32m[I 2022-12-10 22:21:16,481]\u001b[0m Trial 28 finished with value: 0.2605226488230775 and parameters: {'reg_alpha': 0.15400821285960908, 'reg_lambda': 0.17973063479946616, 'colsample_bytree': 0.5, 'subsample': 0.7, 'learning_rate': 0.014, 'max_depth': 10, 'num_leaves': 177, 'min_child_samples': 191, 'min_data_per_groups': 72}. Best is trial 11 with value: 0.2603734246413548.\u001b[0m\n",
            "<ipython-input-128-d05a9eb7c24f>:8: FutureWarning: suggest_loguniform has been deprecated in v3.0.0. This feature will be removed in v6.0.0. See https://github.com/optuna/optuna/releases/tag/v3.0.0. Use :func:`~optuna.trial.Trial.suggest_float` instead.\n",
            "  'reg_alpha': trial.suggest_loguniform('reg_alpha', 1e-3, 10.0),\n",
            "<ipython-input-128-d05a9eb7c24f>:9: FutureWarning: suggest_loguniform has been deprecated in v3.0.0. This feature will be removed in v6.0.0. See https://github.com/optuna/optuna/releases/tag/v3.0.0. Use :func:`~optuna.trial.Trial.suggest_float` instead.\n",
            "  'reg_lambda': trial.suggest_loguniform('reg_lambda', 1e-3, 10.0),\n",
            "\u001b[32m[I 2022-12-10 22:22:51,028]\u001b[0m Trial 29 finished with value: 0.2605998516644792 and parameters: {'reg_alpha': 0.05700356497608355, 'reg_lambda': 0.41324005899208804, 'colsample_bytree': 0.5, 'subsample': 0.8, 'learning_rate': 0.008, 'max_depth': 20, 'num_leaves': 317, 'min_child_samples': 287, 'min_data_per_groups': 57}. Best is trial 11 with value: 0.2603734246413548.\u001b[0m\n",
            "<ipython-input-128-d05a9eb7c24f>:8: FutureWarning: suggest_loguniform has been deprecated in v3.0.0. This feature will be removed in v6.0.0. See https://github.com/optuna/optuna/releases/tag/v3.0.0. Use :func:`~optuna.trial.Trial.suggest_float` instead.\n",
            "  'reg_alpha': trial.suggest_loguniform('reg_alpha', 1e-3, 10.0),\n",
            "<ipython-input-128-d05a9eb7c24f>:9: FutureWarning: suggest_loguniform has been deprecated in v3.0.0. This feature will be removed in v6.0.0. See https://github.com/optuna/optuna/releases/tag/v3.0.0. Use :func:`~optuna.trial.Trial.suggest_float` instead.\n",
            "  'reg_lambda': trial.suggest_loguniform('reg_lambda', 1e-3, 10.0),\n",
            "\u001b[32m[I 2022-12-10 22:24:07,356]\u001b[0m Trial 30 finished with value: 0.2603741031977874 and parameters: {'reg_alpha': 0.02022385441569948, 'reg_lambda': 4.071559478180638, 'colsample_bytree': 0.9, 'subsample': 0.8, 'learning_rate': 0.008, 'max_depth': 10, 'num_leaves': 58, 'min_child_samples': 120, 'min_data_per_groups': 50}. Best is trial 11 with value: 0.2603734246413548.\u001b[0m\n",
            "<ipython-input-128-d05a9eb7c24f>:8: FutureWarning: suggest_loguniform has been deprecated in v3.0.0. This feature will be removed in v6.0.0. See https://github.com/optuna/optuna/releases/tag/v3.0.0. Use :func:`~optuna.trial.Trial.suggest_float` instead.\n",
            "  'reg_alpha': trial.suggest_loguniform('reg_alpha', 1e-3, 10.0),\n",
            "<ipython-input-128-d05a9eb7c24f>:9: FutureWarning: suggest_loguniform has been deprecated in v3.0.0. This feature will be removed in v6.0.0. See https://github.com/optuna/optuna/releases/tag/v3.0.0. Use :func:`~optuna.trial.Trial.suggest_float` instead.\n",
            "  'reg_lambda': trial.suggest_loguniform('reg_lambda', 1e-3, 10.0),\n",
            "\u001b[32m[I 2022-12-10 22:25:24,465]\u001b[0m Trial 31 finished with value: 0.26037199155111684 and parameters: {'reg_alpha': 0.019996235152587555, 'reg_lambda': 9.086831662366182, 'colsample_bytree': 0.9, 'subsample': 0.8, 'learning_rate': 0.008, 'max_depth': 10, 'num_leaves': 60, 'min_child_samples': 129, 'min_data_per_groups': 51}. Best is trial 31 with value: 0.26037199155111684.\u001b[0m\n",
            "<ipython-input-128-d05a9eb7c24f>:8: FutureWarning: suggest_loguniform has been deprecated in v3.0.0. This feature will be removed in v6.0.0. See https://github.com/optuna/optuna/releases/tag/v3.0.0. Use :func:`~optuna.trial.Trial.suggest_float` instead.\n",
            "  'reg_alpha': trial.suggest_loguniform('reg_alpha', 1e-3, 10.0),\n",
            "<ipython-input-128-d05a9eb7c24f>:9: FutureWarning: suggest_loguniform has been deprecated in v3.0.0. This feature will be removed in v6.0.0. See https://github.com/optuna/optuna/releases/tag/v3.0.0. Use :func:`~optuna.trial.Trial.suggest_float` instead.\n",
            "  'reg_lambda': trial.suggest_loguniform('reg_lambda', 1e-3, 10.0),\n",
            "\u001b[32m[I 2022-12-10 22:27:04,277]\u001b[0m Trial 32 finished with value: 0.2604342904150593 and parameters: {'reg_alpha': 0.011752526793780261, 'reg_lambda': 9.42398140160937, 'colsample_bytree': 0.9, 'subsample': 0.8, 'learning_rate': 0.008, 'max_depth': 10, 'num_leaves': 12, 'min_child_samples': 127, 'min_data_per_groups': 47}. Best is trial 31 with value: 0.26037199155111684.\u001b[0m\n",
            "<ipython-input-128-d05a9eb7c24f>:8: FutureWarning: suggest_loguniform has been deprecated in v3.0.0. This feature will be removed in v6.0.0. See https://github.com/optuna/optuna/releases/tag/v3.0.0. Use :func:`~optuna.trial.Trial.suggest_float` instead.\n",
            "  'reg_alpha': trial.suggest_loguniform('reg_alpha', 1e-3, 10.0),\n",
            "<ipython-input-128-d05a9eb7c24f>:9: FutureWarning: suggest_loguniform has been deprecated in v3.0.0. This feature will be removed in v6.0.0. See https://github.com/optuna/optuna/releases/tag/v3.0.0. Use :func:`~optuna.trial.Trial.suggest_float` instead.\n",
            "  'reg_lambda': trial.suggest_loguniform('reg_lambda', 1e-3, 10.0),\n",
            "\u001b[32m[I 2022-12-10 22:28:30,996]\u001b[0m Trial 33 finished with value: 0.26081163060635115 and parameters: {'reg_alpha': 0.020973271079380358, 'reg_lambda': 2.53501768649014, 'colsample_bytree': 0.9, 'subsample': 0.8, 'learning_rate': 0.008, 'max_depth': 10, 'num_leaves': 160, 'min_child_samples': 109, 'min_data_per_groups': 56}. Best is trial 31 with value: 0.26037199155111684.\u001b[0m\n",
            "<ipython-input-128-d05a9eb7c24f>:8: FutureWarning: suggest_loguniform has been deprecated in v3.0.0. This feature will be removed in v6.0.0. See https://github.com/optuna/optuna/releases/tag/v3.0.0. Use :func:`~optuna.trial.Trial.suggest_float` instead.\n",
            "  'reg_alpha': trial.suggest_loguniform('reg_alpha', 1e-3, 10.0),\n",
            "<ipython-input-128-d05a9eb7c24f>:9: FutureWarning: suggest_loguniform has been deprecated in v3.0.0. This feature will be removed in v6.0.0. See https://github.com/optuna/optuna/releases/tag/v3.0.0. Use :func:`~optuna.trial.Trial.suggest_float` instead.\n",
            "  'reg_lambda': trial.suggest_loguniform('reg_lambda', 1e-3, 10.0),\n",
            "\u001b[32m[I 2022-12-10 22:30:05,935]\u001b[0m Trial 34 finished with value: 0.2608048387878028 and parameters: {'reg_alpha': 0.0033118037485020224, 'reg_lambda': 4.969380737719227, 'colsample_bytree': 0.9, 'subsample': 0.8, 'learning_rate': 0.008, 'max_depth': 10, 'num_leaves': 360, 'min_child_samples': 168, 'min_data_per_groups': 49}. Best is trial 31 with value: 0.26037199155111684.\u001b[0m\n",
            "<ipython-input-128-d05a9eb7c24f>:8: FutureWarning: suggest_loguniform has been deprecated in v3.0.0. This feature will be removed in v6.0.0. See https://github.com/optuna/optuna/releases/tag/v3.0.0. Use :func:`~optuna.trial.Trial.suggest_float` instead.\n",
            "  'reg_alpha': trial.suggest_loguniform('reg_alpha', 1e-3, 10.0),\n",
            "<ipython-input-128-d05a9eb7c24f>:9: FutureWarning: suggest_loguniform has been deprecated in v3.0.0. This feature will be removed in v6.0.0. See https://github.com/optuna/optuna/releases/tag/v3.0.0. Use :func:`~optuna.trial.Trial.suggest_float` instead.\n",
            "  'reg_lambda': trial.suggest_loguniform('reg_lambda', 1e-3, 10.0),\n",
            "\u001b[32m[I 2022-12-10 22:31:55,504]\u001b[0m Trial 35 finished with value: 0.26040739608536606 and parameters: {'reg_alpha': 0.015351100060851015, 'reg_lambda': 1.848481280702701, 'colsample_bytree': 0.9, 'subsample': 0.8, 'learning_rate': 0.006, 'max_depth': 10, 'num_leaves': 64, 'min_child_samples': 160, 'min_data_per_groups': 65}. Best is trial 31 with value: 0.26037199155111684.\u001b[0m\n",
            "<ipython-input-128-d05a9eb7c24f>:8: FutureWarning: suggest_loguniform has been deprecated in v3.0.0. This feature will be removed in v6.0.0. See https://github.com/optuna/optuna/releases/tag/v3.0.0. Use :func:`~optuna.trial.Trial.suggest_float` instead.\n",
            "  'reg_alpha': trial.suggest_loguniform('reg_alpha', 1e-3, 10.0),\n",
            "<ipython-input-128-d05a9eb7c24f>:9: FutureWarning: suggest_loguniform has been deprecated in v3.0.0. This feature will be removed in v6.0.0. See https://github.com/optuna/optuna/releases/tag/v3.0.0. Use :func:`~optuna.trial.Trial.suggest_float` instead.\n",
            "  'reg_lambda': trial.suggest_loguniform('reg_lambda', 1e-3, 10.0),\n",
            "\u001b[32m[I 2022-12-10 22:33:13,676]\u001b[0m Trial 36 finished with value: 0.2606543142015806 and parameters: {'reg_alpha': 0.004983088895484112, 'reg_lambda': 5.964640995836456, 'colsample_bytree': 0.9, 'subsample': 0.8, 'learning_rate': 0.008, 'max_depth': 10, 'num_leaves': 134, 'min_child_samples': 131, 'min_data_per_groups': 74}. Best is trial 31 with value: 0.26037199155111684.\u001b[0m\n",
            "<ipython-input-128-d05a9eb7c24f>:8: FutureWarning: suggest_loguniform has been deprecated in v3.0.0. This feature will be removed in v6.0.0. See https://github.com/optuna/optuna/releases/tag/v3.0.0. Use :func:`~optuna.trial.Trial.suggest_float` instead.\n",
            "  'reg_alpha': trial.suggest_loguniform('reg_alpha', 1e-3, 10.0),\n",
            "<ipython-input-128-d05a9eb7c24f>:9: FutureWarning: suggest_loguniform has been deprecated in v3.0.0. This feature will be removed in v6.0.0. See https://github.com/optuna/optuna/releases/tag/v3.0.0. Use :func:`~optuna.trial.Trial.suggest_float` instead.\n",
            "  'reg_lambda': trial.suggest_loguniform('reg_lambda', 1e-3, 10.0),\n",
            "\u001b[32m[I 2022-12-10 22:34:41,203]\u001b[0m Trial 37 finished with value: 0.2605882496363088 and parameters: {'reg_alpha': 0.0010310321605261372, 'reg_lambda': 0.7188997273308675, 'colsample_bytree': 0.6, 'subsample': 0.5, 'learning_rate': 0.008, 'max_depth': 10, 'num_leaves': 632, 'min_child_samples': 48, 'min_data_per_groups': 40}. Best is trial 31 with value: 0.26037199155111684.\u001b[0m\n",
            "<ipython-input-128-d05a9eb7c24f>:8: FutureWarning: suggest_loguniform has been deprecated in v3.0.0. This feature will be removed in v6.0.0. See https://github.com/optuna/optuna/releases/tag/v3.0.0. Use :func:`~optuna.trial.Trial.suggest_float` instead.\n",
            "  'reg_alpha': trial.suggest_loguniform('reg_alpha', 1e-3, 10.0),\n",
            "<ipython-input-128-d05a9eb7c24f>:9: FutureWarning: suggest_loguniform has been deprecated in v3.0.0. This feature will be removed in v6.0.0. See https://github.com/optuna/optuna/releases/tag/v3.0.0. Use :func:`~optuna.trial.Trial.suggest_float` instead.\n",
            "  'reg_lambda': trial.suggest_loguniform('reg_lambda', 1e-3, 10.0),\n",
            "\u001b[32m[I 2022-12-10 22:35:36,067]\u001b[0m Trial 38 finished with value: 0.26118801096286 and parameters: {'reg_alpha': 0.026763524942325225, 'reg_lambda': 3.394382339026297, 'colsample_bytree': 0.9, 'subsample': 0.8, 'learning_rate': 0.02, 'max_depth': 100, 'num_leaves': 523, 'min_child_samples': 53, 'min_data_per_groups': 52}. Best is trial 31 with value: 0.26037199155111684.\u001b[0m\n",
            "<ipython-input-128-d05a9eb7c24f>:8: FutureWarning: suggest_loguniform has been deprecated in v3.0.0. This feature will be removed in v6.0.0. See https://github.com/optuna/optuna/releases/tag/v3.0.0. Use :func:`~optuna.trial.Trial.suggest_float` instead.\n",
            "  'reg_alpha': trial.suggest_loguniform('reg_alpha', 1e-3, 10.0),\n",
            "<ipython-input-128-d05a9eb7c24f>:9: FutureWarning: suggest_loguniform has been deprecated in v3.0.0. This feature will be removed in v6.0.0. See https://github.com/optuna/optuna/releases/tag/v3.0.0. Use :func:`~optuna.trial.Trial.suggest_float` instead.\n",
            "  'reg_lambda': trial.suggest_loguniform('reg_lambda', 1e-3, 10.0),\n",
            "\u001b[32m[I 2022-12-10 22:36:46,135]\u001b[0m Trial 39 finished with value: 0.2602818261852917 and parameters: {'reg_alpha': 0.06277933961586747, 'reg_lambda': 1.751849103761535, 'colsample_bytree': 0.7, 'subsample': 0.6, 'learning_rate': 0.008, 'max_depth': 10, 'num_leaves': 52, 'min_child_samples': 110, 'min_data_per_groups': 25}. Best is trial 39 with value: 0.2602818261852917.\u001b[0m\n",
            "<ipython-input-128-d05a9eb7c24f>:8: FutureWarning: suggest_loguniform has been deprecated in v3.0.0. This feature will be removed in v6.0.0. See https://github.com/optuna/optuna/releases/tag/v3.0.0. Use :func:`~optuna.trial.Trial.suggest_float` instead.\n",
            "  'reg_alpha': trial.suggest_loguniform('reg_alpha', 1e-3, 10.0),\n",
            "<ipython-input-128-d05a9eb7c24f>:9: FutureWarning: suggest_loguniform has been deprecated in v3.0.0. This feature will be removed in v6.0.0. See https://github.com/optuna/optuna/releases/tag/v3.0.0. Use :func:`~optuna.trial.Trial.suggest_float` instead.\n",
            "  'reg_lambda': trial.suggest_loguniform('reg_lambda', 1e-3, 10.0),\n",
            "\u001b[32m[I 2022-12-10 22:37:41,011]\u001b[0m Trial 40 finished with value: 0.2606928718334305 and parameters: {'reg_alpha': 0.05112487396819861, 'reg_lambda': 1.6013151765372373, 'colsample_bytree': 0.7, 'subsample': 0.6, 'learning_rate': 0.014, 'max_depth': 10, 'num_leaves': 441, 'min_child_samples': 105, 'min_data_per_groups': 77}. Best is trial 39 with value: 0.2602818261852917.\u001b[0m\n",
            "<ipython-input-128-d05a9eb7c24f>:8: FutureWarning: suggest_loguniform has been deprecated in v3.0.0. This feature will be removed in v6.0.0. See https://github.com/optuna/optuna/releases/tag/v3.0.0. Use :func:`~optuna.trial.Trial.suggest_float` instead.\n",
            "  'reg_alpha': trial.suggest_loguniform('reg_alpha', 1e-3, 10.0),\n",
            "<ipython-input-128-d05a9eb7c24f>:9: FutureWarning: suggest_loguniform has been deprecated in v3.0.0. This feature will be removed in v6.0.0. See https://github.com/optuna/optuna/releases/tag/v3.0.0. Use :func:`~optuna.trial.Trial.suggest_float` instead.\n",
            "  'reg_lambda': trial.suggest_loguniform('reg_lambda', 1e-3, 10.0),\n",
            "\u001b[32m[I 2022-12-10 22:38:53,425]\u001b[0m Trial 41 finished with value: 0.26034843525657514 and parameters: {'reg_alpha': 0.007229171718764101, 'reg_lambda': 4.126768237402194, 'colsample_bytree': 0.7, 'subsample': 0.6, 'learning_rate': 0.008, 'max_depth': 10, 'num_leaves': 51, 'min_child_samples': 124, 'min_data_per_groups': 26}. Best is trial 39 with value: 0.2602818261852917.\u001b[0m\n",
            "<ipython-input-128-d05a9eb7c24f>:8: FutureWarning: suggest_loguniform has been deprecated in v3.0.0. This feature will be removed in v6.0.0. See https://github.com/optuna/optuna/releases/tag/v3.0.0. Use :func:`~optuna.trial.Trial.suggest_float` instead.\n",
            "  'reg_alpha': trial.suggest_loguniform('reg_alpha', 1e-3, 10.0),\n",
            "<ipython-input-128-d05a9eb7c24f>:9: FutureWarning: suggest_loguniform has been deprecated in v3.0.0. This feature will be removed in v6.0.0. See https://github.com/optuna/optuna/releases/tag/v3.0.0. Use :func:`~optuna.trial.Trial.suggest_float` instead.\n",
            "  'reg_lambda': trial.suggest_loguniform('reg_lambda', 1e-3, 10.0),\n",
            "\u001b[32m[I 2022-12-10 22:40:06,805]\u001b[0m Trial 42 finished with value: 0.2604508420023727 and parameters: {'reg_alpha': 0.00825900599879284, 'reg_lambda': 5.142351288116651, 'colsample_bytree': 0.7, 'subsample': 0.6, 'learning_rate': 0.008, 'max_depth': 10, 'num_leaves': 131, 'min_child_samples': 123, 'min_data_per_groups': 15}. Best is trial 39 with value: 0.2602818261852917.\u001b[0m\n",
            "<ipython-input-128-d05a9eb7c24f>:8: FutureWarning: suggest_loguniform has been deprecated in v3.0.0. This feature will be removed in v6.0.0. See https://github.com/optuna/optuna/releases/tag/v3.0.0. Use :func:`~optuna.trial.Trial.suggest_float` instead.\n",
            "  'reg_alpha': trial.suggest_loguniform('reg_alpha', 1e-3, 10.0),\n",
            "<ipython-input-128-d05a9eb7c24f>:9: FutureWarning: suggest_loguniform has been deprecated in v3.0.0. This feature will be removed in v6.0.0. See https://github.com/optuna/optuna/releases/tag/v3.0.0. Use :func:`~optuna.trial.Trial.suggest_float` instead.\n",
            "  'reg_lambda': trial.suggest_loguniform('reg_lambda', 1e-3, 10.0),\n",
            "\u001b[32m[I 2022-12-10 22:41:21,626]\u001b[0m Trial 43 finished with value: 0.26029117454674366 and parameters: {'reg_alpha': 0.005515320959369173, 'reg_lambda': 3.3300090725630604, 'colsample_bytree': 0.7, 'subsample': 0.6, 'learning_rate': 0.008, 'max_depth': 10, 'num_leaves': 61, 'min_child_samples': 150, 'min_data_per_groups': 21}. Best is trial 39 with value: 0.2602818261852917.\u001b[0m\n",
            "<ipython-input-128-d05a9eb7c24f>:8: FutureWarning: suggest_loguniform has been deprecated in v3.0.0. This feature will be removed in v6.0.0. See https://github.com/optuna/optuna/releases/tag/v3.0.0. Use :func:`~optuna.trial.Trial.suggest_float` instead.\n",
            "  'reg_alpha': trial.suggest_loguniform('reg_alpha', 1e-3, 10.0),\n",
            "<ipython-input-128-d05a9eb7c24f>:9: FutureWarning: suggest_loguniform has been deprecated in v3.0.0. This feature will be removed in v6.0.0. See https://github.com/optuna/optuna/releases/tag/v3.0.0. Use :func:`~optuna.trial.Trial.suggest_float` instead.\n",
            "  'reg_lambda': trial.suggest_loguniform('reg_lambda', 1e-3, 10.0),\n",
            "\u001b[32m[I 2022-12-10 22:42:45,660]\u001b[0m Trial 44 finished with value: 0.26065090069576247 and parameters: {'reg_alpha': 0.004715244876475837, 'reg_lambda': 0.6618752287188523, 'colsample_bytree': 0.7, 'subsample': 0.6, 'learning_rate': 0.008, 'max_depth': 10, 'num_leaves': 200, 'min_child_samples': 154, 'min_data_per_groups': 23}. Best is trial 39 with value: 0.2602818261852917.\u001b[0m\n",
            "<ipython-input-128-d05a9eb7c24f>:8: FutureWarning: suggest_loguniform has been deprecated in v3.0.0. This feature will be removed in v6.0.0. See https://github.com/optuna/optuna/releases/tag/v3.0.0. Use :func:`~optuna.trial.Trial.suggest_float` instead.\n",
            "  'reg_alpha': trial.suggest_loguniform('reg_alpha', 1e-3, 10.0),\n",
            "<ipython-input-128-d05a9eb7c24f>:9: FutureWarning: suggest_loguniform has been deprecated in v3.0.0. This feature will be removed in v6.0.0. See https://github.com/optuna/optuna/releases/tag/v3.0.0. Use :func:`~optuna.trial.Trial.suggest_float` instead.\n",
            "  'reg_lambda': trial.suggest_loguniform('reg_lambda', 1e-3, 10.0),\n",
            "\u001b[32m[I 2022-12-10 22:43:21,980]\u001b[0m Trial 45 finished with value: 0.2605140707602283 and parameters: {'reg_alpha': 0.0021053703067728867, 'reg_lambda': 2.063784746974131, 'colsample_bytree': 0.7, 'subsample': 0.6, 'learning_rate': 0.017, 'max_depth': 10, 'num_leaves': 113, 'min_child_samples': 86, 'min_data_per_groups': 10}. Best is trial 39 with value: 0.2602818261852917.\u001b[0m\n",
            "<ipython-input-128-d05a9eb7c24f>:8: FutureWarning: suggest_loguniform has been deprecated in v3.0.0. This feature will be removed in v6.0.0. See https://github.com/optuna/optuna/releases/tag/v3.0.0. Use :func:`~optuna.trial.Trial.suggest_float` instead.\n",
            "  'reg_alpha': trial.suggest_loguniform('reg_alpha', 1e-3, 10.0),\n",
            "<ipython-input-128-d05a9eb7c24f>:9: FutureWarning: suggest_loguniform has been deprecated in v3.0.0. This feature will be removed in v6.0.0. See https://github.com/optuna/optuna/releases/tag/v3.0.0. Use :func:`~optuna.trial.Trial.suggest_float` instead.\n",
            "  'reg_lambda': trial.suggest_loguniform('reg_lambda', 1e-3, 10.0),\n",
            "\u001b[32m[I 2022-12-10 22:44:18,076]\u001b[0m Trial 46 finished with value: 0.2604002493757388 and parameters: {'reg_alpha': 0.005563283946518263, 'reg_lambda': 7.064094964575743, 'colsample_bytree': 0.7, 'subsample': 0.6, 'learning_rate': 0.01, 'max_depth': 10, 'num_leaves': 46, 'min_child_samples': 146, 'min_data_per_groups': 24}. Best is trial 39 with value: 0.2602818261852917.\u001b[0m\n",
            "<ipython-input-128-d05a9eb7c24f>:8: FutureWarning: suggest_loguniform has been deprecated in v3.0.0. This feature will be removed in v6.0.0. See https://github.com/optuna/optuna/releases/tag/v3.0.0. Use :func:`~optuna.trial.Trial.suggest_float` instead.\n",
            "  'reg_alpha': trial.suggest_loguniform('reg_alpha', 1e-3, 10.0),\n",
            "<ipython-input-128-d05a9eb7c24f>:9: FutureWarning: suggest_loguniform has been deprecated in v3.0.0. This feature will be removed in v6.0.0. See https://github.com/optuna/optuna/releases/tag/v3.0.0. Use :func:`~optuna.trial.Trial.suggest_float` instead.\n",
            "  'reg_lambda': trial.suggest_loguniform('reg_lambda', 1e-3, 10.0),\n"
          ]
        }
      ]
    },
    {
      "cell_type": "markdown",
      "source": [
        "Final Implementation"
      ],
      "metadata": {
        "id": "E0QQZDJkQFoL"
      }
    },
    {
      "cell_type": "code",
      "source": [
        "# lgbm = LGBMClassifier(\n",
        "#        verbosity = -1,\n",
        "#        feature_pre_filter = False,\n",
        "#        lambda_l1= 0.0007099817067951657,\n",
        "#        lambda_l2= 2.2721620492879536e-07,\n",
        "#        num_leaves= 85,\n",
        "#        max_depth=7,\n",
        "#        feature_fraction= 0.4,\n",
        "#        bagging_fraction= 0.9938087600649544,\n",
        "#        bagging_freq= 1,\n",
        "#        min_child_samples= 20,\n",
        "#        learning_rate= 0.01,\n",
        "#        n_estimators= 1000,\n",
        "#        scale_pos_weight=5,\n",
        "#        objective='binary',\n",
        "#        metrics='auc',\n",
        "#        )\n",
        "\n",
        "\n",
        "# lgbm.fit(x_train, y_train)\n",
        "\n",
        "# y_pred_lgbm = lgbm.predict(x_validation)\n",
        "\n",
        "# lgbm_train_score = lgbm.score(x_train, y_train)\n",
        "# lgbm_validation_score= lgbm.score(x_validation, y_validation)\n",
        "\n",
        "# lgbm_acc = accuracy_score(y_pred_lgbm,y_validation)\n",
        "# lgbm_f1_score=f1_score(y_validation, y_pred_lgbm, average='macro')\n",
        "\n",
        "# pred_lgbm=lgbm.predict(test)\n",
        "# pred_lgbm"
      ],
      "metadata": {
        "id": "Z-sNAtHvgEWv",
        "colab": {
          "base_uri": "https://localhost:8080/"
        },
        "outputId": "ea464f1f-3001-4063-9597-4379fb9f0c9b"
      },
      "execution_count": null,
      "outputs": [
        {
          "output_type": "execute_result",
          "data": {
            "text/plain": [
              "array([0, 0, 0, ..., 0, 0, 0])"
            ]
          },
          "metadata": {},
          "execution_count": 111
        }
      ]
    },
    {
      "cell_type": "code",
      "source": [
        "# print('LGBMClassifier Train Score is : ' , lgbm_train_score)\n",
        "# print('LGBMClassifier Test Score is : ' , lgbm_validation_score)\n",
        "# print('LGBMClassifier Accuracy is : ', lgbm_acc)\n",
        "# print('LGBMClassifier F1 Score is : ', lgbm_f1_score)"
      ],
      "metadata": {
        "id": "BcsK0jSfhwQA",
        "colab": {
          "base_uri": "https://localhost:8080/"
        },
        "outputId": "d6d71045-7fab-457c-fd80-a4796a07a52a"
      },
      "execution_count": null,
      "outputs": [
        {
          "output_type": "stream",
          "name": "stdout",
          "text": [
            "LGBMClassifier Train Score is :  0.8996469331186026\n",
            "LGBMClassifier Test Score is :  0.8775834658187599\n",
            "LGBMClassifier Accuracy is :  0.8775834658187599\n",
            "LGBMClassifier F1 Score is :  0.6112259148713496\n"
          ]
        }
      ]
    },
    {
      "cell_type": "markdown",
      "source": [
        "#**SUMMARY**"
      ],
      "metadata": {
        "id": "Pn4tz0FohxJs"
      }
    },
    {
      "cell_type": "code",
      "execution_count": null,
      "metadata": {
        "id": "8VR4WpXFM9KG",
        "colab": {
          "base_uri": "https://localhost:8080/",
          "height": 112
        },
        "outputId": "5189aa27-fc09-4f80-ed42-9498a9e52337"
      },
      "outputs": [
        {
          "output_type": "execute_result",
          "data": {
            "text/plain": [
              "      Models  Accuracy Score  F1 Score\n",
              "0  Light GBM        0.877583  0.611226\n",
              "1        XGB        0.892687  0.588613"
            ],
            "text/html": [
              "\n",
              "  <div id=\"df-427180d3-9cb8-4dde-9747-ae068221baed\">\n",
              "    <div class=\"colab-df-container\">\n",
              "      <div>\n",
              "<style scoped>\n",
              "    .dataframe tbody tr th:only-of-type {\n",
              "        vertical-align: middle;\n",
              "    }\n",
              "\n",
              "    .dataframe tbody tr th {\n",
              "        vertical-align: top;\n",
              "    }\n",
              "\n",
              "    .dataframe thead th {\n",
              "        text-align: right;\n",
              "    }\n",
              "</style>\n",
              "<table border=\"1\" class=\"dataframe\">\n",
              "  <thead>\n",
              "    <tr style=\"text-align: right;\">\n",
              "      <th></th>\n",
              "      <th>Models</th>\n",
              "      <th>Accuracy Score</th>\n",
              "      <th>F1 Score</th>\n",
              "    </tr>\n",
              "  </thead>\n",
              "  <tbody>\n",
              "    <tr>\n",
              "      <th>0</th>\n",
              "      <td>Light GBM</td>\n",
              "      <td>0.877583</td>\n",
              "      <td>0.611226</td>\n",
              "    </tr>\n",
              "    <tr>\n",
              "      <th>1</th>\n",
              "      <td>XGB</td>\n",
              "      <td>0.892687</td>\n",
              "      <td>0.588613</td>\n",
              "    </tr>\n",
              "  </tbody>\n",
              "</table>\n",
              "</div>\n",
              "      <button class=\"colab-df-convert\" onclick=\"convertToInteractive('df-427180d3-9cb8-4dde-9747-ae068221baed')\"\n",
              "              title=\"Convert this dataframe to an interactive table.\"\n",
              "              style=\"display:none;\">\n",
              "        \n",
              "  <svg xmlns=\"http://www.w3.org/2000/svg\" height=\"24px\"viewBox=\"0 0 24 24\"\n",
              "       width=\"24px\">\n",
              "    <path d=\"M0 0h24v24H0V0z\" fill=\"none\"/>\n",
              "    <path d=\"M18.56 5.44l.94 2.06.94-2.06 2.06-.94-2.06-.94-.94-2.06-.94 2.06-2.06.94zm-11 1L8.5 8.5l.94-2.06 2.06-.94-2.06-.94L8.5 2.5l-.94 2.06-2.06.94zm10 10l.94 2.06.94-2.06 2.06-.94-2.06-.94-.94-2.06-.94 2.06-2.06.94z\"/><path d=\"M17.41 7.96l-1.37-1.37c-.4-.4-.92-.59-1.43-.59-.52 0-1.04.2-1.43.59L10.3 9.45l-7.72 7.72c-.78.78-.78 2.05 0 2.83L4 21.41c.39.39.9.59 1.41.59.51 0 1.02-.2 1.41-.59l7.78-7.78 2.81-2.81c.8-.78.8-2.07 0-2.86zM5.41 20L4 18.59l7.72-7.72 1.47 1.35L5.41 20z\"/>\n",
              "  </svg>\n",
              "      </button>\n",
              "      \n",
              "  <style>\n",
              "    .colab-df-container {\n",
              "      display:flex;\n",
              "      flex-wrap:wrap;\n",
              "      gap: 12px;\n",
              "    }\n",
              "\n",
              "    .colab-df-convert {\n",
              "      background-color: #E8F0FE;\n",
              "      border: none;\n",
              "      border-radius: 50%;\n",
              "      cursor: pointer;\n",
              "      display: none;\n",
              "      fill: #1967D2;\n",
              "      height: 32px;\n",
              "      padding: 0 0 0 0;\n",
              "      width: 32px;\n",
              "    }\n",
              "\n",
              "    .colab-df-convert:hover {\n",
              "      background-color: #E2EBFA;\n",
              "      box-shadow: 0px 1px 2px rgba(60, 64, 67, 0.3), 0px 1px 3px 1px rgba(60, 64, 67, 0.15);\n",
              "      fill: #174EA6;\n",
              "    }\n",
              "\n",
              "    [theme=dark] .colab-df-convert {\n",
              "      background-color: #3B4455;\n",
              "      fill: #D2E3FC;\n",
              "    }\n",
              "\n",
              "    [theme=dark] .colab-df-convert:hover {\n",
              "      background-color: #434B5C;\n",
              "      box-shadow: 0px 1px 3px 1px rgba(0, 0, 0, 0.15);\n",
              "      filter: drop-shadow(0px 1px 2px rgba(0, 0, 0, 0.3));\n",
              "      fill: #FFFFFF;\n",
              "    }\n",
              "  </style>\n",
              "\n",
              "      <script>\n",
              "        const buttonEl =\n",
              "          document.querySelector('#df-427180d3-9cb8-4dde-9747-ae068221baed button.colab-df-convert');\n",
              "        buttonEl.style.display =\n",
              "          google.colab.kernel.accessAllowed ? 'block' : 'none';\n",
              "\n",
              "        async function convertToInteractive(key) {\n",
              "          const element = document.querySelector('#df-427180d3-9cb8-4dde-9747-ae068221baed');\n",
              "          const dataTable =\n",
              "            await google.colab.kernel.invokeFunction('convertToInteractive',\n",
              "                                                     [key], {});\n",
              "          if (!dataTable) return;\n",
              "\n",
              "          const docLinkHtml = 'Like what you see? Visit the ' +\n",
              "            '<a target=\"_blank\" href=https://colab.research.google.com/notebooks/data_table.ipynb>data table notebook</a>'\n",
              "            + ' to learn more about interactive tables.';\n",
              "          element.innerHTML = '';\n",
              "          dataTable['output_type'] = 'display_data';\n",
              "          await google.colab.output.renderOutput(dataTable, element);\n",
              "          const docLink = document.createElement('div');\n",
              "          docLink.innerHTML = docLinkHtml;\n",
              "          element.appendChild(docLink);\n",
              "        }\n",
              "      </script>\n",
              "    </div>\n",
              "  </div>\n",
              "  "
            ]
          },
          "metadata": {},
          "execution_count": 113
        }
      ],
      "source": [
        "# data = {'Models':['Light GBM', 'XGB' ],\n",
        "#         'Accuracy Score':[lgbm_acc,xgb_acc],\n",
        "#         'F1 Score':[lgbm_f1_score,xgb_f1_score]}\n",
        "# compare=df = pd.DataFrame(data)\n",
        "# compare.sort_values(ascending= False , by = ['F1 Score'])"
      ]
    },
    {
      "cell_type": "code",
      "execution_count": null,
      "metadata": {
        "id": "RPVjYSsnNpBo"
      },
      "outputs": [],
      "source": [
        "# LR_Final = pd.DataFrame({ 'SK_ID_CURR': test_data['SK_ID_CURR'],'TARGET': pred_lr })\n",
        "# RF_Final = pd.DataFrame({ 'SK_ID_CURR': test_data['SK_ID_CURR'],'TARGET': pred_rf })\n",
        "# NB_Final = pd.DataFrame({ 'SK_ID_CURR': test_data['SK_ID_CURR'],'TARGET': pred_nb })\n",
        "# GB_Final = pd.DataFrame({ 'SK_ID_CURR': test_data['SK_ID_CURR'],'TARGET': pred_gb })\n",
        "# SVC_Final = pd.DataFrame({ 'SK_ID_CURR': test_data['SK_ID_CURR'],'TARGET': pred_svc })\n",
        "# ADB_Final = pd.DataFrame({ 'SK_ID_CURR': test_data['SK_ID_CURR'],'TARGET': pred_adb })\n",
        "# PERC_Final = pd.DataFrame({ 'SK_ID_CURR': test_data['SK_ID_CURR'],'TARGET': pred_perc })\n",
        "# DT_Final = pd.DataFrame({ 'SK_ID_CURR': test_data['SK_ID_CURR'],'TARGET': pred_dt })\n",
        "XGB_Final= pd.DataFrame({ 'SK_ID_CURR': test_data['SK_ID_CURR'],'TARGET': pred_xgb })\n",
        "LGBM_Final = pd.DataFrame({ 'SK_ID_CURR': test_data['SK_ID_CURR'],'TARGET': pred_lgbm })"
      ]
    },
    {
      "cell_type": "code",
      "execution_count": null,
      "metadata": {
        "id": "-XpvHvgNVVfE"
      },
      "outputs": [],
      "source": [
        "# LR_Final.TARGET.value_counts()"
      ]
    },
    {
      "cell_type": "code",
      "execution_count": null,
      "metadata": {
        "id": "HCb7axMUV80q"
      },
      "outputs": [],
      "source": [
        "# RF_Final.TARGET.value_counts()"
      ]
    },
    {
      "cell_type": "code",
      "execution_count": null,
      "metadata": {
        "id": "uy-9IoPyW8Bs"
      },
      "outputs": [],
      "source": [
        "# NB_Final.TARGET.value_counts()"
      ]
    },
    {
      "cell_type": "code",
      "source": [
        "# ADB_Final.TARGET.value_counts()"
      ],
      "metadata": {
        "id": "laTXFSGUoQ2X"
      },
      "execution_count": null,
      "outputs": []
    },
    {
      "cell_type": "code",
      "execution_count": null,
      "metadata": {
        "id": "R3fgKmWNXCae"
      },
      "outputs": [],
      "source": [
        "# DT_Final.TARGET.value_counts()"
      ]
    },
    {
      "cell_type": "code",
      "source": [
        "# GB_Final.TARGET.value_counts()"
      ],
      "metadata": {
        "id": "dvMS15FVoRfi"
      },
      "execution_count": null,
      "outputs": []
    },
    {
      "cell_type": "code",
      "source": [
        "# SVC_Final.TARGET.value_counts()"
      ],
      "metadata": {
        "id": "JtID2XXSsW6p"
      },
      "execution_count": null,
      "outputs": []
    },
    {
      "cell_type": "code",
      "source": [
        "# PERC_Final.TARGET.value_counts()"
      ],
      "metadata": {
        "id": "BOFahwBat6yo"
      },
      "execution_count": null,
      "outputs": []
    },
    {
      "cell_type": "code",
      "execution_count": null,
      "metadata": {
        "id": "R3sNdso7XA1H",
        "colab": {
          "base_uri": "https://localhost:8080/"
        },
        "outputId": "11bb3ac7-a21d-4e4e-ca74-55164c9706c7"
      },
      "outputs": [
        {
          "output_type": "execute_result",
          "data": {
            "text/plain": [
              "0    115503\n",
              "1      7502\n",
              "Name: TARGET, dtype: int64"
            ]
          },
          "metadata": {},
          "execution_count": 123
        }
      ],
      "source": [
        "XGB_Final.TARGET.value_counts()"
      ]
    },
    {
      "cell_type": "code",
      "source": [
        "LGBM_Final.TARGET.value_counts()"
      ],
      "metadata": {
        "id": "aEWw5iLsihoS",
        "colab": {
          "base_uri": "https://localhost:8080/"
        },
        "outputId": "3dff3d7d-cbff-46ba-c2c3-858b705feadf"
      },
      "execution_count": null,
      "outputs": [
        {
          "output_type": "execute_result",
          "data": {
            "text/plain": [
              "0    111774\n",
              "1     11231\n",
              "Name: TARGET, dtype: int64"
            ]
          },
          "metadata": {},
          "execution_count": 124
        }
      ]
    },
    {
      "cell_type": "code",
      "execution_count": null,
      "metadata": {
        "id": "CDUFoXzIWxXD"
      },
      "outputs": [],
      "source": [
        "# DT_Final.to_csv(\"DT_Final.csv\", index=False)\n",
        "# RF_Final.to_csv(\"RF_Final.csv\", index=False)\n",
        "# NB_Final.to_csv(\"NB_Final.csv\", index=False)\n",
        "# LR_Final.to_csv(\"LR_Final.csv\", index=False)\n",
        "# ADB_Final.to_csv(\"ADB_Final.csv\", index=False)\n",
        "# SVC_Final.to_csv(\"SVC_Final.csv\", index=False)\n",
        "# PERC_Final.to_csv(\"PERC_Final.csv\", index=False)\n",
        "# GB_Final.to_csv(\"GB_Final.csv\", index=False)\n",
        "\n",
        "XGB_Final.to_csv(\"XGB_Final.csv\", index=False)\n",
        "LGBM_Final.to_csv(\"LGBM_Final.csv\", index=False)"
      ]
    }
  ],
  "metadata": {
    "colab": {
      "provenance": []
    },
    "kernelspec": {
      "display_name": "Python 3",
      "name": "python3"
    },
    "language_info": {
      "name": "python"
    }
  },
  "nbformat": 4,
  "nbformat_minor": 0
}